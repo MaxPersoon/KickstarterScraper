{
 "cells": [
  {
   "cell_type": "code",
   "execution_count": 5,
   "metadata": {
    "collapsed": true
   },
   "outputs": [
    {
     "data": {
      "text/plain": "           success  Lamount  creator_gender  Lgoal  words  backers_count  \\\nprojectID                                                                  \n3731940          0    2.307               0  3.778     71              5   \n3451605          1    5.067               0  4.000    497           2003   \n3722583          0    1.447               0  3.778    443              6   \n3745862          1    3.266               1  3.176    474             48   \n3735376          1    3.000               1  3.000    130             17   \n...            ...      ...             ...    ...    ...            ...   \n4378823          1    4.797               0  4.447    837            232   \n4394019          1    4.045               0  4.000    167             80   \n4385597          1    4.403               0  4.398    138             73   \n4367598          1    3.626               1  3.602    304             94   \n4381119          1    4.047               1  3.046    208            116   \n\n           serial_entrepreneur  duration  category_art  category_comics  ...  \\\nprojectID                                                                ...   \n3731940                      0    60.000             0                0  ...   \n3451605                      1    14.583             0                0  ...   \n3722583                      0    30.000             0                1  ...   \n3745862                      0    39.687             0                0  ...   \n3735376                      0    25.990             0                0  ...   \n...                        ...       ...           ...              ...  ...   \n4378823                      1    30.000             0                0  ...   \n4394019                      0    26.377             0                0  ...   \n4385597                      0    14.147             0                0  ...   \n4367598                      0    36.538             0                0  ...   \n4381119                      1     8.885             0                0  ...   \n\n           category_photography  category_publishing  category_technology  \\\nprojectID                                                                   \n3731940                       0                    0                    1   \n3451605                       0                    0                    0   \n3722583                       0                    0                    0   \n3745862                       0                    0                    0   \n3735376                       0                    0                    0   \n...                         ...                  ...                  ...   \n4378823                       1                    0                    0   \n4394019                       0                    0                    0   \n4385597                       0                    0                    0   \n4367598                       0                    1                    0   \n4381119                       1                    0                    0   \n\n           category_theater  month  year  media  sustainability  \\\nprojectID                                                         \n3731940                   0      6  2019      0               0   \n3451605                   0      6  2019      1               0   \n3722583                   0      6  2019      1               0   \n3745862                   0      6  2019      1               0   \n3735376                   1      6  2019      0               0   \n...                     ...    ...   ...    ...             ...   \n4378823                   0      5  2022      1               0   \n4394019                   0      5  2022      1               0   \n4385597                   1      5  2022      1               0   \n4367598                   0      5  2022      1               0   \n4381119                   0      5  2022      1               0   \n\n                                                       story  \\\nprojectID                                                      \n3731940    app go benefit trainer personnel look get fit ...   \n3451605    even miss kickstarter still get hand papillon ...   \n3722583    journey blak blak blak officially entitle blak...   \n3745862    isabel jazz folk musical teach empathy metoo s...   \n3735376    main stage kids head new york young performer ...   \n...                                                      ...   \n4378823    book maui mauka makai companion book maui coas...   \n4394019    myrcene ale co dream mike goergen cy higgins m...   \n4385597    firefly theatrical need help build theatre spa...   \n4367598    big feelings coloring book come idea recovery ...   \n4381119    rumination n deep consider think something ima...   \n\n                                                         url  \nprojectID                                                     \n3731940    https://www.kickstarter.com/projects/fitnesspo...  \n3451605    https://www.kickstarter.com/projects/kolossalg...  \n3722583    https://www.kickstarter.com/projects/myheart/b...  \n3745862    https://www.kickstarter.com/projects/annawestb...  \n3735376    https://www.kickstarter.com/projects/mainstage...  \n...                                                      ...  \n4378823    https://www.kickstarter.com/projects/danielsul...  \n4394019    https://www.kickstarter.com/projects/myrceneal...  \n4385597    https://www.kickstarter.com/projects/fireflyth...  \n4367598    https://www.kickstarter.com/projects/bigfeelin...  \n4381119    https://www.kickstarter.com/projects/141766490...  \n\n[8388 rows x 29 columns]",
      "text/html": "<div>\n<style scoped>\n    .dataframe tbody tr th:only-of-type {\n        vertical-align: middle;\n    }\n\n    .dataframe tbody tr th {\n        vertical-align: top;\n    }\n\n    .dataframe thead th {\n        text-align: right;\n    }\n</style>\n<table border=\"1\" class=\"dataframe\">\n  <thead>\n    <tr style=\"text-align: right;\">\n      <th></th>\n      <th>success</th>\n      <th>Lamount</th>\n      <th>creator_gender</th>\n      <th>Lgoal</th>\n      <th>words</th>\n      <th>backers_count</th>\n      <th>serial_entrepreneur</th>\n      <th>duration</th>\n      <th>category_art</th>\n      <th>category_comics</th>\n      <th>...</th>\n      <th>category_photography</th>\n      <th>category_publishing</th>\n      <th>category_technology</th>\n      <th>category_theater</th>\n      <th>month</th>\n      <th>year</th>\n      <th>media</th>\n      <th>sustainability</th>\n      <th>story</th>\n      <th>url</th>\n    </tr>\n    <tr>\n      <th>projectID</th>\n      <th></th>\n      <th></th>\n      <th></th>\n      <th></th>\n      <th></th>\n      <th></th>\n      <th></th>\n      <th></th>\n      <th></th>\n      <th></th>\n      <th></th>\n      <th></th>\n      <th></th>\n      <th></th>\n      <th></th>\n      <th></th>\n      <th></th>\n      <th></th>\n      <th></th>\n      <th></th>\n      <th></th>\n    </tr>\n  </thead>\n  <tbody>\n    <tr>\n      <th>3731940</th>\n      <td>0</td>\n      <td>2.307</td>\n      <td>0</td>\n      <td>3.778</td>\n      <td>71</td>\n      <td>5</td>\n      <td>0</td>\n      <td>60.000</td>\n      <td>0</td>\n      <td>0</td>\n      <td>...</td>\n      <td>0</td>\n      <td>0</td>\n      <td>1</td>\n      <td>0</td>\n      <td>6</td>\n      <td>2019</td>\n      <td>0</td>\n      <td>0</td>\n      <td>app go benefit trainer personnel look get fit ...</td>\n      <td>https://www.kickstarter.com/projects/fitnesspo...</td>\n    </tr>\n    <tr>\n      <th>3451605</th>\n      <td>1</td>\n      <td>5.067</td>\n      <td>0</td>\n      <td>4.000</td>\n      <td>497</td>\n      <td>2003</td>\n      <td>1</td>\n      <td>14.583</td>\n      <td>0</td>\n      <td>0</td>\n      <td>...</td>\n      <td>0</td>\n      <td>0</td>\n      <td>0</td>\n      <td>0</td>\n      <td>6</td>\n      <td>2019</td>\n      <td>1</td>\n      <td>0</td>\n      <td>even miss kickstarter still get hand papillon ...</td>\n      <td>https://www.kickstarter.com/projects/kolossalg...</td>\n    </tr>\n    <tr>\n      <th>3722583</th>\n      <td>0</td>\n      <td>1.447</td>\n      <td>0</td>\n      <td>3.778</td>\n      <td>443</td>\n      <td>6</td>\n      <td>0</td>\n      <td>30.000</td>\n      <td>0</td>\n      <td>1</td>\n      <td>...</td>\n      <td>0</td>\n      <td>0</td>\n      <td>0</td>\n      <td>0</td>\n      <td>6</td>\n      <td>2019</td>\n      <td>1</td>\n      <td>0</td>\n      <td>journey blak blak blak officially entitle blak...</td>\n      <td>https://www.kickstarter.com/projects/myheart/b...</td>\n    </tr>\n    <tr>\n      <th>3745862</th>\n      <td>1</td>\n      <td>3.266</td>\n      <td>1</td>\n      <td>3.176</td>\n      <td>474</td>\n      <td>48</td>\n      <td>0</td>\n      <td>39.687</td>\n      <td>0</td>\n      <td>0</td>\n      <td>...</td>\n      <td>0</td>\n      <td>0</td>\n      <td>0</td>\n      <td>0</td>\n      <td>6</td>\n      <td>2019</td>\n      <td>1</td>\n      <td>0</td>\n      <td>isabel jazz folk musical teach empathy metoo s...</td>\n      <td>https://www.kickstarter.com/projects/annawestb...</td>\n    </tr>\n    <tr>\n      <th>3735376</th>\n      <td>1</td>\n      <td>3.000</td>\n      <td>1</td>\n      <td>3.000</td>\n      <td>130</td>\n      <td>17</td>\n      <td>0</td>\n      <td>25.990</td>\n      <td>0</td>\n      <td>0</td>\n      <td>...</td>\n      <td>0</td>\n      <td>0</td>\n      <td>0</td>\n      <td>1</td>\n      <td>6</td>\n      <td>2019</td>\n      <td>0</td>\n      <td>0</td>\n      <td>main stage kids head new york young performer ...</td>\n      <td>https://www.kickstarter.com/projects/mainstage...</td>\n    </tr>\n    <tr>\n      <th>...</th>\n      <td>...</td>\n      <td>...</td>\n      <td>...</td>\n      <td>...</td>\n      <td>...</td>\n      <td>...</td>\n      <td>...</td>\n      <td>...</td>\n      <td>...</td>\n      <td>...</td>\n      <td>...</td>\n      <td>...</td>\n      <td>...</td>\n      <td>...</td>\n      <td>...</td>\n      <td>...</td>\n      <td>...</td>\n      <td>...</td>\n      <td>...</td>\n      <td>...</td>\n      <td>...</td>\n    </tr>\n    <tr>\n      <th>4378823</th>\n      <td>1</td>\n      <td>4.797</td>\n      <td>0</td>\n      <td>4.447</td>\n      <td>837</td>\n      <td>232</td>\n      <td>1</td>\n      <td>30.000</td>\n      <td>0</td>\n      <td>0</td>\n      <td>...</td>\n      <td>1</td>\n      <td>0</td>\n      <td>0</td>\n      <td>0</td>\n      <td>5</td>\n      <td>2022</td>\n      <td>1</td>\n      <td>0</td>\n      <td>book maui mauka makai companion book maui coas...</td>\n      <td>https://www.kickstarter.com/projects/danielsul...</td>\n    </tr>\n    <tr>\n      <th>4394019</th>\n      <td>1</td>\n      <td>4.045</td>\n      <td>0</td>\n      <td>4.000</td>\n      <td>167</td>\n      <td>80</td>\n      <td>0</td>\n      <td>26.377</td>\n      <td>0</td>\n      <td>0</td>\n      <td>...</td>\n      <td>0</td>\n      <td>0</td>\n      <td>0</td>\n      <td>0</td>\n      <td>5</td>\n      <td>2022</td>\n      <td>1</td>\n      <td>0</td>\n      <td>myrcene ale co dream mike goergen cy higgins m...</td>\n      <td>https://www.kickstarter.com/projects/myrceneal...</td>\n    </tr>\n    <tr>\n      <th>4385597</th>\n      <td>1</td>\n      <td>4.403</td>\n      <td>0</td>\n      <td>4.398</td>\n      <td>138</td>\n      <td>73</td>\n      <td>0</td>\n      <td>14.147</td>\n      <td>0</td>\n      <td>0</td>\n      <td>...</td>\n      <td>0</td>\n      <td>0</td>\n      <td>0</td>\n      <td>1</td>\n      <td>5</td>\n      <td>2022</td>\n      <td>1</td>\n      <td>0</td>\n      <td>firefly theatrical need help build theatre spa...</td>\n      <td>https://www.kickstarter.com/projects/fireflyth...</td>\n    </tr>\n    <tr>\n      <th>4367598</th>\n      <td>1</td>\n      <td>3.626</td>\n      <td>1</td>\n      <td>3.602</td>\n      <td>304</td>\n      <td>94</td>\n      <td>0</td>\n      <td>36.538</td>\n      <td>0</td>\n      <td>0</td>\n      <td>...</td>\n      <td>0</td>\n      <td>1</td>\n      <td>0</td>\n      <td>0</td>\n      <td>5</td>\n      <td>2022</td>\n      <td>1</td>\n      <td>0</td>\n      <td>big feelings coloring book come idea recovery ...</td>\n      <td>https://www.kickstarter.com/projects/bigfeelin...</td>\n    </tr>\n    <tr>\n      <th>4381119</th>\n      <td>1</td>\n      <td>4.047</td>\n      <td>1</td>\n      <td>3.046</td>\n      <td>208</td>\n      <td>116</td>\n      <td>1</td>\n      <td>8.885</td>\n      <td>0</td>\n      <td>0</td>\n      <td>...</td>\n      <td>1</td>\n      <td>0</td>\n      <td>0</td>\n      <td>0</td>\n      <td>5</td>\n      <td>2022</td>\n      <td>1</td>\n      <td>0</td>\n      <td>rumination n deep consider think something ima...</td>\n      <td>https://www.kickstarter.com/projects/141766490...</td>\n    </tr>\n  </tbody>\n</table>\n<p>8388 rows × 29 columns</p>\n</div>"
     },
     "execution_count": 5,
     "metadata": {},
     "output_type": "execute_result"
    }
   ],
   "source": [
    "import numpy as np\n",
    "import pandas as pd\n",
    "import scipy.stats as st\n",
    "from pandas.core.dtypes.common import is_numeric_dtype\n",
    "\n",
    "data = pd.read_csv(\"finalData.csv\")\n",
    "data = data.set_index('projectID')\n",
    "pd.set_option('display.float_format',  '{:,.3f}'.format)\n",
    "data"
   ]
  },
  {
   "cell_type": "code",
   "execution_count": 6,
   "outputs": [
    {
     "data": {
      "text/plain": "                     Obs  Mean    SD\nCategory    Female                  \nart         0        376 0.809 0.394\n            1        643 0.865 0.342\ncomics      0        791 0.934 0.248\n            1        147 0.884 0.321\ncrafts      0         69 0.565 0.499\n            1         86 0.512 0.503\ndance       0          4 0.750 0.500\n            1         13 0.846 0.376\ndesign      0        439 0.945 0.228\n            1        168 0.905 0.294\nfashion     0        192 0.578 0.495\n            1        246 0.809 0.394\nfilm&video  0        511 0.542 0.499\n            1        199 0.623 0.486\nfood        0        303 0.482 0.500\n            1        204 0.422 0.495\ngames       0       1243 0.926 0.262\n            1        210 0.900 0.301\njournalism  0         41 0.415 0.499\n            1         31 0.226 0.425\nmusic       0        474 0.781 0.414\n            1        198 0.823 0.382\nphotography 0         74 0.689 0.466\n            1         40 0.675 0.474\npublishing  0        531 0.846 0.362\n            1        393 0.888 0.316\ntechnology  0        550 0.367 0.483\n            1        133 0.308 0.464\ntheater     0         46 0.630 0.488\n            1         33 0.697 0.467",
      "text/html": "<div>\n<style scoped>\n    .dataframe tbody tr th:only-of-type {\n        vertical-align: middle;\n    }\n\n    .dataframe tbody tr th {\n        vertical-align: top;\n    }\n\n    .dataframe thead th {\n        text-align: right;\n    }\n</style>\n<table border=\"1\" class=\"dataframe\">\n  <thead>\n    <tr style=\"text-align: right;\">\n      <th></th>\n      <th></th>\n      <th>Obs</th>\n      <th>Mean</th>\n      <th>SD</th>\n    </tr>\n    <tr>\n      <th>Category</th>\n      <th>Female</th>\n      <th></th>\n      <th></th>\n      <th></th>\n    </tr>\n  </thead>\n  <tbody>\n    <tr>\n      <th rowspan=\"2\" valign=\"top\">art</th>\n      <th>0</th>\n      <td>376</td>\n      <td>0.809</td>\n      <td>0.394</td>\n    </tr>\n    <tr>\n      <th>1</th>\n      <td>643</td>\n      <td>0.865</td>\n      <td>0.342</td>\n    </tr>\n    <tr>\n      <th rowspan=\"2\" valign=\"top\">comics</th>\n      <th>0</th>\n      <td>791</td>\n      <td>0.934</td>\n      <td>0.248</td>\n    </tr>\n    <tr>\n      <th>1</th>\n      <td>147</td>\n      <td>0.884</td>\n      <td>0.321</td>\n    </tr>\n    <tr>\n      <th rowspan=\"2\" valign=\"top\">crafts</th>\n      <th>0</th>\n      <td>69</td>\n      <td>0.565</td>\n      <td>0.499</td>\n    </tr>\n    <tr>\n      <th>1</th>\n      <td>86</td>\n      <td>0.512</td>\n      <td>0.503</td>\n    </tr>\n    <tr>\n      <th rowspan=\"2\" valign=\"top\">dance</th>\n      <th>0</th>\n      <td>4</td>\n      <td>0.750</td>\n      <td>0.500</td>\n    </tr>\n    <tr>\n      <th>1</th>\n      <td>13</td>\n      <td>0.846</td>\n      <td>0.376</td>\n    </tr>\n    <tr>\n      <th rowspan=\"2\" valign=\"top\">design</th>\n      <th>0</th>\n      <td>439</td>\n      <td>0.945</td>\n      <td>0.228</td>\n    </tr>\n    <tr>\n      <th>1</th>\n      <td>168</td>\n      <td>0.905</td>\n      <td>0.294</td>\n    </tr>\n    <tr>\n      <th rowspan=\"2\" valign=\"top\">fashion</th>\n      <th>0</th>\n      <td>192</td>\n      <td>0.578</td>\n      <td>0.495</td>\n    </tr>\n    <tr>\n      <th>1</th>\n      <td>246</td>\n      <td>0.809</td>\n      <td>0.394</td>\n    </tr>\n    <tr>\n      <th rowspan=\"2\" valign=\"top\">film&amp;video</th>\n      <th>0</th>\n      <td>511</td>\n      <td>0.542</td>\n      <td>0.499</td>\n    </tr>\n    <tr>\n      <th>1</th>\n      <td>199</td>\n      <td>0.623</td>\n      <td>0.486</td>\n    </tr>\n    <tr>\n      <th rowspan=\"2\" valign=\"top\">food</th>\n      <th>0</th>\n      <td>303</td>\n      <td>0.482</td>\n      <td>0.500</td>\n    </tr>\n    <tr>\n      <th>1</th>\n      <td>204</td>\n      <td>0.422</td>\n      <td>0.495</td>\n    </tr>\n    <tr>\n      <th rowspan=\"2\" valign=\"top\">games</th>\n      <th>0</th>\n      <td>1243</td>\n      <td>0.926</td>\n      <td>0.262</td>\n    </tr>\n    <tr>\n      <th>1</th>\n      <td>210</td>\n      <td>0.900</td>\n      <td>0.301</td>\n    </tr>\n    <tr>\n      <th rowspan=\"2\" valign=\"top\">journalism</th>\n      <th>0</th>\n      <td>41</td>\n      <td>0.415</td>\n      <td>0.499</td>\n    </tr>\n    <tr>\n      <th>1</th>\n      <td>31</td>\n      <td>0.226</td>\n      <td>0.425</td>\n    </tr>\n    <tr>\n      <th rowspan=\"2\" valign=\"top\">music</th>\n      <th>0</th>\n      <td>474</td>\n      <td>0.781</td>\n      <td>0.414</td>\n    </tr>\n    <tr>\n      <th>1</th>\n      <td>198</td>\n      <td>0.823</td>\n      <td>0.382</td>\n    </tr>\n    <tr>\n      <th rowspan=\"2\" valign=\"top\">photography</th>\n      <th>0</th>\n      <td>74</td>\n      <td>0.689</td>\n      <td>0.466</td>\n    </tr>\n    <tr>\n      <th>1</th>\n      <td>40</td>\n      <td>0.675</td>\n      <td>0.474</td>\n    </tr>\n    <tr>\n      <th rowspan=\"2\" valign=\"top\">publishing</th>\n      <th>0</th>\n      <td>531</td>\n      <td>0.846</td>\n      <td>0.362</td>\n    </tr>\n    <tr>\n      <th>1</th>\n      <td>393</td>\n      <td>0.888</td>\n      <td>0.316</td>\n    </tr>\n    <tr>\n      <th rowspan=\"2\" valign=\"top\">technology</th>\n      <th>0</th>\n      <td>550</td>\n      <td>0.367</td>\n      <td>0.483</td>\n    </tr>\n    <tr>\n      <th>1</th>\n      <td>133</td>\n      <td>0.308</td>\n      <td>0.464</td>\n    </tr>\n    <tr>\n      <th rowspan=\"2\" valign=\"top\">theater</th>\n      <th>0</th>\n      <td>46</td>\n      <td>0.630</td>\n      <td>0.488</td>\n    </tr>\n    <tr>\n      <th>1</th>\n      <td>33</td>\n      <td>0.697</td>\n      <td>0.467</td>\n    </tr>\n  </tbody>\n</table>\n</div>"
     },
     "execution_count": 6,
     "metadata": {},
     "output_type": "execute_result"
    }
   ],
   "source": [
    "# Table 1\n",
    "def getCategory(entry):\n",
    "    for category in entry.index:\n",
    "        if entry.get(category) == 1:\n",
    "            return category.split(\"_\")[1]\n",
    "\n",
    "    return \"unknown\"\n",
    "\n",
    "\n",
    "table1 = data.copy()\n",
    "table1['Category'] = table1.apply(lambda entry: getCategory(entry[8:23]), axis=1)\n",
    "table1 = table1.rename(columns={\"creator_gender\": \"Female\"})\n",
    "table1 = table1.groupby(['Category', 'Female']).agg({'success': ['size', 'mean', 'std']})\n",
    "table1.columns = ['Obs', 'Mean', 'SD']\n",
    "table1"
   ],
   "metadata": {
    "collapsed": false
   }
  },
  {
   "cell_type": "code",
   "execution_count": 7,
   "outputs": [
    {
     "data": {
      "text/plain": "         Obs  Mean    SD\nFemale                  \n0       5644 0.762 0.426\n1       2744 0.766 0.424",
      "text/html": "<div>\n<style scoped>\n    .dataframe tbody tr th:only-of-type {\n        vertical-align: middle;\n    }\n\n    .dataframe tbody tr th {\n        vertical-align: top;\n    }\n\n    .dataframe thead th {\n        text-align: right;\n    }\n</style>\n<table border=\"1\" class=\"dataframe\">\n  <thead>\n    <tr style=\"text-align: right;\">\n      <th></th>\n      <th>Obs</th>\n      <th>Mean</th>\n      <th>SD</th>\n    </tr>\n    <tr>\n      <th>Female</th>\n      <th></th>\n      <th></th>\n      <th></th>\n    </tr>\n  </thead>\n  <tbody>\n    <tr>\n      <th>0</th>\n      <td>5644</td>\n      <td>0.762</td>\n      <td>0.426</td>\n    </tr>\n    <tr>\n      <th>1</th>\n      <td>2744</td>\n      <td>0.766</td>\n      <td>0.424</td>\n    </tr>\n  </tbody>\n</table>\n</div>"
     },
     "execution_count": 7,
     "metadata": {},
     "output_type": "execute_result"
    }
   ],
   "source": [
    "# Table 2\n",
    "table2 = data.copy()\n",
    "table2 = table2.rename(columns={\"creator_gender\": \"Female\"})\n",
    "table2 = table2.groupby(['Female']).agg({'success': ['size', 'mean', 'std']})\n",
    "table2.columns = ['Obs', 'Mean', 'SD']\n",
    "\n",
    "# maleData = data[data['creator_gender'] == 0]\n",
    "# maleCI = st.norm.interval(confidence=0.95,\n",
    "#                           loc=np.mean(maleData['success']),\n",
    "#                           scale=st.sem(maleData['success']))\n",
    "# femaleData = data[data['creator_gender'] == 1]\n",
    "# femaleCI = st.norm.interval(confidence=0.95,\n",
    "#                             loc=np.mean(femaleData['success']),\n",
    "#                             scale=st.sem(femaleData['success']))\n",
    "# table2.insert(2, \"95% CI (lower)\", [maleCI[0], femaleCI[0]])\n",
    "# table2.insert(3, \"95% CI (upper)\", [maleCI[1], femaleCI[1]])\n",
    "\n",
    "table2"
   ],
   "metadata": {
    "collapsed": false
   }
  },
  {
   "cell_type": "code",
   "execution_count": 8,
   "outputs": [
    {
     "data": {
      "text/plain": "                           Mean    Median   Minimum         Maximum  \\\nVariable                                                              \nsuccess                   0.763     1.000     0.000           1.000   \namount               66,149.066 3,838.000     1.000 272,707,148.204   \nfemale                    0.327     0.000     0.000           1.000   \ngoal                 19,854.147 4,000.000     1.000  14,000,000.000   \nwords                   408.228   305.000     2.000       2,588.000   \nbackers_count           345.802    65.000     1.000      55,024.000   \nserial_entrepreneur       0.252     0.000     0.000           1.000   \nduration                 32.190    30.000     1.000          73.958   \ncategory_art              0.121     0.000     0.000           1.000   \ncategory_comics           0.112     0.000     0.000           1.000   \ncategory_crafts           0.018     0.000     0.000           1.000   \ncategory_dance            0.002     0.000     0.000           1.000   \ncategory_design           0.072     0.000     0.000           1.000   \ncategory_fashion          0.052     0.000     0.000           1.000   \ncategory_film&video       0.085     0.000     0.000           1.000   \ncategory_food             0.060     0.000     0.000           1.000   \ncategory_games            0.173     0.000     0.000           1.000   \ncategory_journalism       0.009     0.000     0.000           1.000   \ncategory_music            0.080     0.000     0.000           1.000   \ncategory_photography      0.014     0.000     0.000           1.000   \ncategory_publishing       0.110     0.000     0.000           1.000   \ncategory_technology       0.081     0.000     0.000           1.000   \ncategory_theater          0.009     0.000     0.000           1.000   \nmonth                     6.500     6.500     1.000          12.000   \nyear                  2,020.417 2,020.000 2,019.000       2,022.000   \nmedia                     0.873     1.000     0.000           1.000   \nsustainability            0.039     0.000     0.000           1.000   \n\n                                SD  \nVariable                            \nsuccess                      0.425  \namount               2,984,093.960  \nfemale                       0.469  \ngoal                   188,831.801  \nwords                      362.641  \nbackers_count            1,595.292  \nserial_entrepreneur          0.434  \nduration                    12.615  \ncategory_art                 0.327  \ncategory_comics              0.315  \ncategory_crafts              0.135  \ncategory_dance               0.045  \ncategory_design              0.259  \ncategory_fashion             0.222  \ncategory_film&video          0.278  \ncategory_food                0.238  \ncategory_games               0.378  \ncategory_journalism          0.092  \ncategory_music               0.271  \ncategory_photography         0.116  \ncategory_publishing          0.313  \ncategory_technology          0.273  \ncategory_theater             0.097  \nmonth                        3.452  \nyear                         0.954  \nmedia                        0.333  \nsustainability               0.194  ",
      "text/html": "<div>\n<style scoped>\n    .dataframe tbody tr th:only-of-type {\n        vertical-align: middle;\n    }\n\n    .dataframe tbody tr th {\n        vertical-align: top;\n    }\n\n    .dataframe thead th {\n        text-align: right;\n    }\n</style>\n<table border=\"1\" class=\"dataframe\">\n  <thead>\n    <tr style=\"text-align: right;\">\n      <th></th>\n      <th>Mean</th>\n      <th>Median</th>\n      <th>Minimum</th>\n      <th>Maximum</th>\n      <th>SD</th>\n    </tr>\n    <tr>\n      <th>Variable</th>\n      <th></th>\n      <th></th>\n      <th></th>\n      <th></th>\n      <th></th>\n    </tr>\n  </thead>\n  <tbody>\n    <tr>\n      <th>success</th>\n      <td>0.763</td>\n      <td>1.000</td>\n      <td>0.000</td>\n      <td>1.000</td>\n      <td>0.425</td>\n    </tr>\n    <tr>\n      <th>amount</th>\n      <td>66,149.066</td>\n      <td>3,838.000</td>\n      <td>1.000</td>\n      <td>272,707,148.204</td>\n      <td>2,984,093.960</td>\n    </tr>\n    <tr>\n      <th>female</th>\n      <td>0.327</td>\n      <td>0.000</td>\n      <td>0.000</td>\n      <td>1.000</td>\n      <td>0.469</td>\n    </tr>\n    <tr>\n      <th>goal</th>\n      <td>19,854.147</td>\n      <td>4,000.000</td>\n      <td>1.000</td>\n      <td>14,000,000.000</td>\n      <td>188,831.801</td>\n    </tr>\n    <tr>\n      <th>words</th>\n      <td>408.228</td>\n      <td>305.000</td>\n      <td>2.000</td>\n      <td>2,588.000</td>\n      <td>362.641</td>\n    </tr>\n    <tr>\n      <th>backers_count</th>\n      <td>345.802</td>\n      <td>65.000</td>\n      <td>1.000</td>\n      <td>55,024.000</td>\n      <td>1,595.292</td>\n    </tr>\n    <tr>\n      <th>serial_entrepreneur</th>\n      <td>0.252</td>\n      <td>0.000</td>\n      <td>0.000</td>\n      <td>1.000</td>\n      <td>0.434</td>\n    </tr>\n    <tr>\n      <th>duration</th>\n      <td>32.190</td>\n      <td>30.000</td>\n      <td>1.000</td>\n      <td>73.958</td>\n      <td>12.615</td>\n    </tr>\n    <tr>\n      <th>category_art</th>\n      <td>0.121</td>\n      <td>0.000</td>\n      <td>0.000</td>\n      <td>1.000</td>\n      <td>0.327</td>\n    </tr>\n    <tr>\n      <th>category_comics</th>\n      <td>0.112</td>\n      <td>0.000</td>\n      <td>0.000</td>\n      <td>1.000</td>\n      <td>0.315</td>\n    </tr>\n    <tr>\n      <th>category_crafts</th>\n      <td>0.018</td>\n      <td>0.000</td>\n      <td>0.000</td>\n      <td>1.000</td>\n      <td>0.135</td>\n    </tr>\n    <tr>\n      <th>category_dance</th>\n      <td>0.002</td>\n      <td>0.000</td>\n      <td>0.000</td>\n      <td>1.000</td>\n      <td>0.045</td>\n    </tr>\n    <tr>\n      <th>category_design</th>\n      <td>0.072</td>\n      <td>0.000</td>\n      <td>0.000</td>\n      <td>1.000</td>\n      <td>0.259</td>\n    </tr>\n    <tr>\n      <th>category_fashion</th>\n      <td>0.052</td>\n      <td>0.000</td>\n      <td>0.000</td>\n      <td>1.000</td>\n      <td>0.222</td>\n    </tr>\n    <tr>\n      <th>category_film&amp;video</th>\n      <td>0.085</td>\n      <td>0.000</td>\n      <td>0.000</td>\n      <td>1.000</td>\n      <td>0.278</td>\n    </tr>\n    <tr>\n      <th>category_food</th>\n      <td>0.060</td>\n      <td>0.000</td>\n      <td>0.000</td>\n      <td>1.000</td>\n      <td>0.238</td>\n    </tr>\n    <tr>\n      <th>category_games</th>\n      <td>0.173</td>\n      <td>0.000</td>\n      <td>0.000</td>\n      <td>1.000</td>\n      <td>0.378</td>\n    </tr>\n    <tr>\n      <th>category_journalism</th>\n      <td>0.009</td>\n      <td>0.000</td>\n      <td>0.000</td>\n      <td>1.000</td>\n      <td>0.092</td>\n    </tr>\n    <tr>\n      <th>category_music</th>\n      <td>0.080</td>\n      <td>0.000</td>\n      <td>0.000</td>\n      <td>1.000</td>\n      <td>0.271</td>\n    </tr>\n    <tr>\n      <th>category_photography</th>\n      <td>0.014</td>\n      <td>0.000</td>\n      <td>0.000</td>\n      <td>1.000</td>\n      <td>0.116</td>\n    </tr>\n    <tr>\n      <th>category_publishing</th>\n      <td>0.110</td>\n      <td>0.000</td>\n      <td>0.000</td>\n      <td>1.000</td>\n      <td>0.313</td>\n    </tr>\n    <tr>\n      <th>category_technology</th>\n      <td>0.081</td>\n      <td>0.000</td>\n      <td>0.000</td>\n      <td>1.000</td>\n      <td>0.273</td>\n    </tr>\n    <tr>\n      <th>category_theater</th>\n      <td>0.009</td>\n      <td>0.000</td>\n      <td>0.000</td>\n      <td>1.000</td>\n      <td>0.097</td>\n    </tr>\n    <tr>\n      <th>month</th>\n      <td>6.500</td>\n      <td>6.500</td>\n      <td>1.000</td>\n      <td>12.000</td>\n      <td>3.452</td>\n    </tr>\n    <tr>\n      <th>year</th>\n      <td>2,020.417</td>\n      <td>2,020.000</td>\n      <td>2,019.000</td>\n      <td>2,022.000</td>\n      <td>0.954</td>\n    </tr>\n    <tr>\n      <th>media</th>\n      <td>0.873</td>\n      <td>1.000</td>\n      <td>0.000</td>\n      <td>1.000</td>\n      <td>0.333</td>\n    </tr>\n    <tr>\n      <th>sustainability</th>\n      <td>0.039</td>\n      <td>0.000</td>\n      <td>0.000</td>\n      <td>1.000</td>\n      <td>0.194</td>\n    </tr>\n  </tbody>\n</table>\n</div>"
     },
     "execution_count": 8,
     "metadata": {},
     "output_type": "execute_result"
    }
   ],
   "source": [
    "# Table 4\n",
    "variableNames = []\n",
    "means = []\n",
    "medians = []\n",
    "minima = []\n",
    "maxima = []\n",
    "SDs = []\n",
    "\n",
    "for variableName in data.columns:\n",
    "    variableData = data[variableName]\n",
    "    if is_numeric_dtype(variableData):\n",
    "        if variableName[0] == \"L\":\n",
    "            variableData = 10**variableData\n",
    "            variableName = variableName.replace(\"L\", \"\")\n",
    "        variableNames.append(variableName)\n",
    "        means.append(np.mean(variableData))\n",
    "        medians.append(np.median(variableData))\n",
    "        minima.append(np.min(variableData))\n",
    "        maxima.append(np.max(variableData))\n",
    "        SDs.append(np.std(variableData))\n",
    "\n",
    "variableNames[variableNames.index(\"creator_gender\")] = \"female\"\n",
    "table3 = {\"Variable\": variableNames, \"Mean\": means, \"Median\": medians, \"Minimum\": minima, \"Maximum\": maxima, \"SD\": SDs}\n",
    "table3 = pd.DataFrame.from_dict(table3)\n",
    "table3 = table3.set_index(\"Variable\")\n",
    "table3"
   ],
   "metadata": {
    "collapsed": false
   }
  },
  {
   "cell_type": "code",
   "execution_count": 8,
   "outputs": [],
   "source": [],
   "metadata": {
    "collapsed": false
   }
  }
 ],
 "metadata": {
  "kernelspec": {
   "display_name": "Python 3",
   "language": "python",
   "name": "python3"
  },
  "language_info": {
   "codemirror_mode": {
    "name": "ipython",
    "version": 2
   },
   "file_extension": ".py",
   "mimetype": "text/x-python",
   "name": "python",
   "nbconvert_exporter": "python",
   "pygments_lexer": "ipython2",
   "version": "2.7.6"
  }
 },
 "nbformat": 4,
 "nbformat_minor": 0
}
