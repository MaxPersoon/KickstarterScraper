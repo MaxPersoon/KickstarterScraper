{
 "cells": [
  {
   "cell_type": "code",
   "execution_count": 1,
   "outputs": [
    {
     "data": {
      "text/plain": "           success      amount  female_creator       goal  words  \\\nprojectID                                                          \n3731940          0     203.000               0  6,000.000     71   \n3451605          1 116,639.000               0 10,000.000    497   \n3722583          0      28.000               0  6,000.000    443   \n3745862          1   1,846.000               1  1,500.000    474   \n3735376          1   1,001.000               1  1,000.000    130   \n...            ...         ...             ...        ...    ...   \n4378823          1  62,669.000               0 28,000.000    837   \n4394019          1  11,083.000               0 10,000.000    167   \n4385597          1  25,265.000               0 25,000.000    138   \n4367598          1   4,225.000               1  4,000.000    304   \n4381119          1  11,134.000               1  1,111.000    208   \n\n           backers_count  serial_entrepreneur  duration  category_art  \\\nprojectID                                                               \n3731940                5                    0    60.000             0   \n3451605             2003                    1    14.583             0   \n3722583                6                    0    30.000             0   \n3745862               48                    0    39.687             0   \n3735376               17                    0    25.990             0   \n...                  ...                  ...       ...           ...   \n4378823              232                    1    30.000             0   \n4394019               80                    0    26.377             0   \n4385597               73                    0    14.147             0   \n4367598               94                    0    36.538             0   \n4381119              116                    1     8.885             0   \n\n           category_comics  ...  year_2020  year_2021  year_2022  media  \\\nprojectID                   ...                                           \n3731940                  0  ...          0          0          0      0   \n3451605                  0  ...          0          0          0      1   \n3722583                  1  ...          0          0          0      1   \n3745862                  0  ...          0          0          0      1   \n3735376                  0  ...          0          0          0      0   \n...                    ...  ...        ...        ...        ...    ...   \n4378823                  0  ...          0          0          1      1   \n4394019                  0  ...          0          0          1      1   \n4385597                  0  ...          0          0          1      1   \n4367598                  0  ...          0          0          1      1   \n4381119                  0  ...          0          0          1      1   \n\n           sustainability                                              story  \\\nprojectID                                                                      \n3731940                 0  app go benefit trainer personnel look get fit ...   \n3451605                 0  even miss kickstarter still get hand papillon ...   \n3722583                 0  journey blak blak blak officially entitle blak...   \n3745862                 0  isabel jazz folk musical teach empathy metoo s...   \n3735376                 0  main stage kids head new york young performer ...   \n...                   ...                                                ...   \n4378823                 0  book maui mauka makai companion book maui coas...   \n4394019                 0  myrcene ale co dream mike goergen cy higgins m...   \n4385597                 0  firefly theatrical need help build theatre spa...   \n4367598                 0  big feelings coloring book come idea recovery ...   \n4381119                 0  rumination n deep consider think something ima...   \n\n                                                         url  business  \\\nprojectID                                                                \n3731940    https://www.kickstarter.com/projects/fitnesspo...     1.408   \n3451605    https://www.kickstarter.com/projects/kolossalg...     3.414   \n3722583    https://www.kickstarter.com/projects/myheart/b...     0.903   \n3745862    https://www.kickstarter.com/projects/annawestb...     1.477   \n3735376    https://www.kickstarter.com/projects/mainstage...     0.000   \n...                                                      ...       ...   \n4378823    https://www.kickstarter.com/projects/danielsul...     0.239   \n4394019    https://www.kickstarter.com/projects/myrceneal...     1.198   \n4385597    https://www.kickstarter.com/projects/fireflyth...     2.899   \n4367598    https://www.kickstarter.com/projects/bigfeelin...     1.645   \n4381119    https://www.kickstarter.com/projects/141766490...     0.481   \n\n           empathic  social  \nprojectID                    \n3731940       0.000   8.451  \n3451605       2.610   9.839  \n3722583       0.677  13.318  \n3745862       1.899  17.511  \n3735376       0.769  16.154  \n...             ...     ...  \n4378823       1.912   6.810  \n4394019       3.593   9.581  \n4385597       0.725   7.971  \n4367598       4.276  14.803  \n4381119       4.808  10.577  \n\n[8388 rows x 46 columns]",
      "text/html": "<div>\n<style scoped>\n    .dataframe tbody tr th:only-of-type {\n        vertical-align: middle;\n    }\n\n    .dataframe tbody tr th {\n        vertical-align: top;\n    }\n\n    .dataframe thead th {\n        text-align: right;\n    }\n</style>\n<table border=\"1\" class=\"dataframe\">\n  <thead>\n    <tr style=\"text-align: right;\">\n      <th></th>\n      <th>success</th>\n      <th>amount</th>\n      <th>female_creator</th>\n      <th>goal</th>\n      <th>words</th>\n      <th>backers_count</th>\n      <th>serial_entrepreneur</th>\n      <th>duration</th>\n      <th>category_art</th>\n      <th>category_comics</th>\n      <th>...</th>\n      <th>year_2020</th>\n      <th>year_2021</th>\n      <th>year_2022</th>\n      <th>media</th>\n      <th>sustainability</th>\n      <th>story</th>\n      <th>url</th>\n      <th>business</th>\n      <th>empathic</th>\n      <th>social</th>\n    </tr>\n    <tr>\n      <th>projectID</th>\n      <th></th>\n      <th></th>\n      <th></th>\n      <th></th>\n      <th></th>\n      <th></th>\n      <th></th>\n      <th></th>\n      <th></th>\n      <th></th>\n      <th></th>\n      <th></th>\n      <th></th>\n      <th></th>\n      <th></th>\n      <th></th>\n      <th></th>\n      <th></th>\n      <th></th>\n      <th></th>\n      <th></th>\n    </tr>\n  </thead>\n  <tbody>\n    <tr>\n      <th>3731940</th>\n      <td>0</td>\n      <td>203.000</td>\n      <td>0</td>\n      <td>6,000.000</td>\n      <td>71</td>\n      <td>5</td>\n      <td>0</td>\n      <td>60.000</td>\n      <td>0</td>\n      <td>0</td>\n      <td>...</td>\n      <td>0</td>\n      <td>0</td>\n      <td>0</td>\n      <td>0</td>\n      <td>0</td>\n      <td>app go benefit trainer personnel look get fit ...</td>\n      <td>https://www.kickstarter.com/projects/fitnesspo...</td>\n      <td>1.408</td>\n      <td>0.000</td>\n      <td>8.451</td>\n    </tr>\n    <tr>\n      <th>3451605</th>\n      <td>1</td>\n      <td>116,639.000</td>\n      <td>0</td>\n      <td>10,000.000</td>\n      <td>497</td>\n      <td>2003</td>\n      <td>1</td>\n      <td>14.583</td>\n      <td>0</td>\n      <td>0</td>\n      <td>...</td>\n      <td>0</td>\n      <td>0</td>\n      <td>0</td>\n      <td>1</td>\n      <td>0</td>\n      <td>even miss kickstarter still get hand papillon ...</td>\n      <td>https://www.kickstarter.com/projects/kolossalg...</td>\n      <td>3.414</td>\n      <td>2.610</td>\n      <td>9.839</td>\n    </tr>\n    <tr>\n      <th>3722583</th>\n      <td>0</td>\n      <td>28.000</td>\n      <td>0</td>\n      <td>6,000.000</td>\n      <td>443</td>\n      <td>6</td>\n      <td>0</td>\n      <td>30.000</td>\n      <td>0</td>\n      <td>1</td>\n      <td>...</td>\n      <td>0</td>\n      <td>0</td>\n      <td>0</td>\n      <td>1</td>\n      <td>0</td>\n      <td>journey blak blak blak officially entitle blak...</td>\n      <td>https://www.kickstarter.com/projects/myheart/b...</td>\n      <td>0.903</td>\n      <td>0.677</td>\n      <td>13.318</td>\n    </tr>\n    <tr>\n      <th>3745862</th>\n      <td>1</td>\n      <td>1,846.000</td>\n      <td>1</td>\n      <td>1,500.000</td>\n      <td>474</td>\n      <td>48</td>\n      <td>0</td>\n      <td>39.687</td>\n      <td>0</td>\n      <td>0</td>\n      <td>...</td>\n      <td>0</td>\n      <td>0</td>\n      <td>0</td>\n      <td>1</td>\n      <td>0</td>\n      <td>isabel jazz folk musical teach empathy metoo s...</td>\n      <td>https://www.kickstarter.com/projects/annawestb...</td>\n      <td>1.477</td>\n      <td>1.899</td>\n      <td>17.511</td>\n    </tr>\n    <tr>\n      <th>3735376</th>\n      <td>1</td>\n      <td>1,001.000</td>\n      <td>1</td>\n      <td>1,000.000</td>\n      <td>130</td>\n      <td>17</td>\n      <td>0</td>\n      <td>25.990</td>\n      <td>0</td>\n      <td>0</td>\n      <td>...</td>\n      <td>0</td>\n      <td>0</td>\n      <td>0</td>\n      <td>0</td>\n      <td>0</td>\n      <td>main stage kids head new york young performer ...</td>\n      <td>https://www.kickstarter.com/projects/mainstage...</td>\n      <td>0.000</td>\n      <td>0.769</td>\n      <td>16.154</td>\n    </tr>\n    <tr>\n      <th>...</th>\n      <td>...</td>\n      <td>...</td>\n      <td>...</td>\n      <td>...</td>\n      <td>...</td>\n      <td>...</td>\n      <td>...</td>\n      <td>...</td>\n      <td>...</td>\n      <td>...</td>\n      <td>...</td>\n      <td>...</td>\n      <td>...</td>\n      <td>...</td>\n      <td>...</td>\n      <td>...</td>\n      <td>...</td>\n      <td>...</td>\n      <td>...</td>\n      <td>...</td>\n      <td>...</td>\n    </tr>\n    <tr>\n      <th>4378823</th>\n      <td>1</td>\n      <td>62,669.000</td>\n      <td>0</td>\n      <td>28,000.000</td>\n      <td>837</td>\n      <td>232</td>\n      <td>1</td>\n      <td>30.000</td>\n      <td>0</td>\n      <td>0</td>\n      <td>...</td>\n      <td>0</td>\n      <td>0</td>\n      <td>1</td>\n      <td>1</td>\n      <td>0</td>\n      <td>book maui mauka makai companion book maui coas...</td>\n      <td>https://www.kickstarter.com/projects/danielsul...</td>\n      <td>0.239</td>\n      <td>1.912</td>\n      <td>6.810</td>\n    </tr>\n    <tr>\n      <th>4394019</th>\n      <td>1</td>\n      <td>11,083.000</td>\n      <td>0</td>\n      <td>10,000.000</td>\n      <td>167</td>\n      <td>80</td>\n      <td>0</td>\n      <td>26.377</td>\n      <td>0</td>\n      <td>0</td>\n      <td>...</td>\n      <td>0</td>\n      <td>0</td>\n      <td>1</td>\n      <td>1</td>\n      <td>0</td>\n      <td>myrcene ale co dream mike goergen cy higgins m...</td>\n      <td>https://www.kickstarter.com/projects/myrceneal...</td>\n      <td>1.198</td>\n      <td>3.593</td>\n      <td>9.581</td>\n    </tr>\n    <tr>\n      <th>4385597</th>\n      <td>1</td>\n      <td>25,265.000</td>\n      <td>0</td>\n      <td>25,000.000</td>\n      <td>138</td>\n      <td>73</td>\n      <td>0</td>\n      <td>14.147</td>\n      <td>0</td>\n      <td>0</td>\n      <td>...</td>\n      <td>0</td>\n      <td>0</td>\n      <td>1</td>\n      <td>1</td>\n      <td>0</td>\n      <td>firefly theatrical need help build theatre spa...</td>\n      <td>https://www.kickstarter.com/projects/fireflyth...</td>\n      <td>2.899</td>\n      <td>0.725</td>\n      <td>7.971</td>\n    </tr>\n    <tr>\n      <th>4367598</th>\n      <td>1</td>\n      <td>4,225.000</td>\n      <td>1</td>\n      <td>4,000.000</td>\n      <td>304</td>\n      <td>94</td>\n      <td>0</td>\n      <td>36.538</td>\n      <td>0</td>\n      <td>0</td>\n      <td>...</td>\n      <td>0</td>\n      <td>0</td>\n      <td>1</td>\n      <td>1</td>\n      <td>0</td>\n      <td>big feelings coloring book come idea recovery ...</td>\n      <td>https://www.kickstarter.com/projects/bigfeelin...</td>\n      <td>1.645</td>\n      <td>4.276</td>\n      <td>14.803</td>\n    </tr>\n    <tr>\n      <th>4381119</th>\n      <td>1</td>\n      <td>11,134.000</td>\n      <td>1</td>\n      <td>1,111.000</td>\n      <td>208</td>\n      <td>116</td>\n      <td>1</td>\n      <td>8.885</td>\n      <td>0</td>\n      <td>0</td>\n      <td>...</td>\n      <td>0</td>\n      <td>0</td>\n      <td>1</td>\n      <td>1</td>\n      <td>0</td>\n      <td>rumination n deep consider think something ima...</td>\n      <td>https://www.kickstarter.com/projects/141766490...</td>\n      <td>0.481</td>\n      <td>4.808</td>\n      <td>10.577</td>\n    </tr>\n  </tbody>\n</table>\n<p>8388 rows × 46 columns</p>\n</div>"
     },
     "execution_count": 1,
     "metadata": {},
     "output_type": "execute_result"
    }
   ],
   "source": [
    "import numpy as np\n",
    "import pandas as pd\n",
    "import scipy.stats as st\n",
    "import statsmodels.api as sm\n",
    "from pandas.core.dtypes.common import is_numeric_dtype\n",
    "\n",
    "data = pd.read_csv(\"data.csv\")\n",
    "data = data.set_index('projectID')\n",
    "data = data.drop(columns=['drives'])\n",
    "pd.set_option('display.float_format',  '{:,.3f}'.format)\n",
    "data"
   ],
   "metadata": {
    "collapsed": false
   }
  },
  {
   "cell_type": "code",
   "execution_count": 2,
   "outputs": [
    {
     "data": {
      "text/plain": "           success  norm_amount  female_creator  norm_goal  norm_words  \\\nprojectID                                                                \n3731940          0        2.307               0      3.778       1.851   \n3451605          1        5.067               0      4.000       2.696   \n3722583          0        1.447               0      3.778       2.646   \n3745862          1        3.266               1      3.176       2.676   \n3735376          1        3.000               1      3.000       2.114   \n...            ...          ...             ...        ...         ...   \n4378823          1        4.797               0      4.447       2.923   \n4394019          1        4.045               0      4.000       2.223   \n4385597          1        4.403               0      4.398       2.140   \n4367598          1        3.626               1      3.602       2.483   \n4381119          1        4.047               1      3.046       2.318   \n\n           norm_backers_count  serial_entrepreneur  norm_duration  \\\nprojectID                                                           \n3731940                 0.699                    0          7.746   \n3451605                 3.302                    1          3.819   \n3722583                 0.778                    0          5.477   \n3745862                 1.681                    0          6.300   \n3735376                 1.230                    0          5.098   \n...                       ...                  ...            ...   \n4378823                 2.365                    1          5.477   \n4394019                 1.903                    0          5.136   \n4385597                 1.863                    0          3.761   \n4367598                 1.973                    0          6.045   \n4381119                 2.064                    1          2.981   \n\n           category_art  category_comics  ...  year_2020  year_2021  \\\nprojectID                                 ...                         \n3731940               0                0  ...          0          0   \n3451605               0                0  ...          0          0   \n3722583               0                1  ...          0          0   \n3745862               0                0  ...          0          0   \n3735376               0                0  ...          0          0   \n...                 ...              ...  ...        ...        ...   \n4378823               0                0  ...          0          0   \n4394019               0                0  ...          0          0   \n4385597               0                0  ...          0          0   \n4367598               0                0  ...          0          0   \n4381119               0                0  ...          0          0   \n\n           year_2022  media  sustainability  \\\nprojectID                                     \n3731940            0      0               0   \n3451605            0      1               0   \n3722583            0      1               0   \n3745862            0      1               0   \n3735376            0      0               0   \n...              ...    ...             ...   \n4378823            1      1               0   \n4394019            1      1               0   \n4385597            1      1               0   \n4367598            1      1               0   \n4381119            1      1               0   \n\n                                                       story  \\\nprojectID                                                      \n3731940    app go benefit trainer personnel look get fit ...   \n3451605    even miss kickstarter still get hand papillon ...   \n3722583    journey blak blak blak officially entitle blak...   \n3745862    isabel jazz folk musical teach empathy metoo s...   \n3735376    main stage kids head new york young performer ...   \n...                                                      ...   \n4378823    book maui mauka makai companion book maui coas...   \n4394019    myrcene ale co dream mike goergen cy higgins m...   \n4385597    firefly theatrical need help build theatre spa...   \n4367598    big feelings coloring book come idea recovery ...   \n4381119    rumination n deep consider think something ima...   \n\n                                                         url  norm_business  \\\nprojectID                                                                     \n3731940    https://www.kickstarter.com/projects/fitnesspo...          0.165   \n3451605    https://www.kickstarter.com/projects/kolossalg...          0.540   \n3722583    https://www.kickstarter.com/projects/myheart/b...         -0.018   \n3745862    https://www.kickstarter.com/projects/annawestb...          0.185   \n3735376    https://www.kickstarter.com/projects/mainstage...         -1.256   \n...                                                      ...            ...   \n4378823    https://www.kickstarter.com/projects/danielsul...         -0.531   \n4394019    https://www.kickstarter.com/projects/myrceneal...          0.098   \n4385597    https://www.kickstarter.com/projects/fireflyth...          0.470   \n4367598    https://www.kickstarter.com/projects/bigfeelin...          0.231   \n4381119    https://www.kickstarter.com/projects/141766490...         -0.270   \n\n           norm_empathic  norm_social  \nprojectID                              \n3731940           -1.208        0.938  \n3451605            0.427        1.003  \n3722583           -0.131        1.132  \n3745862            0.292        1.249  \n3735376           -0.080        1.214  \n...                  ...          ...  \n4378823            0.295        0.847  \n4394019            0.563        0.992  \n4385597           -0.104        0.914  \n4367598            0.637        1.177  \n4381119            0.688        1.034  \n\n[8388 rows x 46 columns]",
      "text/html": "<div>\n<style scoped>\n    .dataframe tbody tr th:only-of-type {\n        vertical-align: middle;\n    }\n\n    .dataframe tbody tr th {\n        vertical-align: top;\n    }\n\n    .dataframe thead th {\n        text-align: right;\n    }\n</style>\n<table border=\"1\" class=\"dataframe\">\n  <thead>\n    <tr style=\"text-align: right;\">\n      <th></th>\n      <th>success</th>\n      <th>norm_amount</th>\n      <th>female_creator</th>\n      <th>norm_goal</th>\n      <th>norm_words</th>\n      <th>norm_backers_count</th>\n      <th>serial_entrepreneur</th>\n      <th>norm_duration</th>\n      <th>category_art</th>\n      <th>category_comics</th>\n      <th>...</th>\n      <th>year_2020</th>\n      <th>year_2021</th>\n      <th>year_2022</th>\n      <th>media</th>\n      <th>sustainability</th>\n      <th>story</th>\n      <th>url</th>\n      <th>norm_business</th>\n      <th>norm_empathic</th>\n      <th>norm_social</th>\n    </tr>\n    <tr>\n      <th>projectID</th>\n      <th></th>\n      <th></th>\n      <th></th>\n      <th></th>\n      <th></th>\n      <th></th>\n      <th></th>\n      <th></th>\n      <th></th>\n      <th></th>\n      <th></th>\n      <th></th>\n      <th></th>\n      <th></th>\n      <th></th>\n      <th></th>\n      <th></th>\n      <th></th>\n      <th></th>\n      <th></th>\n      <th></th>\n    </tr>\n  </thead>\n  <tbody>\n    <tr>\n      <th>3731940</th>\n      <td>0</td>\n      <td>2.307</td>\n      <td>0</td>\n      <td>3.778</td>\n      <td>1.851</td>\n      <td>0.699</td>\n      <td>0</td>\n      <td>7.746</td>\n      <td>0</td>\n      <td>0</td>\n      <td>...</td>\n      <td>0</td>\n      <td>0</td>\n      <td>0</td>\n      <td>0</td>\n      <td>0</td>\n      <td>app go benefit trainer personnel look get fit ...</td>\n      <td>https://www.kickstarter.com/projects/fitnesspo...</td>\n      <td>0.165</td>\n      <td>-1.208</td>\n      <td>0.938</td>\n    </tr>\n    <tr>\n      <th>3451605</th>\n      <td>1</td>\n      <td>5.067</td>\n      <td>0</td>\n      <td>4.000</td>\n      <td>2.696</td>\n      <td>3.302</td>\n      <td>1</td>\n      <td>3.819</td>\n      <td>0</td>\n      <td>0</td>\n      <td>...</td>\n      <td>0</td>\n      <td>0</td>\n      <td>0</td>\n      <td>1</td>\n      <td>0</td>\n      <td>even miss kickstarter still get hand papillon ...</td>\n      <td>https://www.kickstarter.com/projects/kolossalg...</td>\n      <td>0.540</td>\n      <td>0.427</td>\n      <td>1.003</td>\n    </tr>\n    <tr>\n      <th>3722583</th>\n      <td>0</td>\n      <td>1.447</td>\n      <td>0</td>\n      <td>3.778</td>\n      <td>2.646</td>\n      <td>0.778</td>\n      <td>0</td>\n      <td>5.477</td>\n      <td>0</td>\n      <td>1</td>\n      <td>...</td>\n      <td>0</td>\n      <td>0</td>\n      <td>0</td>\n      <td>1</td>\n      <td>0</td>\n      <td>journey blak blak blak officially entitle blak...</td>\n      <td>https://www.kickstarter.com/projects/myheart/b...</td>\n      <td>-0.018</td>\n      <td>-0.131</td>\n      <td>1.132</td>\n    </tr>\n    <tr>\n      <th>3745862</th>\n      <td>1</td>\n      <td>3.266</td>\n      <td>1</td>\n      <td>3.176</td>\n      <td>2.676</td>\n      <td>1.681</td>\n      <td>0</td>\n      <td>6.300</td>\n      <td>0</td>\n      <td>0</td>\n      <td>...</td>\n      <td>0</td>\n      <td>0</td>\n      <td>0</td>\n      <td>1</td>\n      <td>0</td>\n      <td>isabel jazz folk musical teach empathy metoo s...</td>\n      <td>https://www.kickstarter.com/projects/annawestb...</td>\n      <td>0.185</td>\n      <td>0.292</td>\n      <td>1.249</td>\n    </tr>\n    <tr>\n      <th>3735376</th>\n      <td>1</td>\n      <td>3.000</td>\n      <td>1</td>\n      <td>3.000</td>\n      <td>2.114</td>\n      <td>1.230</td>\n      <td>0</td>\n      <td>5.098</td>\n      <td>0</td>\n      <td>0</td>\n      <td>...</td>\n      <td>0</td>\n      <td>0</td>\n      <td>0</td>\n      <td>0</td>\n      <td>0</td>\n      <td>main stage kids head new york young performer ...</td>\n      <td>https://www.kickstarter.com/projects/mainstage...</td>\n      <td>-1.256</td>\n      <td>-0.080</td>\n      <td>1.214</td>\n    </tr>\n    <tr>\n      <th>...</th>\n      <td>...</td>\n      <td>...</td>\n      <td>...</td>\n      <td>...</td>\n      <td>...</td>\n      <td>...</td>\n      <td>...</td>\n      <td>...</td>\n      <td>...</td>\n      <td>...</td>\n      <td>...</td>\n      <td>...</td>\n      <td>...</td>\n      <td>...</td>\n      <td>...</td>\n      <td>...</td>\n      <td>...</td>\n      <td>...</td>\n      <td>...</td>\n      <td>...</td>\n      <td>...</td>\n    </tr>\n    <tr>\n      <th>4378823</th>\n      <td>1</td>\n      <td>4.797</td>\n      <td>0</td>\n      <td>4.447</td>\n      <td>2.923</td>\n      <td>2.365</td>\n      <td>1</td>\n      <td>5.477</td>\n      <td>0</td>\n      <td>0</td>\n      <td>...</td>\n      <td>0</td>\n      <td>0</td>\n      <td>1</td>\n      <td>1</td>\n      <td>0</td>\n      <td>book maui mauka makai companion book maui coas...</td>\n      <td>https://www.kickstarter.com/projects/danielsul...</td>\n      <td>-0.531</td>\n      <td>0.295</td>\n      <td>0.847</td>\n    </tr>\n    <tr>\n      <th>4394019</th>\n      <td>1</td>\n      <td>4.045</td>\n      <td>0</td>\n      <td>4.000</td>\n      <td>2.223</td>\n      <td>1.903</td>\n      <td>0</td>\n      <td>5.136</td>\n      <td>0</td>\n      <td>0</td>\n      <td>...</td>\n      <td>0</td>\n      <td>0</td>\n      <td>1</td>\n      <td>1</td>\n      <td>0</td>\n      <td>myrcene ale co dream mike goergen cy higgins m...</td>\n      <td>https://www.kickstarter.com/projects/myrceneal...</td>\n      <td>0.098</td>\n      <td>0.563</td>\n      <td>0.992</td>\n    </tr>\n    <tr>\n      <th>4385597</th>\n      <td>1</td>\n      <td>4.403</td>\n      <td>0</td>\n      <td>4.398</td>\n      <td>2.140</td>\n      <td>1.863</td>\n      <td>0</td>\n      <td>3.761</td>\n      <td>0</td>\n      <td>0</td>\n      <td>...</td>\n      <td>0</td>\n      <td>0</td>\n      <td>1</td>\n      <td>1</td>\n      <td>0</td>\n      <td>firefly theatrical need help build theatre spa...</td>\n      <td>https://www.kickstarter.com/projects/fireflyth...</td>\n      <td>0.470</td>\n      <td>-0.104</td>\n      <td>0.914</td>\n    </tr>\n    <tr>\n      <th>4367598</th>\n      <td>1</td>\n      <td>3.626</td>\n      <td>1</td>\n      <td>3.602</td>\n      <td>2.483</td>\n      <td>1.973</td>\n      <td>0</td>\n      <td>6.045</td>\n      <td>0</td>\n      <td>0</td>\n      <td>...</td>\n      <td>0</td>\n      <td>0</td>\n      <td>1</td>\n      <td>1</td>\n      <td>0</td>\n      <td>big feelings coloring book come idea recovery ...</td>\n      <td>https://www.kickstarter.com/projects/bigfeelin...</td>\n      <td>0.231</td>\n      <td>0.637</td>\n      <td>1.177</td>\n    </tr>\n    <tr>\n      <th>4381119</th>\n      <td>1</td>\n      <td>4.047</td>\n      <td>1</td>\n      <td>3.046</td>\n      <td>2.318</td>\n      <td>2.064</td>\n      <td>1</td>\n      <td>2.981</td>\n      <td>0</td>\n      <td>0</td>\n      <td>...</td>\n      <td>0</td>\n      <td>0</td>\n      <td>1</td>\n      <td>1</td>\n      <td>0</td>\n      <td>rumination n deep consider think something ima...</td>\n      <td>https://www.kickstarter.com/projects/141766490...</td>\n      <td>-0.270</td>\n      <td>0.688</td>\n      <td>1.034</td>\n    </tr>\n  </tbody>\n</table>\n<p>8388 rows × 46 columns</p>\n</div>"
     },
     "execution_count": 2,
     "metadata": {},
     "output_type": "execute_result"
    }
   ],
   "source": [
    "# Normalize data\n",
    "# Box-Cox lambda values\n",
    "# amount        0.0915075719918227\n",
    "# goal          0.02059050704045948\n",
    "# words         0.19404918878650212\n",
    "# backers_count 0.010289890837174583\n",
    "# duration      0.4346871019563134\n",
    "# business      0.039097024902746386\n",
    "# empathic      0.05775409842214908\n",
    "# social        0.23771984812837177\n",
    "# drives        0.22950948679659838\n",
    "\n",
    "normData = data.copy()\n",
    "\n",
    "for variable in ['amount', 'goal', 'words', 'backers_count', 'business', 'empathic', 'social']: # + drives\n",
    "    minimum, secondMinimum = data[variable].drop_duplicates().nsmallest(2)\n",
    "    if minimum == 0:\n",
    "        normData[variable] += 0.5*secondMinimum\n",
    "\n",
    "    normData[variable] = np.log10(normData[variable])\n",
    "    normData = normData.rename(columns={variable: \"norm_\" + variable})\n",
    "\n",
    "normData['duration'] = np.sqrt(normData['duration'])\n",
    "normData = normData.rename(columns={'duration': 'norm_duration'})\n",
    "\n",
    "normData.to_csv('normalisedData.csv')\n",
    "normData"
   ],
   "metadata": {
    "collapsed": false
   }
  },
  {
   "cell_type": "code",
   "execution_count": 3,
   "outputs": [
    {
     "data": {
      "text/plain": "             Male (mean)  Female (mean)  t-Value  p-Value\nCategory                                                 \nart                0.809          0.865   -2.389    0.017\ncomics             0.934          0.884    2.131    0.033\ncrafts             0.565          0.512    0.661    0.509\ndance              0.750          0.846   -0.417    0.683\ndesign             0.945          0.905    1.804    0.072\nfashion            0.578          0.809   -5.433  < 0.001\nfilm&video         0.542          0.623   -1.959    0.051\nfood               0.482          0.422    1.336    0.182\ngames              0.926          0.900    1.300    0.194\njournalism         0.415          0.226    1.693    0.095\nmusic              0.781          0.823   -1.244    0.214\nphotography        0.689          0.675    0.154    0.878\npublishing         0.846          0.888   -1.861    0.063\ntechnology         0.367          0.308    1.275    0.203\ntheater            0.630          0.697   -0.609    0.545",
      "text/html": "<div>\n<style scoped>\n    .dataframe tbody tr th:only-of-type {\n        vertical-align: middle;\n    }\n\n    .dataframe tbody tr th {\n        vertical-align: top;\n    }\n\n    .dataframe thead th {\n        text-align: right;\n    }\n</style>\n<table border=\"1\" class=\"dataframe\">\n  <thead>\n    <tr style=\"text-align: right;\">\n      <th></th>\n      <th>Male (mean)</th>\n      <th>Female (mean)</th>\n      <th>t-Value</th>\n      <th>p-Value</th>\n    </tr>\n    <tr>\n      <th>Category</th>\n      <th></th>\n      <th></th>\n      <th></th>\n      <th></th>\n    </tr>\n  </thead>\n  <tbody>\n    <tr>\n      <th>art</th>\n      <td>0.809</td>\n      <td>0.865</td>\n      <td>-2.389</td>\n      <td>0.017</td>\n    </tr>\n    <tr>\n      <th>comics</th>\n      <td>0.934</td>\n      <td>0.884</td>\n      <td>2.131</td>\n      <td>0.033</td>\n    </tr>\n    <tr>\n      <th>crafts</th>\n      <td>0.565</td>\n      <td>0.512</td>\n      <td>0.661</td>\n      <td>0.509</td>\n    </tr>\n    <tr>\n      <th>dance</th>\n      <td>0.750</td>\n      <td>0.846</td>\n      <td>-0.417</td>\n      <td>0.683</td>\n    </tr>\n    <tr>\n      <th>design</th>\n      <td>0.945</td>\n      <td>0.905</td>\n      <td>1.804</td>\n      <td>0.072</td>\n    </tr>\n    <tr>\n      <th>fashion</th>\n      <td>0.578</td>\n      <td>0.809</td>\n      <td>-5.433</td>\n      <td>&lt; 0.001</td>\n    </tr>\n    <tr>\n      <th>film&amp;video</th>\n      <td>0.542</td>\n      <td>0.623</td>\n      <td>-1.959</td>\n      <td>0.051</td>\n    </tr>\n    <tr>\n      <th>food</th>\n      <td>0.482</td>\n      <td>0.422</td>\n      <td>1.336</td>\n      <td>0.182</td>\n    </tr>\n    <tr>\n      <th>games</th>\n      <td>0.926</td>\n      <td>0.900</td>\n      <td>1.300</td>\n      <td>0.194</td>\n    </tr>\n    <tr>\n      <th>journalism</th>\n      <td>0.415</td>\n      <td>0.226</td>\n      <td>1.693</td>\n      <td>0.095</td>\n    </tr>\n    <tr>\n      <th>music</th>\n      <td>0.781</td>\n      <td>0.823</td>\n      <td>-1.244</td>\n      <td>0.214</td>\n    </tr>\n    <tr>\n      <th>photography</th>\n      <td>0.689</td>\n      <td>0.675</td>\n      <td>0.154</td>\n      <td>0.878</td>\n    </tr>\n    <tr>\n      <th>publishing</th>\n      <td>0.846</td>\n      <td>0.888</td>\n      <td>-1.861</td>\n      <td>0.063</td>\n    </tr>\n    <tr>\n      <th>technology</th>\n      <td>0.367</td>\n      <td>0.308</td>\n      <td>1.275</td>\n      <td>0.203</td>\n    </tr>\n    <tr>\n      <th>theater</th>\n      <td>0.630</td>\n      <td>0.697</td>\n      <td>-0.609</td>\n      <td>0.545</td>\n    </tr>\n  </tbody>\n</table>\n</div>"
     },
     "execution_count": 3,
     "metadata": {},
     "output_type": "execute_result"
    }
   ],
   "source": [
    "# Table 1\n",
    "mData = data[data['female_creator'] == 0]\n",
    "fData = data[data['female_creator'] == 1]\n",
    "\n",
    "categories = ['category_art', 'category_comics', 'category_crafts', 'category_dance', 'category_design',\n",
    "             'category_fashion', 'category_film&video', 'category_food', 'category_games', 'category_journalism',\n",
    "             'category_music', 'category_photography', 'category_publishing', 'category_technology', 'category_theater']\n",
    "\n",
    "mMeans = []\n",
    "fMeans = []\n",
    "tValues = []\n",
    "pValues = []\n",
    "catNames = []\n",
    "for category in categories:\n",
    "    mCatData = mData[mData[category] == 1]\n",
    "    fCatData = fData[fData[category] == 1]\n",
    "\n",
    "    mMeans.append(np.mean(mCatData['success']))\n",
    "    fMeans.append(np.mean(fCatData['success']))\n",
    "\n",
    "    # Equal variance check\n",
    "    mVar = np.var(mCatData['success'])\n",
    "    fVar = np.var(fCatData['success'])\n",
    "\n",
    "    bigger = np.maximum(mVar, fVar)\n",
    "    smaller = np.minimum(mVar, fVar)\n",
    "\n",
    "    equalVariance = False\n",
    "    if bigger / smaller < 4:\n",
    "        equalVariance = True\n",
    "\n",
    "    # Perform two-sample t-test\n",
    "    result = st.ttest_ind(a=mCatData['success'], b=fCatData['success'], equal_var=equalVariance)\n",
    "    tValues.append(result[0])\n",
    "    if result[1] >= 0.001:\n",
    "        pValues.append(result[1])\n",
    "    else:\n",
    "        pValues.append(\"< 0.001\")\n",
    "\n",
    "    catNames.append(category.split('_')[1])\n",
    "\n",
    "table1 = {\"Category\": catNames, \"Male (mean)\": mMeans, \"Female (mean)\": fMeans, \"t-Value\": tValues, \"p-Value\": pValues}\n",
    "table1 = pd.DataFrame.from_dict(table1)\n",
    "table1 = table1.set_index('Category')\n",
    "table1.to_csv('Tables/success rate per category.csv')\n",
    "table1"
   ],
   "metadata": {
    "collapsed": false
   }
  },
  {
   "cell_type": "code",
   "execution_count": 4,
   "outputs": [],
   "source": [
    "# Table 2 (part of table 7)\n",
    "# mVar = np.var(mData['success'])\n",
    "# fVar = np.var(fData['success'])\n",
    "#\n",
    "# bigger = np.maximum(mVar, fVar)\n",
    "# smaller = np.minimum(mVar, fVar)\n",
    "#\n",
    "# equalVariance = False\n",
    "# if bigger / smaller < 4:\n",
    "#     equalVariance = True\n",
    "#\n",
    "# result = st.ttest_ind(a=mData['success'], b=fData['success'], equal_var=equalVariance)\n",
    "# if result[1] < 0.001:\n",
    "#     result[1] = \"< 0.001\"\n",
    "#\n",
    "# table2 = {'Variable': ['success'], 'Male (mean)': [np.mean(mData['success'])], 'Female (mean)': [np.mean(fData['success'])], 't-Value': [result[0]], 'p-Value': [result[1]]}\n",
    "# table2 = pd.DataFrame.from_dict(table2)\n",
    "# table2 = table2.set_index('Variable')\n",
    "# table2.to_csv('Tables/gender breakdown.csv')\n",
    "# table2"
   ],
   "metadata": {
    "collapsed": false
   }
  },
  {
   "cell_type": "code",
   "execution_count": 5,
   "outputs": [
    {
     "data": {
      "text/plain": "                           Mean    Median  Minimum         Maximum  \\\nVariable                                                             \nsuccess                   0.763     1.000    0.000           1.000   \namount               66,149.066 3,838.000    1.000 272,707,148.204   \nfemale_creator            0.327     0.000    0.000           1.000   \ngoal                 19,854.147 4,000.000    1.000  14,000,000.000   \nwords                   408.228   305.000    2.000       2,588.000   \nbackers_count           345.802    65.000    1.000      55,024.000   \nserial_entrepreneur       0.252     0.000    0.000           1.000   \nduration                 32.190    30.000    1.000          73.958   \ncategory_art              0.121     0.000    0.000           1.000   \ncategory_comics           0.112     0.000    0.000           1.000   \ncategory_crafts           0.018     0.000    0.000           1.000   \ncategory_dance            0.002     0.000    0.000           1.000   \ncategory_design           0.072     0.000    0.000           1.000   \ncategory_fashion          0.052     0.000    0.000           1.000   \ncategory_film&video       0.085     0.000    0.000           1.000   \ncategory_food             0.060     0.000    0.000           1.000   \ncategory_games            0.173     0.000    0.000           1.000   \ncategory_journalism       0.009     0.000    0.000           1.000   \ncategory_music            0.080     0.000    0.000           1.000   \ncategory_photography      0.014     0.000    0.000           1.000   \ncategory_publishing       0.110     0.000    0.000           1.000   \ncategory_technology       0.081     0.000    0.000           1.000   \ncategory_theater          0.009     0.000    0.000           1.000   \nmonth_january             0.083     0.000    0.000           1.000   \nmonth_february            0.083     0.000    0.000           1.000   \nmonth_march               0.083     0.000    0.000           1.000   \nmonth_april               0.083     0.000    0.000           1.000   \nmonth_may                 0.083     0.000    0.000           1.000   \nmonth_june                0.083     0.000    0.000           1.000   \nmonth_july                0.083     0.000    0.000           1.000   \nmonth_august              0.083     0.000    0.000           1.000   \nmonth_september           0.083     0.000    0.000           1.000   \nmonth_october             0.083     0.000    0.000           1.000   \nmonth_november            0.083     0.000    0.000           1.000   \nmonth_december            0.083     0.000    0.000           1.000   \nyear_2019                 0.194     0.000    0.000           1.000   \nyear_2020                 0.333     0.000    0.000           1.000   \nyear_2021                 0.333     0.000    0.000           1.000   \nyear_2022                 0.139     0.000    0.000           1.000   \nmedia                     0.873     1.000    0.000           1.000   \nsustainability            0.039     0.000    0.000           1.000   \nbusiness                  2.130     1.582    0.000          25.000   \nempathic                  2.299     1.906    0.000          30.000   \nsocial                   11.152    10.714    0.000          45.455   \n\n                                SD  \nVariable                            \nsuccess                      0.425  \namount               2,984,093.960  \nfemale_creator               0.469  \ngoal                   188,831.801  \nwords                      362.641  \nbackers_count            1,595.292  \nserial_entrepreneur          0.434  \nduration                    12.615  \ncategory_art                 0.327  \ncategory_comics              0.315  \ncategory_crafts              0.135  \ncategory_dance               0.045  \ncategory_design              0.259  \ncategory_fashion             0.222  \ncategory_film&video          0.278  \ncategory_food                0.238  \ncategory_games               0.378  \ncategory_journalism          0.092  \ncategory_music               0.271  \ncategory_photography         0.116  \ncategory_publishing          0.313  \ncategory_technology          0.273  \ncategory_theater             0.097  \nmonth_january                0.276  \nmonth_february               0.276  \nmonth_march                  0.276  \nmonth_april                  0.276  \nmonth_may                    0.276  \nmonth_june                   0.276  \nmonth_july                   0.276  \nmonth_august                 0.276  \nmonth_september              0.276  \nmonth_october                0.276  \nmonth_november               0.276  \nmonth_december               0.276  \nyear_2019                    0.396  \nyear_2020                    0.471  \nyear_2021                    0.471  \nyear_2022                    0.346  \nmedia                        0.333  \nsustainability               0.194  \nbusiness                     2.105  \nempathic                     1.909  \nsocial                       4.880  ",
      "text/html": "<div>\n<style scoped>\n    .dataframe tbody tr th:only-of-type {\n        vertical-align: middle;\n    }\n\n    .dataframe tbody tr th {\n        vertical-align: top;\n    }\n\n    .dataframe thead th {\n        text-align: right;\n    }\n</style>\n<table border=\"1\" class=\"dataframe\">\n  <thead>\n    <tr style=\"text-align: right;\">\n      <th></th>\n      <th>Mean</th>\n      <th>Median</th>\n      <th>Minimum</th>\n      <th>Maximum</th>\n      <th>SD</th>\n    </tr>\n    <tr>\n      <th>Variable</th>\n      <th></th>\n      <th></th>\n      <th></th>\n      <th></th>\n      <th></th>\n    </tr>\n  </thead>\n  <tbody>\n    <tr>\n      <th>success</th>\n      <td>0.763</td>\n      <td>1.000</td>\n      <td>0.000</td>\n      <td>1.000</td>\n      <td>0.425</td>\n    </tr>\n    <tr>\n      <th>amount</th>\n      <td>66,149.066</td>\n      <td>3,838.000</td>\n      <td>1.000</td>\n      <td>272,707,148.204</td>\n      <td>2,984,093.960</td>\n    </tr>\n    <tr>\n      <th>female_creator</th>\n      <td>0.327</td>\n      <td>0.000</td>\n      <td>0.000</td>\n      <td>1.000</td>\n      <td>0.469</td>\n    </tr>\n    <tr>\n      <th>goal</th>\n      <td>19,854.147</td>\n      <td>4,000.000</td>\n      <td>1.000</td>\n      <td>14,000,000.000</td>\n      <td>188,831.801</td>\n    </tr>\n    <tr>\n      <th>words</th>\n      <td>408.228</td>\n      <td>305.000</td>\n      <td>2.000</td>\n      <td>2,588.000</td>\n      <td>362.641</td>\n    </tr>\n    <tr>\n      <th>backers_count</th>\n      <td>345.802</td>\n      <td>65.000</td>\n      <td>1.000</td>\n      <td>55,024.000</td>\n      <td>1,595.292</td>\n    </tr>\n    <tr>\n      <th>serial_entrepreneur</th>\n      <td>0.252</td>\n      <td>0.000</td>\n      <td>0.000</td>\n      <td>1.000</td>\n      <td>0.434</td>\n    </tr>\n    <tr>\n      <th>duration</th>\n      <td>32.190</td>\n      <td>30.000</td>\n      <td>1.000</td>\n      <td>73.958</td>\n      <td>12.615</td>\n    </tr>\n    <tr>\n      <th>category_art</th>\n      <td>0.121</td>\n      <td>0.000</td>\n      <td>0.000</td>\n      <td>1.000</td>\n      <td>0.327</td>\n    </tr>\n    <tr>\n      <th>category_comics</th>\n      <td>0.112</td>\n      <td>0.000</td>\n      <td>0.000</td>\n      <td>1.000</td>\n      <td>0.315</td>\n    </tr>\n    <tr>\n      <th>category_crafts</th>\n      <td>0.018</td>\n      <td>0.000</td>\n      <td>0.000</td>\n      <td>1.000</td>\n      <td>0.135</td>\n    </tr>\n    <tr>\n      <th>category_dance</th>\n      <td>0.002</td>\n      <td>0.000</td>\n      <td>0.000</td>\n      <td>1.000</td>\n      <td>0.045</td>\n    </tr>\n    <tr>\n      <th>category_design</th>\n      <td>0.072</td>\n      <td>0.000</td>\n      <td>0.000</td>\n      <td>1.000</td>\n      <td>0.259</td>\n    </tr>\n    <tr>\n      <th>category_fashion</th>\n      <td>0.052</td>\n      <td>0.000</td>\n      <td>0.000</td>\n      <td>1.000</td>\n      <td>0.222</td>\n    </tr>\n    <tr>\n      <th>category_film&amp;video</th>\n      <td>0.085</td>\n      <td>0.000</td>\n      <td>0.000</td>\n      <td>1.000</td>\n      <td>0.278</td>\n    </tr>\n    <tr>\n      <th>category_food</th>\n      <td>0.060</td>\n      <td>0.000</td>\n      <td>0.000</td>\n      <td>1.000</td>\n      <td>0.238</td>\n    </tr>\n    <tr>\n      <th>category_games</th>\n      <td>0.173</td>\n      <td>0.000</td>\n      <td>0.000</td>\n      <td>1.000</td>\n      <td>0.378</td>\n    </tr>\n    <tr>\n      <th>category_journalism</th>\n      <td>0.009</td>\n      <td>0.000</td>\n      <td>0.000</td>\n      <td>1.000</td>\n      <td>0.092</td>\n    </tr>\n    <tr>\n      <th>category_music</th>\n      <td>0.080</td>\n      <td>0.000</td>\n      <td>0.000</td>\n      <td>1.000</td>\n      <td>0.271</td>\n    </tr>\n    <tr>\n      <th>category_photography</th>\n      <td>0.014</td>\n      <td>0.000</td>\n      <td>0.000</td>\n      <td>1.000</td>\n      <td>0.116</td>\n    </tr>\n    <tr>\n      <th>category_publishing</th>\n      <td>0.110</td>\n      <td>0.000</td>\n      <td>0.000</td>\n      <td>1.000</td>\n      <td>0.313</td>\n    </tr>\n    <tr>\n      <th>category_technology</th>\n      <td>0.081</td>\n      <td>0.000</td>\n      <td>0.000</td>\n      <td>1.000</td>\n      <td>0.273</td>\n    </tr>\n    <tr>\n      <th>category_theater</th>\n      <td>0.009</td>\n      <td>0.000</td>\n      <td>0.000</td>\n      <td>1.000</td>\n      <td>0.097</td>\n    </tr>\n    <tr>\n      <th>month_january</th>\n      <td>0.083</td>\n      <td>0.000</td>\n      <td>0.000</td>\n      <td>1.000</td>\n      <td>0.276</td>\n    </tr>\n    <tr>\n      <th>month_february</th>\n      <td>0.083</td>\n      <td>0.000</td>\n      <td>0.000</td>\n      <td>1.000</td>\n      <td>0.276</td>\n    </tr>\n    <tr>\n      <th>month_march</th>\n      <td>0.083</td>\n      <td>0.000</td>\n      <td>0.000</td>\n      <td>1.000</td>\n      <td>0.276</td>\n    </tr>\n    <tr>\n      <th>month_april</th>\n      <td>0.083</td>\n      <td>0.000</td>\n      <td>0.000</td>\n      <td>1.000</td>\n      <td>0.276</td>\n    </tr>\n    <tr>\n      <th>month_may</th>\n      <td>0.083</td>\n      <td>0.000</td>\n      <td>0.000</td>\n      <td>1.000</td>\n      <td>0.276</td>\n    </tr>\n    <tr>\n      <th>month_june</th>\n      <td>0.083</td>\n      <td>0.000</td>\n      <td>0.000</td>\n      <td>1.000</td>\n      <td>0.276</td>\n    </tr>\n    <tr>\n      <th>month_july</th>\n      <td>0.083</td>\n      <td>0.000</td>\n      <td>0.000</td>\n      <td>1.000</td>\n      <td>0.276</td>\n    </tr>\n    <tr>\n      <th>month_august</th>\n      <td>0.083</td>\n      <td>0.000</td>\n      <td>0.000</td>\n      <td>1.000</td>\n      <td>0.276</td>\n    </tr>\n    <tr>\n      <th>month_september</th>\n      <td>0.083</td>\n      <td>0.000</td>\n      <td>0.000</td>\n      <td>1.000</td>\n      <td>0.276</td>\n    </tr>\n    <tr>\n      <th>month_october</th>\n      <td>0.083</td>\n      <td>0.000</td>\n      <td>0.000</td>\n      <td>1.000</td>\n      <td>0.276</td>\n    </tr>\n    <tr>\n      <th>month_november</th>\n      <td>0.083</td>\n      <td>0.000</td>\n      <td>0.000</td>\n      <td>1.000</td>\n      <td>0.276</td>\n    </tr>\n    <tr>\n      <th>month_december</th>\n      <td>0.083</td>\n      <td>0.000</td>\n      <td>0.000</td>\n      <td>1.000</td>\n      <td>0.276</td>\n    </tr>\n    <tr>\n      <th>year_2019</th>\n      <td>0.194</td>\n      <td>0.000</td>\n      <td>0.000</td>\n      <td>1.000</td>\n      <td>0.396</td>\n    </tr>\n    <tr>\n      <th>year_2020</th>\n      <td>0.333</td>\n      <td>0.000</td>\n      <td>0.000</td>\n      <td>1.000</td>\n      <td>0.471</td>\n    </tr>\n    <tr>\n      <th>year_2021</th>\n      <td>0.333</td>\n      <td>0.000</td>\n      <td>0.000</td>\n      <td>1.000</td>\n      <td>0.471</td>\n    </tr>\n    <tr>\n      <th>year_2022</th>\n      <td>0.139</td>\n      <td>0.000</td>\n      <td>0.000</td>\n      <td>1.000</td>\n      <td>0.346</td>\n    </tr>\n    <tr>\n      <th>media</th>\n      <td>0.873</td>\n      <td>1.000</td>\n      <td>0.000</td>\n      <td>1.000</td>\n      <td>0.333</td>\n    </tr>\n    <tr>\n      <th>sustainability</th>\n      <td>0.039</td>\n      <td>0.000</td>\n      <td>0.000</td>\n      <td>1.000</td>\n      <td>0.194</td>\n    </tr>\n    <tr>\n      <th>business</th>\n      <td>2.130</td>\n      <td>1.582</td>\n      <td>0.000</td>\n      <td>25.000</td>\n      <td>2.105</td>\n    </tr>\n    <tr>\n      <th>empathic</th>\n      <td>2.299</td>\n      <td>1.906</td>\n      <td>0.000</td>\n      <td>30.000</td>\n      <td>1.909</td>\n    </tr>\n    <tr>\n      <th>social</th>\n      <td>11.152</td>\n      <td>10.714</td>\n      <td>0.000</td>\n      <td>45.455</td>\n      <td>4.880</td>\n    </tr>\n  </tbody>\n</table>\n</div>"
     },
     "execution_count": 5,
     "metadata": {},
     "output_type": "execute_result"
    }
   ],
   "source": [
    "# Table 3\n",
    "numVars = []\n",
    "means = []\n",
    "medians = []\n",
    "minima = []\n",
    "maxima = []\n",
    "SDs = []\n",
    "\n",
    "for variable in data.columns.tolist():\n",
    "    varData = data[variable]\n",
    "    if is_numeric_dtype(varData):\n",
    "        numVars.append(variable)\n",
    "        means.append(np.mean(varData))\n",
    "        medians.append(np.median(varData))\n",
    "        minima.append(np.min(varData))\n",
    "        maxima.append(np.max(varData))\n",
    "        SDs.append(np.std(varData))\n",
    "\n",
    "table3 = {\"Variable\": numVars, \"Mean\": means, \"Median\": medians, \"Minimum\": minima, \"Maximum\": maxima, \"SD\": SDs}\n",
    "table3 = pd.DataFrame.from_dict(table3)\n",
    "table3 = table3.set_index(\"Variable\")\n",
    "table3.to_csv('Tables/descriptive statistics.csv')\n",
    "table3"
   ],
   "metadata": {
    "collapsed": false
   }
  },
  {
   "cell_type": "code",
   "execution_count": 6,
   "outputs": [
    {
     "data": {
      "text/plain": "                      Success (mean)  Failure (mean)  t-Value  p-Value\nVariable                                                              \nnorm_amount                    3.835           2.064   78.910  < 0.001\nfemale_creator                 0.328           0.324    0.330    0.741\nnorm_goal                      3.433           3.998  -31.108  < 0.001\nnorm_words                     2.504           2.274   22.815  < 0.001\nnorm_backers_count             2.071           0.783   82.970  < 0.001\nserial_entrepreneur            0.324           0.019   46.108  < 0.001\nnorm_duration                  5.359           6.234  -32.865  < 0.001\ncategory_art                   0.134           0.080    6.466  < 0.001\ncategory_comics                0.136           0.035   12.578  < 0.001\ncategory_crafts                0.013           0.036   -6.760  < 0.001\ncategory_dance                 0.002           0.002    0.583    0.560\ncategory_design                0.089           0.020   14.394  < 0.001\ncategory_fashion               0.048           0.065   -2.819    0.005\ncategory_film&video            0.063           0.156  -13.153  < 0.001\ncategory_food                  0.036           0.139  -17.004  < 0.001\ncategory_games                 0.209           0.057   15.894  < 0.001\ncategory_journalism            0.004           0.024   -5.786  < 0.001\ncategory_music                 0.083           0.070    1.888    0.059\ncategory_photography           0.012           0.018   -2.005    0.045\ncategory_publishing            0.125           0.064    7.621  < 0.001\ncategory_technology            0.038           0.222  -19.089  < 0.001\ncategory_theater               0.008           0.014   -2.212    0.027\nmonth_january                  0.077           0.103   -3.690  < 0.001\nmonth_february                 0.089           0.066    3.193    0.001\nmonth_march                    0.088           0.068    2.821    0.005\nmonth_april                    0.086           0.075    1.518    0.129\nmonth_may                      0.087           0.071    2.356    0.019\nmonth_june                     0.082           0.088   -0.806    0.420\nmonth_july                     0.083           0.084   -0.155    0.877\nmonth_august                   0.083           0.084   -0.062    0.951\nmonth_september                0.082           0.087   -0.620    0.535\nmonth_october                  0.085           0.077    1.147    0.252\nmonth_november                 0.081           0.092   -1.549    0.121\nmonth_december                 0.076           0.106   -4.156  < 0.001\nyear_2019                      0.183           0.232   -4.825  < 0.001\nyear_2020                      0.327           0.353   -2.162    0.031\nyear_2021                      0.346           0.292    4.438  < 0.001\nyear_2022                      0.144           0.122    2.419    0.016\nmedia                          0.959           0.597   32.057  < 0.001\nsustainability                 0.037           0.046   -1.813    0.070\nnorm_business                  0.086           0.119   -2.245    0.025\nnorm_empathic                  0.212           0.152    4.794  < 0.001\nnorm_social                    0.995           1.047   -8.637  < 0.001",
      "text/html": "<div>\n<style scoped>\n    .dataframe tbody tr th:only-of-type {\n        vertical-align: middle;\n    }\n\n    .dataframe tbody tr th {\n        vertical-align: top;\n    }\n\n    .dataframe thead th {\n        text-align: right;\n    }\n</style>\n<table border=\"1\" class=\"dataframe\">\n  <thead>\n    <tr style=\"text-align: right;\">\n      <th></th>\n      <th>Success (mean)</th>\n      <th>Failure (mean)</th>\n      <th>t-Value</th>\n      <th>p-Value</th>\n    </tr>\n    <tr>\n      <th>Variable</th>\n      <th></th>\n      <th></th>\n      <th></th>\n      <th></th>\n    </tr>\n  </thead>\n  <tbody>\n    <tr>\n      <th>norm_amount</th>\n      <td>3.835</td>\n      <td>2.064</td>\n      <td>78.910</td>\n      <td>&lt; 0.001</td>\n    </tr>\n    <tr>\n      <th>female_creator</th>\n      <td>0.328</td>\n      <td>0.324</td>\n      <td>0.330</td>\n      <td>0.741</td>\n    </tr>\n    <tr>\n      <th>norm_goal</th>\n      <td>3.433</td>\n      <td>3.998</td>\n      <td>-31.108</td>\n      <td>&lt; 0.001</td>\n    </tr>\n    <tr>\n      <th>norm_words</th>\n      <td>2.504</td>\n      <td>2.274</td>\n      <td>22.815</td>\n      <td>&lt; 0.001</td>\n    </tr>\n    <tr>\n      <th>norm_backers_count</th>\n      <td>2.071</td>\n      <td>0.783</td>\n      <td>82.970</td>\n      <td>&lt; 0.001</td>\n    </tr>\n    <tr>\n      <th>serial_entrepreneur</th>\n      <td>0.324</td>\n      <td>0.019</td>\n      <td>46.108</td>\n      <td>&lt; 0.001</td>\n    </tr>\n    <tr>\n      <th>norm_duration</th>\n      <td>5.359</td>\n      <td>6.234</td>\n      <td>-32.865</td>\n      <td>&lt; 0.001</td>\n    </tr>\n    <tr>\n      <th>category_art</th>\n      <td>0.134</td>\n      <td>0.080</td>\n      <td>6.466</td>\n      <td>&lt; 0.001</td>\n    </tr>\n    <tr>\n      <th>category_comics</th>\n      <td>0.136</td>\n      <td>0.035</td>\n      <td>12.578</td>\n      <td>&lt; 0.001</td>\n    </tr>\n    <tr>\n      <th>category_crafts</th>\n      <td>0.013</td>\n      <td>0.036</td>\n      <td>-6.760</td>\n      <td>&lt; 0.001</td>\n    </tr>\n    <tr>\n      <th>category_dance</th>\n      <td>0.002</td>\n      <td>0.002</td>\n      <td>0.583</td>\n      <td>0.560</td>\n    </tr>\n    <tr>\n      <th>category_design</th>\n      <td>0.089</td>\n      <td>0.020</td>\n      <td>14.394</td>\n      <td>&lt; 0.001</td>\n    </tr>\n    <tr>\n      <th>category_fashion</th>\n      <td>0.048</td>\n      <td>0.065</td>\n      <td>-2.819</td>\n      <td>0.005</td>\n    </tr>\n    <tr>\n      <th>category_film&amp;video</th>\n      <td>0.063</td>\n      <td>0.156</td>\n      <td>-13.153</td>\n      <td>&lt; 0.001</td>\n    </tr>\n    <tr>\n      <th>category_food</th>\n      <td>0.036</td>\n      <td>0.139</td>\n      <td>-17.004</td>\n      <td>&lt; 0.001</td>\n    </tr>\n    <tr>\n      <th>category_games</th>\n      <td>0.209</td>\n      <td>0.057</td>\n      <td>15.894</td>\n      <td>&lt; 0.001</td>\n    </tr>\n    <tr>\n      <th>category_journalism</th>\n      <td>0.004</td>\n      <td>0.024</td>\n      <td>-5.786</td>\n      <td>&lt; 0.001</td>\n    </tr>\n    <tr>\n      <th>category_music</th>\n      <td>0.083</td>\n      <td>0.070</td>\n      <td>1.888</td>\n      <td>0.059</td>\n    </tr>\n    <tr>\n      <th>category_photography</th>\n      <td>0.012</td>\n      <td>0.018</td>\n      <td>-2.005</td>\n      <td>0.045</td>\n    </tr>\n    <tr>\n      <th>category_publishing</th>\n      <td>0.125</td>\n      <td>0.064</td>\n      <td>7.621</td>\n      <td>&lt; 0.001</td>\n    </tr>\n    <tr>\n      <th>category_technology</th>\n      <td>0.038</td>\n      <td>0.222</td>\n      <td>-19.089</td>\n      <td>&lt; 0.001</td>\n    </tr>\n    <tr>\n      <th>category_theater</th>\n      <td>0.008</td>\n      <td>0.014</td>\n      <td>-2.212</td>\n      <td>0.027</td>\n    </tr>\n    <tr>\n      <th>month_january</th>\n      <td>0.077</td>\n      <td>0.103</td>\n      <td>-3.690</td>\n      <td>&lt; 0.001</td>\n    </tr>\n    <tr>\n      <th>month_february</th>\n      <td>0.089</td>\n      <td>0.066</td>\n      <td>3.193</td>\n      <td>0.001</td>\n    </tr>\n    <tr>\n      <th>month_march</th>\n      <td>0.088</td>\n      <td>0.068</td>\n      <td>2.821</td>\n      <td>0.005</td>\n    </tr>\n    <tr>\n      <th>month_april</th>\n      <td>0.086</td>\n      <td>0.075</td>\n      <td>1.518</td>\n      <td>0.129</td>\n    </tr>\n    <tr>\n      <th>month_may</th>\n      <td>0.087</td>\n      <td>0.071</td>\n      <td>2.356</td>\n      <td>0.019</td>\n    </tr>\n    <tr>\n      <th>month_june</th>\n      <td>0.082</td>\n      <td>0.088</td>\n      <td>-0.806</td>\n      <td>0.420</td>\n    </tr>\n    <tr>\n      <th>month_july</th>\n      <td>0.083</td>\n      <td>0.084</td>\n      <td>-0.155</td>\n      <td>0.877</td>\n    </tr>\n    <tr>\n      <th>month_august</th>\n      <td>0.083</td>\n      <td>0.084</td>\n      <td>-0.062</td>\n      <td>0.951</td>\n    </tr>\n    <tr>\n      <th>month_september</th>\n      <td>0.082</td>\n      <td>0.087</td>\n      <td>-0.620</td>\n      <td>0.535</td>\n    </tr>\n    <tr>\n      <th>month_october</th>\n      <td>0.085</td>\n      <td>0.077</td>\n      <td>1.147</td>\n      <td>0.252</td>\n    </tr>\n    <tr>\n      <th>month_november</th>\n      <td>0.081</td>\n      <td>0.092</td>\n      <td>-1.549</td>\n      <td>0.121</td>\n    </tr>\n    <tr>\n      <th>month_december</th>\n      <td>0.076</td>\n      <td>0.106</td>\n      <td>-4.156</td>\n      <td>&lt; 0.001</td>\n    </tr>\n    <tr>\n      <th>year_2019</th>\n      <td>0.183</td>\n      <td>0.232</td>\n      <td>-4.825</td>\n      <td>&lt; 0.001</td>\n    </tr>\n    <tr>\n      <th>year_2020</th>\n      <td>0.327</td>\n      <td>0.353</td>\n      <td>-2.162</td>\n      <td>0.031</td>\n    </tr>\n    <tr>\n      <th>year_2021</th>\n      <td>0.346</td>\n      <td>0.292</td>\n      <td>4.438</td>\n      <td>&lt; 0.001</td>\n    </tr>\n    <tr>\n      <th>year_2022</th>\n      <td>0.144</td>\n      <td>0.122</td>\n      <td>2.419</td>\n      <td>0.016</td>\n    </tr>\n    <tr>\n      <th>media</th>\n      <td>0.959</td>\n      <td>0.597</td>\n      <td>32.057</td>\n      <td>&lt; 0.001</td>\n    </tr>\n    <tr>\n      <th>sustainability</th>\n      <td>0.037</td>\n      <td>0.046</td>\n      <td>-1.813</td>\n      <td>0.070</td>\n    </tr>\n    <tr>\n      <th>norm_business</th>\n      <td>0.086</td>\n      <td>0.119</td>\n      <td>-2.245</td>\n      <td>0.025</td>\n    </tr>\n    <tr>\n      <th>norm_empathic</th>\n      <td>0.212</td>\n      <td>0.152</td>\n      <td>4.794</td>\n      <td>&lt; 0.001</td>\n    </tr>\n    <tr>\n      <th>norm_social</th>\n      <td>0.995</td>\n      <td>1.047</td>\n      <td>-8.637</td>\n      <td>&lt; 0.001</td>\n    </tr>\n  </tbody>\n</table>\n</div>"
     },
     "execution_count": 6,
     "metadata": {},
     "output_type": "execute_result"
    }
   ],
   "source": [
    "# Table 4\n",
    "succData = normData[normData['success'] == 1]\n",
    "failData = normData[normData['success'] == 0]\n",
    "\n",
    "succMeans = []\n",
    "failMeans = []\n",
    "succMedians = []\n",
    "failMedians = []\n",
    "\n",
    "meanTValues = []\n",
    "meanPValues = []\n",
    "\n",
    "moodsVars = ['amount', 'goal', 'words', 'backers_count', 'duration', 'business', 'empathic', 'social'] # + drives\n",
    "medianTValues = []\n",
    "medianPValues = []\n",
    "\n",
    "\n",
    "def cleanPValue(pValue):\n",
    "    if pValue != \"N/A\":\n",
    "        if pValue < 0.001:\n",
    "            pValue = \"< 0.001\"\n",
    "    return pValue\n",
    "\n",
    "\n",
    "numVars_ = []\n",
    "for var in numVars:\n",
    "    if var in ['amount', 'goal', 'words', 'backers_count', 'business', 'empathic', 'social', 'duration']:\n",
    "        var = \"norm_\" + var\n",
    "    numVars_.append(var)\n",
    "numVars = numVars_[:]\n",
    "\n",
    "for variable in numVars[1:]:\n",
    "    varDataSucc = succData[variable]\n",
    "    varDataFail = failData[variable]\n",
    "\n",
    "    # Compute means and medians\n",
    "    succMeans.append(np.mean(varDataSucc))\n",
    "    failMeans.append(np.mean(varDataFail))\n",
    "    succMedians.append(np.median(varDataSucc))\n",
    "    failMedians.append(np.median(varDataFail))\n",
    "\n",
    "    # Check variance ratio\n",
    "    succVar = np.var(varDataSucc)\n",
    "    failVar = np.var(varDataFail)\n",
    "\n",
    "    bigger = np.maximum(succVar, failVar)\n",
    "    smaller = np.minimum(succVar, failVar)\n",
    "\n",
    "    equalVariance = False\n",
    "    if bigger / smaller < 4:\n",
    "        equalVariance = True\n",
    "\n",
    "    # Perform two sample t-test\n",
    "    result = st.ttest_ind(a=varDataSucc, b=varDataFail, equal_var=equalVariance)\n",
    "    meanTValues.append(result[0])\n",
    "    meanPValues.append(cleanPValue(result[1]))\n",
    "\n",
    "    # Perform Mood's median test\n",
    "    if variable in moodsVars:\n",
    "        result = st.median_test(varDataSucc, varDataFail)\n",
    "    else:\n",
    "        result = [\"N/A\", \"N/A\"]\n",
    "    medianTValues.append(result[0])\n",
    "    medianPValues.append(cleanPValue(result[1]))\n",
    "\n",
    "table4 = {'Variable': numVars[1:], 'Success (mean)': succMeans, 'Failure (mean)': failMeans, 't-Value': meanTValues, 'p-Value': meanPValues}\n",
    "table4 = pd.DataFrame.from_dict(table4)\n",
    "table4 = table4.set_index('Variable')\n",
    "table4.to_csv('Tables/mean per variable (success).csv')\n",
    "table4"
   ],
   "metadata": {
    "collapsed": false
   }
  },
  {
   "cell_type": "code",
   "execution_count": 7,
   "outputs": [
    {
     "data": {
      "text/plain": "                      Success (median)  Failure (median) χ²-Value p-Value\nVariable                                                                 \nnorm_amount                      3.787             2.233      N/A     N/A\nfemale_creator                   0.000             0.000      N/A     N/A\nnorm_goal                        3.477             4.000      N/A     N/A\nnorm_words                       2.538             2.291      N/A     N/A\nnorm_backers_count               2.017             0.699      N/A     N/A\nserial_entrepreneur              0.000             0.000      N/A     N/A\nnorm_duration                    5.477             5.571      N/A     N/A\ncategory_art                     0.000             0.000      N/A     N/A\ncategory_comics                  0.000             0.000      N/A     N/A\ncategory_crafts                  0.000             0.000      N/A     N/A\ncategory_dance                   0.000             0.000      N/A     N/A\ncategory_design                  0.000             0.000      N/A     N/A\ncategory_fashion                 0.000             0.000      N/A     N/A\ncategory_film&video              0.000             0.000      N/A     N/A\ncategory_food                    0.000             0.000      N/A     N/A\ncategory_games                   0.000             0.000      N/A     N/A\ncategory_journalism              0.000             0.000      N/A     N/A\ncategory_music                   0.000             0.000      N/A     N/A\ncategory_photography             0.000             0.000      N/A     N/A\ncategory_publishing              0.000             0.000      N/A     N/A\ncategory_technology              0.000             0.000      N/A     N/A\ncategory_theater                 0.000             0.000      N/A     N/A\nmonth_january                    0.000             0.000      N/A     N/A\nmonth_february                   0.000             0.000      N/A     N/A\nmonth_march                      0.000             0.000      N/A     N/A\nmonth_april                      0.000             0.000      N/A     N/A\nmonth_may                        0.000             0.000      N/A     N/A\nmonth_june                       0.000             0.000      N/A     N/A\nmonth_july                       0.000             0.000      N/A     N/A\nmonth_august                     0.000             0.000      N/A     N/A\nmonth_september                  0.000             0.000      N/A     N/A\nmonth_october                    0.000             0.000      N/A     N/A\nmonth_november                   0.000             0.000      N/A     N/A\nmonth_december                   0.000             0.000      N/A     N/A\nyear_2019                        0.000             0.000      N/A     N/A\nyear_2020                        0.000             0.000      N/A     N/A\nyear_2021                        0.000             0.000      N/A     N/A\nyear_2022                        0.000             0.000      N/A     N/A\nmedia                            1.000             1.000      N/A     N/A\nsustainability                   0.000             0.000      N/A     N/A\nnorm_business                    0.194             0.300      N/A     N/A\nnorm_empathic                    0.293             0.300      N/A     N/A\nnorm_social                      1.026             1.092      N/A     N/A",
      "text/html": "<div>\n<style scoped>\n    .dataframe tbody tr th:only-of-type {\n        vertical-align: middle;\n    }\n\n    .dataframe tbody tr th {\n        vertical-align: top;\n    }\n\n    .dataframe thead th {\n        text-align: right;\n    }\n</style>\n<table border=\"1\" class=\"dataframe\">\n  <thead>\n    <tr style=\"text-align: right;\">\n      <th></th>\n      <th>Success (median)</th>\n      <th>Failure (median)</th>\n      <th>χ²-Value</th>\n      <th>p-Value</th>\n    </tr>\n    <tr>\n      <th>Variable</th>\n      <th></th>\n      <th></th>\n      <th></th>\n      <th></th>\n    </tr>\n  </thead>\n  <tbody>\n    <tr>\n      <th>norm_amount</th>\n      <td>3.787</td>\n      <td>2.233</td>\n      <td>N/A</td>\n      <td>N/A</td>\n    </tr>\n    <tr>\n      <th>female_creator</th>\n      <td>0.000</td>\n      <td>0.000</td>\n      <td>N/A</td>\n      <td>N/A</td>\n    </tr>\n    <tr>\n      <th>norm_goal</th>\n      <td>3.477</td>\n      <td>4.000</td>\n      <td>N/A</td>\n      <td>N/A</td>\n    </tr>\n    <tr>\n      <th>norm_words</th>\n      <td>2.538</td>\n      <td>2.291</td>\n      <td>N/A</td>\n      <td>N/A</td>\n    </tr>\n    <tr>\n      <th>norm_backers_count</th>\n      <td>2.017</td>\n      <td>0.699</td>\n      <td>N/A</td>\n      <td>N/A</td>\n    </tr>\n    <tr>\n      <th>serial_entrepreneur</th>\n      <td>0.000</td>\n      <td>0.000</td>\n      <td>N/A</td>\n      <td>N/A</td>\n    </tr>\n    <tr>\n      <th>norm_duration</th>\n      <td>5.477</td>\n      <td>5.571</td>\n      <td>N/A</td>\n      <td>N/A</td>\n    </tr>\n    <tr>\n      <th>category_art</th>\n      <td>0.000</td>\n      <td>0.000</td>\n      <td>N/A</td>\n      <td>N/A</td>\n    </tr>\n    <tr>\n      <th>category_comics</th>\n      <td>0.000</td>\n      <td>0.000</td>\n      <td>N/A</td>\n      <td>N/A</td>\n    </tr>\n    <tr>\n      <th>category_crafts</th>\n      <td>0.000</td>\n      <td>0.000</td>\n      <td>N/A</td>\n      <td>N/A</td>\n    </tr>\n    <tr>\n      <th>category_dance</th>\n      <td>0.000</td>\n      <td>0.000</td>\n      <td>N/A</td>\n      <td>N/A</td>\n    </tr>\n    <tr>\n      <th>category_design</th>\n      <td>0.000</td>\n      <td>0.000</td>\n      <td>N/A</td>\n      <td>N/A</td>\n    </tr>\n    <tr>\n      <th>category_fashion</th>\n      <td>0.000</td>\n      <td>0.000</td>\n      <td>N/A</td>\n      <td>N/A</td>\n    </tr>\n    <tr>\n      <th>category_film&amp;video</th>\n      <td>0.000</td>\n      <td>0.000</td>\n      <td>N/A</td>\n      <td>N/A</td>\n    </tr>\n    <tr>\n      <th>category_food</th>\n      <td>0.000</td>\n      <td>0.000</td>\n      <td>N/A</td>\n      <td>N/A</td>\n    </tr>\n    <tr>\n      <th>category_games</th>\n      <td>0.000</td>\n      <td>0.000</td>\n      <td>N/A</td>\n      <td>N/A</td>\n    </tr>\n    <tr>\n      <th>category_journalism</th>\n      <td>0.000</td>\n      <td>0.000</td>\n      <td>N/A</td>\n      <td>N/A</td>\n    </tr>\n    <tr>\n      <th>category_music</th>\n      <td>0.000</td>\n      <td>0.000</td>\n      <td>N/A</td>\n      <td>N/A</td>\n    </tr>\n    <tr>\n      <th>category_photography</th>\n      <td>0.000</td>\n      <td>0.000</td>\n      <td>N/A</td>\n      <td>N/A</td>\n    </tr>\n    <tr>\n      <th>category_publishing</th>\n      <td>0.000</td>\n      <td>0.000</td>\n      <td>N/A</td>\n      <td>N/A</td>\n    </tr>\n    <tr>\n      <th>category_technology</th>\n      <td>0.000</td>\n      <td>0.000</td>\n      <td>N/A</td>\n      <td>N/A</td>\n    </tr>\n    <tr>\n      <th>category_theater</th>\n      <td>0.000</td>\n      <td>0.000</td>\n      <td>N/A</td>\n      <td>N/A</td>\n    </tr>\n    <tr>\n      <th>month_january</th>\n      <td>0.000</td>\n      <td>0.000</td>\n      <td>N/A</td>\n      <td>N/A</td>\n    </tr>\n    <tr>\n      <th>month_february</th>\n      <td>0.000</td>\n      <td>0.000</td>\n      <td>N/A</td>\n      <td>N/A</td>\n    </tr>\n    <tr>\n      <th>month_march</th>\n      <td>0.000</td>\n      <td>0.000</td>\n      <td>N/A</td>\n      <td>N/A</td>\n    </tr>\n    <tr>\n      <th>month_april</th>\n      <td>0.000</td>\n      <td>0.000</td>\n      <td>N/A</td>\n      <td>N/A</td>\n    </tr>\n    <tr>\n      <th>month_may</th>\n      <td>0.000</td>\n      <td>0.000</td>\n      <td>N/A</td>\n      <td>N/A</td>\n    </tr>\n    <tr>\n      <th>month_june</th>\n      <td>0.000</td>\n      <td>0.000</td>\n      <td>N/A</td>\n      <td>N/A</td>\n    </tr>\n    <tr>\n      <th>month_july</th>\n      <td>0.000</td>\n      <td>0.000</td>\n      <td>N/A</td>\n      <td>N/A</td>\n    </tr>\n    <tr>\n      <th>month_august</th>\n      <td>0.000</td>\n      <td>0.000</td>\n      <td>N/A</td>\n      <td>N/A</td>\n    </tr>\n    <tr>\n      <th>month_september</th>\n      <td>0.000</td>\n      <td>0.000</td>\n      <td>N/A</td>\n      <td>N/A</td>\n    </tr>\n    <tr>\n      <th>month_october</th>\n      <td>0.000</td>\n      <td>0.000</td>\n      <td>N/A</td>\n      <td>N/A</td>\n    </tr>\n    <tr>\n      <th>month_november</th>\n      <td>0.000</td>\n      <td>0.000</td>\n      <td>N/A</td>\n      <td>N/A</td>\n    </tr>\n    <tr>\n      <th>month_december</th>\n      <td>0.000</td>\n      <td>0.000</td>\n      <td>N/A</td>\n      <td>N/A</td>\n    </tr>\n    <tr>\n      <th>year_2019</th>\n      <td>0.000</td>\n      <td>0.000</td>\n      <td>N/A</td>\n      <td>N/A</td>\n    </tr>\n    <tr>\n      <th>year_2020</th>\n      <td>0.000</td>\n      <td>0.000</td>\n      <td>N/A</td>\n      <td>N/A</td>\n    </tr>\n    <tr>\n      <th>year_2021</th>\n      <td>0.000</td>\n      <td>0.000</td>\n      <td>N/A</td>\n      <td>N/A</td>\n    </tr>\n    <tr>\n      <th>year_2022</th>\n      <td>0.000</td>\n      <td>0.000</td>\n      <td>N/A</td>\n      <td>N/A</td>\n    </tr>\n    <tr>\n      <th>media</th>\n      <td>1.000</td>\n      <td>1.000</td>\n      <td>N/A</td>\n      <td>N/A</td>\n    </tr>\n    <tr>\n      <th>sustainability</th>\n      <td>0.000</td>\n      <td>0.000</td>\n      <td>N/A</td>\n      <td>N/A</td>\n    </tr>\n    <tr>\n      <th>norm_business</th>\n      <td>0.194</td>\n      <td>0.300</td>\n      <td>N/A</td>\n      <td>N/A</td>\n    </tr>\n    <tr>\n      <th>norm_empathic</th>\n      <td>0.293</td>\n      <td>0.300</td>\n      <td>N/A</td>\n      <td>N/A</td>\n    </tr>\n    <tr>\n      <th>norm_social</th>\n      <td>1.026</td>\n      <td>1.092</td>\n      <td>N/A</td>\n      <td>N/A</td>\n    </tr>\n  </tbody>\n</table>\n</div>"
     },
     "execution_count": 7,
     "metadata": {},
     "output_type": "execute_result"
    }
   ],
   "source": [
    "# Table 4 (continued)\n",
    "table4 = {'Variable': numVars[1:], 'Success (median)': succMedians, 'Failure (median)': failMedians, 'χ²-Value': medianTValues, 'p-Value': medianPValues}\n",
    "table4 = pd.DataFrame.from_dict(table4)\n",
    "table4 = table4.set_index('Variable')\n",
    "table4.to_csv('Tables/median per variable (success).csv')\n",
    "table4"
   ],
   "metadata": {
    "collapsed": false
   }
  },
  {
   "cell_type": "code",
   "execution_count": 8,
   "outputs": [
    {
     "data": {
      "text/plain": "    money              emotion       social\n0    cash               admire   admittedly\n1   fines  clinical depression    consoling\n2  invest               envies      ex-wife\n3     irs              furious   ladies man\n4  market        heartbreaking          mob\n5  profit               misery         papa\n6    rich      not a good idea     stalking\n7   spend                 rage  transgender\n8     usd              tantrum      village\n9   worth           you'd love    white guy",
      "text/html": "<div>\n<style scoped>\n    .dataframe tbody tr th:only-of-type {\n        vertical-align: middle;\n    }\n\n    .dataframe tbody tr th {\n        vertical-align: top;\n    }\n\n    .dataframe thead th {\n        text-align: right;\n    }\n</style>\n<table border=\"1\" class=\"dataframe\">\n  <thead>\n    <tr style=\"text-align: right;\">\n      <th></th>\n      <th>money</th>\n      <th>emotion</th>\n      <th>social</th>\n    </tr>\n  </thead>\n  <tbody>\n    <tr>\n      <th>0</th>\n      <td>cash</td>\n      <td>admire</td>\n      <td>admittedly</td>\n    </tr>\n    <tr>\n      <th>1</th>\n      <td>fines</td>\n      <td>clinical depression</td>\n      <td>consoling</td>\n    </tr>\n    <tr>\n      <th>2</th>\n      <td>invest</td>\n      <td>envies</td>\n      <td>ex-wife</td>\n    </tr>\n    <tr>\n      <th>3</th>\n      <td>irs</td>\n      <td>furious</td>\n      <td>ladies man</td>\n    </tr>\n    <tr>\n      <th>4</th>\n      <td>market</td>\n      <td>heartbreaking</td>\n      <td>mob</td>\n    </tr>\n    <tr>\n      <th>5</th>\n      <td>profit</td>\n      <td>misery</td>\n      <td>papa</td>\n    </tr>\n    <tr>\n      <th>6</th>\n      <td>rich</td>\n      <td>not a good idea</td>\n      <td>stalking</td>\n    </tr>\n    <tr>\n      <th>7</th>\n      <td>spend</td>\n      <td>rage</td>\n      <td>transgender</td>\n    </tr>\n    <tr>\n      <th>8</th>\n      <td>usd</td>\n      <td>tantrum</td>\n      <td>village</td>\n    </tr>\n    <tr>\n      <th>9</th>\n      <td>worth</td>\n      <td>you'd love</td>\n      <td>white guy</td>\n    </tr>\n  </tbody>\n</table>\n</div>"
     },
     "execution_count": 8,
     "metadata": {},
     "output_type": "execute_result"
    }
   ],
   "source": [
    "# Table 5\n",
    "table5 = {\n",
    "    'money': ['cash', 'fines', 'invest', 'irs', 'market', 'profit', 'rich', 'spend', 'usd', 'worth'],\n",
    "    'emotion': ['admire', 'clinical depression', 'envies', 'furious', 'heartbreaking', 'misery', 'not a good idea', 'rage', 'tantrum', 'you\\'d love'],\n",
    "    'social': ['admittedly', 'consoling', 'ex-wife', 'ladies man', 'mob', 'papa', 'stalking', 'transgender', 'village', 'white guy'],\n",
    "    # 'drives': ['abuser', 'chat', 'dear', 'denies', 'excelling', 'law', 'mamacita', 'perfection', 'sergeant', 'sultan']\n",
    "}\n",
    "table5 = pd.DataFrame.from_dict(table5)\n",
    "table5.to_csv('Tables/category examples.csv', index=False)\n",
    "table5"
   ],
   "metadata": {
    "collapsed": false
   }
  },
  {
   "cell_type": "code",
   "execution_count": 9,
   "outputs": [
    {
     "data": {
      "text/plain": "                  success norm_amount female_creator  norm_goal norm_words  \\\nsuccess             1.000                                                    \n                  < 0.001                                                    \nnorm_amount         0.653       1.000                                        \n                (< 0.001)     < 0.001                                        \nfemale_creator      0.004      -0.051          1.000                         \n...                   ...         ...            ...        ...        ...   \n                  (0.025)     (0.339)      (< 0.001)  (< 0.001)  (< 0.001)   \nnorm_empathic       0.052       0.031          0.108     -0.031      0.194   \n                (< 0.001)     (0.004)      (< 0.001)    (0.005)  (< 0.001)   \nnorm_social        -0.094      -0.103          0.100      0.081      0.114   \n                (< 0.001)   (< 0.001)      (< 0.001)  (< 0.001)  (< 0.001)   \n\n               norm_backers_count serial_entrepreneur norm_duration  \\\nsuccess                                                               \n                                                                      \nnorm_amount                                                           \n                                                                      \nfemale_creator                                                        \n...                           ...                 ...           ...   \n                          (0.110)           (< 0.001)       (0.076)   \nnorm_empathic               0.015              -0.055        -0.008   \n                          (0.179)           (< 0.001)       (0.464)   \nnorm_social                -0.124              -0.131         0.072   \n                        (< 0.001)           (< 0.001)     (< 0.001)   \n\n               category_art category_comics  ... month_december year_2019  \\\nsuccess                                      ...                            \n                                             ...                            \nnorm_amount                                  ...                            \n                                             ...                            \nfemale_creator                               ...                            \n...                     ...             ...  ...            ...       ...   \n                  (< 0.001)       (< 0.001)  ...        (0.605)   (0.066)   \nnorm_empathic         0.036           0.003  ...          0.001    -0.019   \n                  (< 0.001)         (0.773)  ...        (0.892)   (0.090)   \nnorm_social          -0.045           0.032  ...          0.019     0.014   \n                  (< 0.001)         (0.003)  ...        (0.078)   (0.195)   \n\n               year_2020 year_2021 year_2022      media sustainability  \\\nsuccess                                                                  \n                                                                         \nnorm_amount                                                              \n                                                                         \nfemale_creator                                                           \n...                  ...       ...       ...        ...            ...   \n                 (0.388)   (0.035)   (0.052)    (0.117)      (< 0.001)   \nnorm_empathic     -0.011     0.024     0.003      0.052          0.018   \n                 (0.328)   (0.028)   (0.780)  (< 0.001)        (0.094)   \nnorm_social       -0.014     0.009    -0.009     -0.118          0.007   \n                 (0.202)   (0.428)   (0.410)  (< 0.001)        (0.530)   \n\n               norm_business norm_empathic norm_social  \nsuccess                                                 \n                                                        \nnorm_amount                                             \n                                                        \nfemale_creator                                          \n...                      ...           ...         ...  \n                     < 0.001                            \nnorm_empathic          0.047         1.000              \n                   (< 0.001)       < 0.001              \nnorm_social            0.136         0.279       1.000  \n                   (< 0.001)     (< 0.001)     < 0.001  \n\n[88 rows x 44 columns]",
      "text/html": "<div>\n<style scoped>\n    .dataframe tbody tr th:only-of-type {\n        vertical-align: middle;\n    }\n\n    .dataframe tbody tr th {\n        vertical-align: top;\n    }\n\n    .dataframe thead th {\n        text-align: right;\n    }\n</style>\n<table border=\"1\" class=\"dataframe\">\n  <thead>\n    <tr style=\"text-align: right;\">\n      <th></th>\n      <th>success</th>\n      <th>norm_amount</th>\n      <th>female_creator</th>\n      <th>norm_goal</th>\n      <th>norm_words</th>\n      <th>norm_backers_count</th>\n      <th>serial_entrepreneur</th>\n      <th>norm_duration</th>\n      <th>category_art</th>\n      <th>category_comics</th>\n      <th>...</th>\n      <th>month_december</th>\n      <th>year_2019</th>\n      <th>year_2020</th>\n      <th>year_2021</th>\n      <th>year_2022</th>\n      <th>media</th>\n      <th>sustainability</th>\n      <th>norm_business</th>\n      <th>norm_empathic</th>\n      <th>norm_social</th>\n    </tr>\n  </thead>\n  <tbody>\n    <tr>\n      <th>success</th>\n      <td>1.000</td>\n      <td></td>\n      <td></td>\n      <td></td>\n      <td></td>\n      <td></td>\n      <td></td>\n      <td></td>\n      <td></td>\n      <td></td>\n      <td>...</td>\n      <td></td>\n      <td></td>\n      <td></td>\n      <td></td>\n      <td></td>\n      <td></td>\n      <td></td>\n      <td></td>\n      <td></td>\n      <td></td>\n    </tr>\n    <tr>\n      <th></th>\n      <td>&lt; 0.001</td>\n      <td></td>\n      <td></td>\n      <td></td>\n      <td></td>\n      <td></td>\n      <td></td>\n      <td></td>\n      <td></td>\n      <td></td>\n      <td>...</td>\n      <td></td>\n      <td></td>\n      <td></td>\n      <td></td>\n      <td></td>\n      <td></td>\n      <td></td>\n      <td></td>\n      <td></td>\n      <td></td>\n    </tr>\n    <tr>\n      <th>norm_amount</th>\n      <td>0.653</td>\n      <td>1.000</td>\n      <td></td>\n      <td></td>\n      <td></td>\n      <td></td>\n      <td></td>\n      <td></td>\n      <td></td>\n      <td></td>\n      <td>...</td>\n      <td></td>\n      <td></td>\n      <td></td>\n      <td></td>\n      <td></td>\n      <td></td>\n      <td></td>\n      <td></td>\n      <td></td>\n      <td></td>\n    </tr>\n    <tr>\n      <th></th>\n      <td>(&lt; 0.001)</td>\n      <td>&lt; 0.001</td>\n      <td></td>\n      <td></td>\n      <td></td>\n      <td></td>\n      <td></td>\n      <td></td>\n      <td></td>\n      <td></td>\n      <td>...</td>\n      <td></td>\n      <td></td>\n      <td></td>\n      <td></td>\n      <td></td>\n      <td></td>\n      <td></td>\n      <td></td>\n      <td></td>\n      <td></td>\n    </tr>\n    <tr>\n      <th>female_creator</th>\n      <td>0.004</td>\n      <td>-0.051</td>\n      <td>1.000</td>\n      <td></td>\n      <td></td>\n      <td></td>\n      <td></td>\n      <td></td>\n      <td></td>\n      <td></td>\n      <td>...</td>\n      <td></td>\n      <td></td>\n      <td></td>\n      <td></td>\n      <td></td>\n      <td></td>\n      <td></td>\n      <td></td>\n      <td></td>\n      <td></td>\n    </tr>\n    <tr>\n      <th>...</th>\n      <td>...</td>\n      <td>...</td>\n      <td>...</td>\n      <td>...</td>\n      <td>...</td>\n      <td>...</td>\n      <td>...</td>\n      <td>...</td>\n      <td>...</td>\n      <td>...</td>\n      <td>...</td>\n      <td>...</td>\n      <td>...</td>\n      <td>...</td>\n      <td>...</td>\n      <td>...</td>\n      <td>...</td>\n      <td>...</td>\n      <td>...</td>\n      <td>...</td>\n      <td>...</td>\n    </tr>\n    <tr>\n      <th></th>\n      <td>(0.025)</td>\n      <td>(0.339)</td>\n      <td>(&lt; 0.001)</td>\n      <td>(&lt; 0.001)</td>\n      <td>(&lt; 0.001)</td>\n      <td>(0.110)</td>\n      <td>(&lt; 0.001)</td>\n      <td>(0.076)</td>\n      <td>(&lt; 0.001)</td>\n      <td>(&lt; 0.001)</td>\n      <td>...</td>\n      <td>(0.605)</td>\n      <td>(0.066)</td>\n      <td>(0.388)</td>\n      <td>(0.035)</td>\n      <td>(0.052)</td>\n      <td>(0.117)</td>\n      <td>(&lt; 0.001)</td>\n      <td>&lt; 0.001</td>\n      <td></td>\n      <td></td>\n    </tr>\n    <tr>\n      <th>norm_empathic</th>\n      <td>0.052</td>\n      <td>0.031</td>\n      <td>0.108</td>\n      <td>-0.031</td>\n      <td>0.194</td>\n      <td>0.015</td>\n      <td>-0.055</td>\n      <td>-0.008</td>\n      <td>0.036</td>\n      <td>0.003</td>\n      <td>...</td>\n      <td>0.001</td>\n      <td>-0.019</td>\n      <td>-0.011</td>\n      <td>0.024</td>\n      <td>0.003</td>\n      <td>0.052</td>\n      <td>0.018</td>\n      <td>0.047</td>\n      <td>1.000</td>\n      <td></td>\n    </tr>\n    <tr>\n      <th></th>\n      <td>(&lt; 0.001)</td>\n      <td>(0.004)</td>\n      <td>(&lt; 0.001)</td>\n      <td>(0.005)</td>\n      <td>(&lt; 0.001)</td>\n      <td>(0.179)</td>\n      <td>(&lt; 0.001)</td>\n      <td>(0.464)</td>\n      <td>(&lt; 0.001)</td>\n      <td>(0.773)</td>\n      <td>...</td>\n      <td>(0.892)</td>\n      <td>(0.090)</td>\n      <td>(0.328)</td>\n      <td>(0.028)</td>\n      <td>(0.780)</td>\n      <td>(&lt; 0.001)</td>\n      <td>(0.094)</td>\n      <td>(&lt; 0.001)</td>\n      <td>&lt; 0.001</td>\n      <td></td>\n    </tr>\n    <tr>\n      <th>norm_social</th>\n      <td>-0.094</td>\n      <td>-0.103</td>\n      <td>0.100</td>\n      <td>0.081</td>\n      <td>0.114</td>\n      <td>-0.124</td>\n      <td>-0.131</td>\n      <td>0.072</td>\n      <td>-0.045</td>\n      <td>0.032</td>\n      <td>...</td>\n      <td>0.019</td>\n      <td>0.014</td>\n      <td>-0.014</td>\n      <td>0.009</td>\n      <td>-0.009</td>\n      <td>-0.118</td>\n      <td>0.007</td>\n      <td>0.136</td>\n      <td>0.279</td>\n      <td>1.000</td>\n    </tr>\n    <tr>\n      <th></th>\n      <td>(&lt; 0.001)</td>\n      <td>(&lt; 0.001)</td>\n      <td>(&lt; 0.001)</td>\n      <td>(&lt; 0.001)</td>\n      <td>(&lt; 0.001)</td>\n      <td>(&lt; 0.001)</td>\n      <td>(&lt; 0.001)</td>\n      <td>(&lt; 0.001)</td>\n      <td>(&lt; 0.001)</td>\n      <td>(0.003)</td>\n      <td>...</td>\n      <td>(0.078)</td>\n      <td>(0.195)</td>\n      <td>(0.202)</td>\n      <td>(0.428)</td>\n      <td>(0.410)</td>\n      <td>(&lt; 0.001)</td>\n      <td>(0.530)</td>\n      <td>(&lt; 0.001)</td>\n      <td>(&lt; 0.001)</td>\n      <td>&lt; 0.001</td>\n    </tr>\n  </tbody>\n</table>\n<p>88 rows × 44 columns</p>\n</div>"
     },
     "execution_count": 9,
     "metadata": {},
     "output_type": "execute_result"
    }
   ],
   "source": [
    "# Table 6\n",
    "index = []\n",
    "for variable in numVars:\n",
    "    index.append(variable)\n",
    "    index.append('')\n",
    "table6 = pd.DataFrame(index=index, columns=numVars)\n",
    "\n",
    "noVars = len(numVars)\n",
    "for i in range(noVars):\n",
    "    rValues = []\n",
    "    pValues = []\n",
    "\n",
    "    var1Data = normData[numVars[i]]\n",
    "    for j in range(i + 1):\n",
    "        if i == j:\n",
    "            rValues.append(1.000)\n",
    "            pValues.append('< 0.001')\n",
    "        else:\n",
    "            rValue, pValue = st.pearsonr(var1Data, normData[numVars[j]])\n",
    "            rValues.append(rValue)\n",
    "            if pValue < 0.001:\n",
    "                pValue = '< 0.001'\n",
    "            else:\n",
    "                pValue = '{:.3f}'.format(pValue)\n",
    "            pValues.append('(%s)' % pValue)\n",
    "\n",
    "    for j in range(i + 1, noVars):\n",
    "        rValues.append('')\n",
    "        pValues.append('')\n",
    "\n",
    "    table6.iloc[2*i] = rValues\n",
    "    table6.iloc[2*i + 1] = pValues\n",
    "\n",
    "table6.to_csv('Tables/correlation matrix.csv')\n",
    "table6"
   ],
   "metadata": {
    "collapsed": false
   }
  },
  {
   "cell_type": "code",
   "execution_count": 10,
   "outputs": [
    {
     "data": {
      "text/plain": "                      Male (mean)  Female (mean)  t-Value  p-Value\nVariable                                                          \nsuccess                     0.762          0.766   -0.330    0.741\nnorm_amount                 3.457          3.333    4.637  < 0.001\nnorm_goal                   3.614          3.469    8.387  < 0.001\nnorm_words                  2.464          2.421    4.580  < 0.001\nnorm_backers_count          1.809          1.679    6.889  < 0.001\nserial_entrepreneur         0.278          0.199    7.851  < 0.001\nnorm_duration               5.570          5.556    0.541    0.588\ncategory_art                0.067          0.234  -22.725  < 0.001\ncategory_comics             0.140          0.054   11.902  < 0.001\ncategory_crafts             0.012          0.031   -6.112  < 0.001\ncategory_dance              0.001          0.005   -2.967    0.003\ncategory_design             0.078          0.061    2.747    0.006\ncategory_fashion            0.034          0.090  -10.819  < 0.001\ncategory_film&video         0.091          0.073    2.782    0.005\ncategory_food               0.054          0.074   -3.728  < 0.001\ncategory_games              0.220          0.077   16.580  < 0.001\ncategory_journalism         0.007          0.011   -1.879    0.060\ncategory_music              0.084          0.072    1.872    0.061\ncategory_photography        0.013          0.015   -0.544    0.586\ncategory_publishing         0.094          0.143   -6.762  < 0.001\ncategory_technology         0.097          0.048    7.722  < 0.001\ncategory_theater            0.008          0.012   -1.724    0.085\nmonth_january               0.080          0.089   -1.375    0.169\nmonth_february              0.083          0.084   -0.112    0.911\nmonth_march                 0.085          0.081    0.645    0.519\nmonth_april                 0.089          0.073    2.499    0.012\nmonth_may                   0.085          0.080    0.730    0.466\nmonth_june                  0.082          0.086   -0.702    0.483\nmonth_july                  0.083          0.084   -0.196    0.844\nmonth_august                0.085          0.081    0.645    0.519\nmonth_september             0.081          0.088   -1.038    0.299\nmonth_october               0.081          0.087   -0.954    0.340\nmonth_november              0.083          0.084   -0.112    0.911\nmonth_december              0.083          0.083   -0.028    0.978\nyear_2019                   0.200          0.184    1.679    0.093\nyear_2020                   0.335          0.329    0.576    0.565\nyear_2021                   0.324          0.353   -2.683    0.007\nyear_2022                   0.141          0.134    0.950    0.342\nmedia                       0.880          0.859    2.723    0.006\nsustainability              0.032          0.053   -4.698  < 0.001\nnorm_business               0.050          0.185  -10.231  < 0.001\nnorm_empathic               0.161          0.273   -9.914  < 0.001\nnorm_social                 0.990          1.041   -9.181  < 0.001",
      "text/html": "<div>\n<style scoped>\n    .dataframe tbody tr th:only-of-type {\n        vertical-align: middle;\n    }\n\n    .dataframe tbody tr th {\n        vertical-align: top;\n    }\n\n    .dataframe thead th {\n        text-align: right;\n    }\n</style>\n<table border=\"1\" class=\"dataframe\">\n  <thead>\n    <tr style=\"text-align: right;\">\n      <th></th>\n      <th>Male (mean)</th>\n      <th>Female (mean)</th>\n      <th>t-Value</th>\n      <th>p-Value</th>\n    </tr>\n    <tr>\n      <th>Variable</th>\n      <th></th>\n      <th></th>\n      <th></th>\n      <th></th>\n    </tr>\n  </thead>\n  <tbody>\n    <tr>\n      <th>success</th>\n      <td>0.762</td>\n      <td>0.766</td>\n      <td>-0.330</td>\n      <td>0.741</td>\n    </tr>\n    <tr>\n      <th>norm_amount</th>\n      <td>3.457</td>\n      <td>3.333</td>\n      <td>4.637</td>\n      <td>&lt; 0.001</td>\n    </tr>\n    <tr>\n      <th>norm_goal</th>\n      <td>3.614</td>\n      <td>3.469</td>\n      <td>8.387</td>\n      <td>&lt; 0.001</td>\n    </tr>\n    <tr>\n      <th>norm_words</th>\n      <td>2.464</td>\n      <td>2.421</td>\n      <td>4.580</td>\n      <td>&lt; 0.001</td>\n    </tr>\n    <tr>\n      <th>norm_backers_count</th>\n      <td>1.809</td>\n      <td>1.679</td>\n      <td>6.889</td>\n      <td>&lt; 0.001</td>\n    </tr>\n    <tr>\n      <th>serial_entrepreneur</th>\n      <td>0.278</td>\n      <td>0.199</td>\n      <td>7.851</td>\n      <td>&lt; 0.001</td>\n    </tr>\n    <tr>\n      <th>norm_duration</th>\n      <td>5.570</td>\n      <td>5.556</td>\n      <td>0.541</td>\n      <td>0.588</td>\n    </tr>\n    <tr>\n      <th>category_art</th>\n      <td>0.067</td>\n      <td>0.234</td>\n      <td>-22.725</td>\n      <td>&lt; 0.001</td>\n    </tr>\n    <tr>\n      <th>category_comics</th>\n      <td>0.140</td>\n      <td>0.054</td>\n      <td>11.902</td>\n      <td>&lt; 0.001</td>\n    </tr>\n    <tr>\n      <th>category_crafts</th>\n      <td>0.012</td>\n      <td>0.031</td>\n      <td>-6.112</td>\n      <td>&lt; 0.001</td>\n    </tr>\n    <tr>\n      <th>category_dance</th>\n      <td>0.001</td>\n      <td>0.005</td>\n      <td>-2.967</td>\n      <td>0.003</td>\n    </tr>\n    <tr>\n      <th>category_design</th>\n      <td>0.078</td>\n      <td>0.061</td>\n      <td>2.747</td>\n      <td>0.006</td>\n    </tr>\n    <tr>\n      <th>category_fashion</th>\n      <td>0.034</td>\n      <td>0.090</td>\n      <td>-10.819</td>\n      <td>&lt; 0.001</td>\n    </tr>\n    <tr>\n      <th>category_film&amp;video</th>\n      <td>0.091</td>\n      <td>0.073</td>\n      <td>2.782</td>\n      <td>0.005</td>\n    </tr>\n    <tr>\n      <th>category_food</th>\n      <td>0.054</td>\n      <td>0.074</td>\n      <td>-3.728</td>\n      <td>&lt; 0.001</td>\n    </tr>\n    <tr>\n      <th>category_games</th>\n      <td>0.220</td>\n      <td>0.077</td>\n      <td>16.580</td>\n      <td>&lt; 0.001</td>\n    </tr>\n    <tr>\n      <th>category_journalism</th>\n      <td>0.007</td>\n      <td>0.011</td>\n      <td>-1.879</td>\n      <td>0.060</td>\n    </tr>\n    <tr>\n      <th>category_music</th>\n      <td>0.084</td>\n      <td>0.072</td>\n      <td>1.872</td>\n      <td>0.061</td>\n    </tr>\n    <tr>\n      <th>category_photography</th>\n      <td>0.013</td>\n      <td>0.015</td>\n      <td>-0.544</td>\n      <td>0.586</td>\n    </tr>\n    <tr>\n      <th>category_publishing</th>\n      <td>0.094</td>\n      <td>0.143</td>\n      <td>-6.762</td>\n      <td>&lt; 0.001</td>\n    </tr>\n    <tr>\n      <th>category_technology</th>\n      <td>0.097</td>\n      <td>0.048</td>\n      <td>7.722</td>\n      <td>&lt; 0.001</td>\n    </tr>\n    <tr>\n      <th>category_theater</th>\n      <td>0.008</td>\n      <td>0.012</td>\n      <td>-1.724</td>\n      <td>0.085</td>\n    </tr>\n    <tr>\n      <th>month_january</th>\n      <td>0.080</td>\n      <td>0.089</td>\n      <td>-1.375</td>\n      <td>0.169</td>\n    </tr>\n    <tr>\n      <th>month_february</th>\n      <td>0.083</td>\n      <td>0.084</td>\n      <td>-0.112</td>\n      <td>0.911</td>\n    </tr>\n    <tr>\n      <th>month_march</th>\n      <td>0.085</td>\n      <td>0.081</td>\n      <td>0.645</td>\n      <td>0.519</td>\n    </tr>\n    <tr>\n      <th>month_april</th>\n      <td>0.089</td>\n      <td>0.073</td>\n      <td>2.499</td>\n      <td>0.012</td>\n    </tr>\n    <tr>\n      <th>month_may</th>\n      <td>0.085</td>\n      <td>0.080</td>\n      <td>0.730</td>\n      <td>0.466</td>\n    </tr>\n    <tr>\n      <th>month_june</th>\n      <td>0.082</td>\n      <td>0.086</td>\n      <td>-0.702</td>\n      <td>0.483</td>\n    </tr>\n    <tr>\n      <th>month_july</th>\n      <td>0.083</td>\n      <td>0.084</td>\n      <td>-0.196</td>\n      <td>0.844</td>\n    </tr>\n    <tr>\n      <th>month_august</th>\n      <td>0.085</td>\n      <td>0.081</td>\n      <td>0.645</td>\n      <td>0.519</td>\n    </tr>\n    <tr>\n      <th>month_september</th>\n      <td>0.081</td>\n      <td>0.088</td>\n      <td>-1.038</td>\n      <td>0.299</td>\n    </tr>\n    <tr>\n      <th>month_october</th>\n      <td>0.081</td>\n      <td>0.087</td>\n      <td>-0.954</td>\n      <td>0.340</td>\n    </tr>\n    <tr>\n      <th>month_november</th>\n      <td>0.083</td>\n      <td>0.084</td>\n      <td>-0.112</td>\n      <td>0.911</td>\n    </tr>\n    <tr>\n      <th>month_december</th>\n      <td>0.083</td>\n      <td>0.083</td>\n      <td>-0.028</td>\n      <td>0.978</td>\n    </tr>\n    <tr>\n      <th>year_2019</th>\n      <td>0.200</td>\n      <td>0.184</td>\n      <td>1.679</td>\n      <td>0.093</td>\n    </tr>\n    <tr>\n      <th>year_2020</th>\n      <td>0.335</td>\n      <td>0.329</td>\n      <td>0.576</td>\n      <td>0.565</td>\n    </tr>\n    <tr>\n      <th>year_2021</th>\n      <td>0.324</td>\n      <td>0.353</td>\n      <td>-2.683</td>\n      <td>0.007</td>\n    </tr>\n    <tr>\n      <th>year_2022</th>\n      <td>0.141</td>\n      <td>0.134</td>\n      <td>0.950</td>\n      <td>0.342</td>\n    </tr>\n    <tr>\n      <th>media</th>\n      <td>0.880</td>\n      <td>0.859</td>\n      <td>2.723</td>\n      <td>0.006</td>\n    </tr>\n    <tr>\n      <th>sustainability</th>\n      <td>0.032</td>\n      <td>0.053</td>\n      <td>-4.698</td>\n      <td>&lt; 0.001</td>\n    </tr>\n    <tr>\n      <th>norm_business</th>\n      <td>0.050</td>\n      <td>0.185</td>\n      <td>-10.231</td>\n      <td>&lt; 0.001</td>\n    </tr>\n    <tr>\n      <th>norm_empathic</th>\n      <td>0.161</td>\n      <td>0.273</td>\n      <td>-9.914</td>\n      <td>&lt; 0.001</td>\n    </tr>\n    <tr>\n      <th>norm_social</th>\n      <td>0.990</td>\n      <td>1.041</td>\n      <td>-9.181</td>\n      <td>&lt; 0.001</td>\n    </tr>\n  </tbody>\n</table>\n</div>"
     },
     "execution_count": 10,
     "metadata": {},
     "output_type": "execute_result"
    }
   ],
   "source": [
    "# Table 7\n",
    "mNormData = normData[normData['female_creator'] == 0]\n",
    "fNormData = normData[normData['female_creator'] == 1]\n",
    "\n",
    "mMeans = []\n",
    "fMeans = []\n",
    "tValues = []\n",
    "pValues = []\n",
    "\n",
    "numVars_ = numVars[:]\n",
    "numVars_.remove('female_creator')\n",
    "for variable in numVars_:\n",
    "    mVarData = mNormData[variable]\n",
    "    fVarData = fNormData[variable]\n",
    "\n",
    "    # Calculate the means\n",
    "    mMeans.append(np.mean(mVarData))\n",
    "    fMeans.append(np.mean(fVarData))\n",
    "\n",
    "    # Check for equal variance\n",
    "    mVar = np.var(mVarData)\n",
    "    fVar = np.var(fVarData)\n",
    "\n",
    "    bigger = np.maximum(mVar, fVar)\n",
    "    smaller = np.minimum(mVar, fVar)\n",
    "\n",
    "    equalVariance = False\n",
    "    if bigger / smaller < 4:\n",
    "        equalVariance = True\n",
    "\n",
    "    # Perform two-sample t-test\n",
    "    result = st.ttest_ind(a=mVarData, b=fVarData, equal_var=equalVariance)\n",
    "    tValues.append(result[0])\n",
    "    if result[1] >= 0.001:\n",
    "        pValues.append(result[1])\n",
    "    else:\n",
    "        pValues.append(\"< 0.001\")\n",
    "\n",
    "table7 = {\"Variable\": numVars_, \"Male (mean)\": mMeans, \"Female (mean)\": fMeans, \"t-Value\": tValues, \"p-Value\": pValues}\n",
    "table7 = pd.DataFrame.from_dict(table7)\n",
    "table7 = table7.set_index('Variable')\n",
    "table7.to_csv('Tables/mean per variable (female_creator).csv')\n",
    "table7"
   ],
   "metadata": {
    "collapsed": false
   }
  },
  {
   "cell_type": "code",
   "execution_count": 11,
   "outputs": [
    {
     "data": {
      "text/plain": "                      r-Value  p-Value  Linear\nVariable                                      \nsuccess                 0.653    0.000    True\nnorm_amount             1.000    0.000    True\nfemale_creator         -0.051    0.000   False\nnorm_goal               0.187    0.000   False\nnorm_words              0.406    0.000    True\nnorm_backers_count      0.911    0.000    True\nserial_entrepreneur     0.263    0.000   False\nnorm_duration          -0.188    0.000   False\ncategory_art           -0.055    0.000   False\ncategory_comics         0.058    0.000   False\ncategory_crafts        -0.101    0.000   False\ncategory_dance         -0.006    0.573   False\ncategory_design         0.175    0.000   False\ncategory_fashion       -0.076    0.000   False\ncategory_film&video    -0.086    0.000   False\ncategory_food          -0.059    0.000   False\ncategory_games          0.206    0.000   False\ncategory_journalism    -0.083    0.000   False\ncategory_music         -0.028    0.011   False\ncategory_photography   -0.023    0.032   False\ncategory_publishing     0.016    0.138   False\ncategory_technology    -0.141    0.000   False\ncategory_theater       -0.028    0.012   False\nmonth_january          -0.059    0.000   False\nmonth_february          0.019    0.089   False\nmonth_march             0.018    0.097   False\nmonth_april             0.012    0.267   False\nmonth_may               0.039    0.000   False\nmonth_june             -0.012    0.292   False\nmonth_july              0.012    0.253   False\nmonth_august           -0.008    0.452   False\nmonth_september        -0.004    0.734   False\nmonth_october           0.013    0.251   False\nmonth_november         -0.004    0.719   False\nmonth_december         -0.026    0.016   False\nyear_2019              -0.060    0.000   False\nyear_2020              -0.021    0.049   False\nyear_2021               0.058    0.000   False\nyear_2022               0.020    0.067   False\nmedia                   0.465    0.000    True\nsustainability          0.075    0.000   False\nnorm_business          -0.010    0.339   False\nnorm_empathic           0.031    0.004   False\nnorm_social            -0.103    0.000   False",
      "text/html": "<div>\n<style scoped>\n    .dataframe tbody tr th:only-of-type {\n        vertical-align: middle;\n    }\n\n    .dataframe tbody tr th {\n        vertical-align: top;\n    }\n\n    .dataframe thead th {\n        text-align: right;\n    }\n</style>\n<table border=\"1\" class=\"dataframe\">\n  <thead>\n    <tr style=\"text-align: right;\">\n      <th></th>\n      <th>r-Value</th>\n      <th>p-Value</th>\n      <th>Linear</th>\n    </tr>\n    <tr>\n      <th>Variable</th>\n      <th></th>\n      <th></th>\n      <th></th>\n    </tr>\n  </thead>\n  <tbody>\n    <tr>\n      <th>success</th>\n      <td>0.653</td>\n      <td>0.000</td>\n      <td>True</td>\n    </tr>\n    <tr>\n      <th>norm_amount</th>\n      <td>1.000</td>\n      <td>0.000</td>\n      <td>True</td>\n    </tr>\n    <tr>\n      <th>female_creator</th>\n      <td>-0.051</td>\n      <td>0.000</td>\n      <td>False</td>\n    </tr>\n    <tr>\n      <th>norm_goal</th>\n      <td>0.187</td>\n      <td>0.000</td>\n      <td>False</td>\n    </tr>\n    <tr>\n      <th>norm_words</th>\n      <td>0.406</td>\n      <td>0.000</td>\n      <td>True</td>\n    </tr>\n    <tr>\n      <th>norm_backers_count</th>\n      <td>0.911</td>\n      <td>0.000</td>\n      <td>True</td>\n    </tr>\n    <tr>\n      <th>serial_entrepreneur</th>\n      <td>0.263</td>\n      <td>0.000</td>\n      <td>False</td>\n    </tr>\n    <tr>\n      <th>norm_duration</th>\n      <td>-0.188</td>\n      <td>0.000</td>\n      <td>False</td>\n    </tr>\n    <tr>\n      <th>category_art</th>\n      <td>-0.055</td>\n      <td>0.000</td>\n      <td>False</td>\n    </tr>\n    <tr>\n      <th>category_comics</th>\n      <td>0.058</td>\n      <td>0.000</td>\n      <td>False</td>\n    </tr>\n    <tr>\n      <th>category_crafts</th>\n      <td>-0.101</td>\n      <td>0.000</td>\n      <td>False</td>\n    </tr>\n    <tr>\n      <th>category_dance</th>\n      <td>-0.006</td>\n      <td>0.573</td>\n      <td>False</td>\n    </tr>\n    <tr>\n      <th>category_design</th>\n      <td>0.175</td>\n      <td>0.000</td>\n      <td>False</td>\n    </tr>\n    <tr>\n      <th>category_fashion</th>\n      <td>-0.076</td>\n      <td>0.000</td>\n      <td>False</td>\n    </tr>\n    <tr>\n      <th>category_film&amp;video</th>\n      <td>-0.086</td>\n      <td>0.000</td>\n      <td>False</td>\n    </tr>\n    <tr>\n      <th>category_food</th>\n      <td>-0.059</td>\n      <td>0.000</td>\n      <td>False</td>\n    </tr>\n    <tr>\n      <th>category_games</th>\n      <td>0.206</td>\n      <td>0.000</td>\n      <td>False</td>\n    </tr>\n    <tr>\n      <th>category_journalism</th>\n      <td>-0.083</td>\n      <td>0.000</td>\n      <td>False</td>\n    </tr>\n    <tr>\n      <th>category_music</th>\n      <td>-0.028</td>\n      <td>0.011</td>\n      <td>False</td>\n    </tr>\n    <tr>\n      <th>category_photography</th>\n      <td>-0.023</td>\n      <td>0.032</td>\n      <td>False</td>\n    </tr>\n    <tr>\n      <th>category_publishing</th>\n      <td>0.016</td>\n      <td>0.138</td>\n      <td>False</td>\n    </tr>\n    <tr>\n      <th>category_technology</th>\n      <td>-0.141</td>\n      <td>0.000</td>\n      <td>False</td>\n    </tr>\n    <tr>\n      <th>category_theater</th>\n      <td>-0.028</td>\n      <td>0.012</td>\n      <td>False</td>\n    </tr>\n    <tr>\n      <th>month_january</th>\n      <td>-0.059</td>\n      <td>0.000</td>\n      <td>False</td>\n    </tr>\n    <tr>\n      <th>month_february</th>\n      <td>0.019</td>\n      <td>0.089</td>\n      <td>False</td>\n    </tr>\n    <tr>\n      <th>month_march</th>\n      <td>0.018</td>\n      <td>0.097</td>\n      <td>False</td>\n    </tr>\n    <tr>\n      <th>month_april</th>\n      <td>0.012</td>\n      <td>0.267</td>\n      <td>False</td>\n    </tr>\n    <tr>\n      <th>month_may</th>\n      <td>0.039</td>\n      <td>0.000</td>\n      <td>False</td>\n    </tr>\n    <tr>\n      <th>month_june</th>\n      <td>-0.012</td>\n      <td>0.292</td>\n      <td>False</td>\n    </tr>\n    <tr>\n      <th>month_july</th>\n      <td>0.012</td>\n      <td>0.253</td>\n      <td>False</td>\n    </tr>\n    <tr>\n      <th>month_august</th>\n      <td>-0.008</td>\n      <td>0.452</td>\n      <td>False</td>\n    </tr>\n    <tr>\n      <th>month_september</th>\n      <td>-0.004</td>\n      <td>0.734</td>\n      <td>False</td>\n    </tr>\n    <tr>\n      <th>month_october</th>\n      <td>0.013</td>\n      <td>0.251</td>\n      <td>False</td>\n    </tr>\n    <tr>\n      <th>month_november</th>\n      <td>-0.004</td>\n      <td>0.719</td>\n      <td>False</td>\n    </tr>\n    <tr>\n      <th>month_december</th>\n      <td>-0.026</td>\n      <td>0.016</td>\n      <td>False</td>\n    </tr>\n    <tr>\n      <th>year_2019</th>\n      <td>-0.060</td>\n      <td>0.000</td>\n      <td>False</td>\n    </tr>\n    <tr>\n      <th>year_2020</th>\n      <td>-0.021</td>\n      <td>0.049</td>\n      <td>False</td>\n    </tr>\n    <tr>\n      <th>year_2021</th>\n      <td>0.058</td>\n      <td>0.000</td>\n      <td>False</td>\n    </tr>\n    <tr>\n      <th>year_2022</th>\n      <td>0.020</td>\n      <td>0.067</td>\n      <td>False</td>\n    </tr>\n    <tr>\n      <th>media</th>\n      <td>0.465</td>\n      <td>0.000</td>\n      <td>True</td>\n    </tr>\n    <tr>\n      <th>sustainability</th>\n      <td>0.075</td>\n      <td>0.000</td>\n      <td>False</td>\n    </tr>\n    <tr>\n      <th>norm_business</th>\n      <td>-0.010</td>\n      <td>0.339</td>\n      <td>False</td>\n    </tr>\n    <tr>\n      <th>norm_empathic</th>\n      <td>0.031</td>\n      <td>0.004</td>\n      <td>False</td>\n    </tr>\n    <tr>\n      <th>norm_social</th>\n      <td>-0.103</td>\n      <td>0.000</td>\n      <td>False</td>\n    </tr>\n  </tbody>\n</table>\n</div>"
     },
     "execution_count": 11,
     "metadata": {},
     "output_type": "execute_result"
    }
   ],
   "source": [
    "# Determine which numerical variables are linearly related to amount\n",
    "amountData = normData['norm_amount']\n",
    "\n",
    "rValues = []\n",
    "pValues = []\n",
    "linears = []\n",
    "for variable in numVars:\n",
    "    rValue, pValue = st.pearsonr(amountData, normData[variable])\n",
    "    rValues.append(rValue)\n",
    "    pValues.append(pValue)\n",
    "    linears.append(pValue < 0.05 and abs(rValue) >= 0.4)\n",
    "\n",
    "correlations = pd.DataFrame()\n",
    "correlations['Variable'] = numVars\n",
    "correlations['r-Value'] = rValues\n",
    "correlations['p-Value'] = pValues\n",
    "correlations['Linear'] = linears\n",
    "correlations = correlations.set_index('Variable')\n",
    "correlations"
   ],
   "metadata": {
    "collapsed": false
   }
  },
  {
   "cell_type": "code",
   "execution_count": 12,
   "outputs": [
    {
     "data": {
      "text/plain": "<class 'statsmodels.iolib.summary.Summary'>\n\"\"\"\n                            OLS Regression Results                            \n==============================================================================\nDep. Variable:            norm_amount   R-squared:                       0.834\nModel:                            OLS   Adj. R-squared:                  0.834\nMethod:                 Least Squares   F-statistic:                 1.401e+04\nDate:                Tue, 01 Nov 2022   Prob (F-statistic):               0.00\nTime:                        15:23:00   Log-Likelihood:                -5572.1\nNo. Observations:                8388   AIC:                         1.115e+04\nDf Residuals:                    8384   BIC:                         1.118e+04\nDf Model:                           3                                         \nCovariance Type:            nonrobust                                         \n======================================================================================\n                         coef    std err          t      P>|t|      [0.025      0.975]\n--------------------------------------------------------------------------------------\nconst                  0.8404      0.032     26.488      0.000       0.778       0.903\nnorm_words             0.0924      0.014      6.480      0.000       0.064       0.120\nnorm_backers_count     1.2326      0.007    167.032      0.000       1.218       1.247\nmedia                  0.1970      0.018     11.081      0.000       0.162       0.232\n==============================================================================\nOmnibus:                      261.874   Durbin-Watson:                   1.956\nProb(Omnibus):                  0.000   Jarque-Bera (JB):              708.533\nSkew:                          -0.025   Prob(JB):                    1.39e-154\nKurtosis:                       4.423   Cond. No.                         22.4\n==============================================================================\n\nNotes:\n[1] Standard Errors assume that the covariance matrix of the errors is correctly specified.\n\"\"\"",
      "text/html": "<table class=\"simpletable\">\n<caption>OLS Regression Results</caption>\n<tr>\n  <th>Dep. Variable:</th>       <td>norm_amount</td>   <th>  R-squared:         </th> <td>   0.834</td> \n</tr>\n<tr>\n  <th>Model:</th>                   <td>OLS</td>       <th>  Adj. R-squared:    </th> <td>   0.834</td> \n</tr>\n<tr>\n  <th>Method:</th>             <td>Least Squares</td>  <th>  F-statistic:       </th> <td>1.401e+04</td>\n</tr>\n<tr>\n  <th>Date:</th>             <td>Tue, 01 Nov 2022</td> <th>  Prob (F-statistic):</th>  <td>  0.00</td>  \n</tr>\n<tr>\n  <th>Time:</th>                 <td>15:23:00</td>     <th>  Log-Likelihood:    </th> <td> -5572.1</td> \n</tr>\n<tr>\n  <th>No. Observations:</th>      <td>  8388</td>      <th>  AIC:               </th> <td>1.115e+04</td>\n</tr>\n<tr>\n  <th>Df Residuals:</th>          <td>  8384</td>      <th>  BIC:               </th> <td>1.118e+04</td>\n</tr>\n<tr>\n  <th>Df Model:</th>              <td>     3</td>      <th>                     </th>     <td> </td>    \n</tr>\n<tr>\n  <th>Covariance Type:</th>      <td>nonrobust</td>    <th>                     </th>     <td> </td>    \n</tr>\n</table>\n<table class=\"simpletable\">\n<tr>\n           <td></td>             <th>coef</th>     <th>std err</th>      <th>t</th>      <th>P>|t|</th>  <th>[0.025</th>    <th>0.975]</th>  \n</tr>\n<tr>\n  <th>const</th>              <td>    0.8404</td> <td>    0.032</td> <td>   26.488</td> <td> 0.000</td> <td>    0.778</td> <td>    0.903</td>\n</tr>\n<tr>\n  <th>norm_words</th>         <td>    0.0924</td> <td>    0.014</td> <td>    6.480</td> <td> 0.000</td> <td>    0.064</td> <td>    0.120</td>\n</tr>\n<tr>\n  <th>norm_backers_count</th> <td>    1.2326</td> <td>    0.007</td> <td>  167.032</td> <td> 0.000</td> <td>    1.218</td> <td>    1.247</td>\n</tr>\n<tr>\n  <th>media</th>              <td>    0.1970</td> <td>    0.018</td> <td>   11.081</td> <td> 0.000</td> <td>    0.162</td> <td>    0.232</td>\n</tr>\n</table>\n<table class=\"simpletable\">\n<tr>\n  <th>Omnibus:</th>       <td>261.874</td> <th>  Durbin-Watson:     </th> <td>   1.956</td> \n</tr>\n<tr>\n  <th>Prob(Omnibus):</th> <td> 0.000</td>  <th>  Jarque-Bera (JB):  </th> <td> 708.533</td> \n</tr>\n<tr>\n  <th>Skew:</th>          <td>-0.025</td>  <th>  Prob(JB):          </th> <td>1.39e-154</td>\n</tr>\n<tr>\n  <th>Kurtosis:</th>      <td> 4.423</td>  <th>  Cond. No.          </th> <td>    22.4</td> \n</tr>\n</table><br/><br/>Notes:<br/>[1] Standard Errors assume that the covariance matrix of the errors is correctly specified."
     },
     "execution_count": 12,
     "metadata": {},
     "output_type": "execute_result"
    }
   ],
   "source": [
    "# Establish a baseline model\n",
    "independentVariables = ['norm_words', 'norm_backers_count', 'media']\n",
    "\n",
    "X = sm.add_constant(normData[independentVariables])\n",
    "y = normData['norm_amount']\n",
    "model = sm.OLS(y, X).fit()\n",
    "\n",
    "model.summary()"
   ],
   "metadata": {
    "collapsed": false
   }
  },
  {
   "cell_type": "code",
   "execution_count": 13,
   "outputs": [
    {
     "data": {
      "text/plain": "<class 'statsmodels.iolib.summary.Summary'>\n\"\"\"\n                            OLS Regression Results                            \n==============================================================================\nDep. Variable:            norm_amount   R-squared:                       0.834\nModel:                            OLS   Adj. R-squared:                  0.834\nMethod:                 Least Squares   F-statistic:                 1.051e+04\nDate:                Tue, 01 Nov 2022   Prob (F-statistic):               0.00\nTime:                        15:23:00   Log-Likelihood:                -5571.9\nNo. Observations:                8388   AIC:                         1.115e+04\nDf Residuals:                    8383   BIC:                         1.119e+04\nDf Model:                           4                                         \nCovariance Type:            nonrobust                                         \n======================================================================================\n                         coef    std err          t      P>|t|      [0.025      0.975]\n--------------------------------------------------------------------------------------\nconst                  0.8359      0.032     25.855      0.000       0.772       0.899\nnorm_words             0.0951      0.015      6.464      0.000       0.066       0.124\nnorm_backers_count     1.2321      0.007    166.116      0.000       1.218       1.247\nmedia                  0.1966      0.018     11.056      0.000       0.162       0.231\nnorm_business         -0.0069      0.009     -0.740      0.460      -0.025       0.011\n==============================================================================\nOmnibus:                      261.912   Durbin-Watson:                   1.956\nProb(Omnibus):                  0.000   Jarque-Bera (JB):              708.633\nSkew:                          -0.025   Prob(JB):                    1.33e-154\nKurtosis:                       4.423   Cond. No.                         23.0\n==============================================================================\n\nNotes:\n[1] Standard Errors assume that the covariance matrix of the errors is correctly specified.\n\"\"\"",
      "text/html": "<table class=\"simpletable\">\n<caption>OLS Regression Results</caption>\n<tr>\n  <th>Dep. Variable:</th>       <td>norm_amount</td>   <th>  R-squared:         </th> <td>   0.834</td> \n</tr>\n<tr>\n  <th>Model:</th>                   <td>OLS</td>       <th>  Adj. R-squared:    </th> <td>   0.834</td> \n</tr>\n<tr>\n  <th>Method:</th>             <td>Least Squares</td>  <th>  F-statistic:       </th> <td>1.051e+04</td>\n</tr>\n<tr>\n  <th>Date:</th>             <td>Tue, 01 Nov 2022</td> <th>  Prob (F-statistic):</th>  <td>  0.00</td>  \n</tr>\n<tr>\n  <th>Time:</th>                 <td>15:23:00</td>     <th>  Log-Likelihood:    </th> <td> -5571.9</td> \n</tr>\n<tr>\n  <th>No. Observations:</th>      <td>  8388</td>      <th>  AIC:               </th> <td>1.115e+04</td>\n</tr>\n<tr>\n  <th>Df Residuals:</th>          <td>  8383</td>      <th>  BIC:               </th> <td>1.119e+04</td>\n</tr>\n<tr>\n  <th>Df Model:</th>              <td>     4</td>      <th>                     </th>     <td> </td>    \n</tr>\n<tr>\n  <th>Covariance Type:</th>      <td>nonrobust</td>    <th>                     </th>     <td> </td>    \n</tr>\n</table>\n<table class=\"simpletable\">\n<tr>\n           <td></td>             <th>coef</th>     <th>std err</th>      <th>t</th>      <th>P>|t|</th>  <th>[0.025</th>    <th>0.975]</th>  \n</tr>\n<tr>\n  <th>const</th>              <td>    0.8359</td> <td>    0.032</td> <td>   25.855</td> <td> 0.000</td> <td>    0.772</td> <td>    0.899</td>\n</tr>\n<tr>\n  <th>norm_words</th>         <td>    0.0951</td> <td>    0.015</td> <td>    6.464</td> <td> 0.000</td> <td>    0.066</td> <td>    0.124</td>\n</tr>\n<tr>\n  <th>norm_backers_count</th> <td>    1.2321</td> <td>    0.007</td> <td>  166.116</td> <td> 0.000</td> <td>    1.218</td> <td>    1.247</td>\n</tr>\n<tr>\n  <th>media</th>              <td>    0.1966</td> <td>    0.018</td> <td>   11.056</td> <td> 0.000</td> <td>    0.162</td> <td>    0.231</td>\n</tr>\n<tr>\n  <th>norm_business</th>      <td>   -0.0069</td> <td>    0.009</td> <td>   -0.740</td> <td> 0.460</td> <td>   -0.025</td> <td>    0.011</td>\n</tr>\n</table>\n<table class=\"simpletable\">\n<tr>\n  <th>Omnibus:</th>       <td>261.912</td> <th>  Durbin-Watson:     </th> <td>   1.956</td> \n</tr>\n<tr>\n  <th>Prob(Omnibus):</th> <td> 0.000</td>  <th>  Jarque-Bera (JB):  </th> <td> 708.633</td> \n</tr>\n<tr>\n  <th>Skew:</th>          <td>-0.025</td>  <th>  Prob(JB):          </th> <td>1.33e-154</td>\n</tr>\n<tr>\n  <th>Kurtosis:</th>      <td> 4.423</td>  <th>  Cond. No.          </th> <td>    23.0</td> \n</tr>\n</table><br/><br/>Notes:<br/>[1] Standard Errors assume that the covariance matrix of the errors is correctly specified."
     },
     "execution_count": 13,
     "metadata": {},
     "output_type": "execute_result"
    }
   ],
   "source": [
    "independentVariables += ['norm_business']\n",
    "\n",
    "X = sm.add_constant(normData[independentVariables])\n",
    "y = normData['norm_amount']\n",
    "model = sm.OLS(y, X).fit()\n",
    "\n",
    "model.summary()"
   ],
   "metadata": {
    "collapsed": false
   }
  },
  {
   "cell_type": "code",
   "execution_count": 13,
   "outputs": [],
   "source": [],
   "metadata": {
    "collapsed": false
   }
  }
 ],
 "metadata": {
  "kernelspec": {
   "display_name": "Python 3",
   "language": "python",
   "name": "python3"
  },
  "language_info": {
   "codemirror_mode": {
    "name": "ipython",
    "version": 2
   },
   "file_extension": ".py",
   "mimetype": "text/x-python",
   "name": "python",
   "nbconvert_exporter": "python",
   "pygments_lexer": "ipython2",
   "version": "2.7.6"
  }
 },
 "nbformat": 4,
 "nbformat_minor": 0
}
