{
 "cells": [
  {
   "cell_type": "code",
   "execution_count": 3,
   "outputs": [
    {
     "data": {
      "text/plain": "           success   Lamount     Lgoal  backers_count   duration  \\\nprojectID                                                          \n3733950          0  0.477121  4.000000              3  30.000000   \n3735666          1  3.233250  2.698970             38  30.000000   \n3731059          1  4.063784  3.477121            180  30.661609   \n3743927          0  1.505150  3.000000              4   7.000000   \n3753934          1  2.775974  2.698970             19   3.000000   \n...            ...       ...       ...            ...        ...   \n4349010          1  3.903253  3.124830            131  30.000000   \n4390665          0  3.207096  4.176091             11  30.000000   \n4392008          0  3.961279  4.342423             32  30.000000   \n4370213          1  4.002166  4.000000             81  25.000000   \n4339627          1  4.374583  4.301030            208  20.000000   \n\n           category_art  category_comics  category_crafts  category_dance  \\\nprojectID                                                                   \n3733950               0                0                0               0   \n3735666               0                0                0               0   \n3731059               0                0                0               0   \n3743927               0                0                0               0   \n3753934               0                0                0               1   \n...                 ...              ...              ...             ...   \n4349010               0                0                0               0   \n4390665               0                0                0               0   \n4392008               0                0                0               0   \n4370213               0                0                0               0   \n4339627               0                0                0               0   \n\n           category_design  ...  category_journalism  category_music  \\\nprojectID                   ...                                        \n3733950                  0  ...                    0               0   \n3735666                  0  ...                    0               0   \n3731059                  0  ...                    0               0   \n3743927                  0  ...                    0               0   \n3753934                  0  ...                    0               0   \n...                    ...  ...                  ...             ...   \n4349010                  0  ...                    0               0   \n4390665                  0  ...                    0               0   \n4392008                  0  ...                    0               0   \n4370213                  0  ...                    0               0   \n4339627                  0  ...                    0               0   \n\n           category_photography  category_publishing  category_technology  \\\nprojectID                                                                   \n3733950                       0                    0                    0   \n3735666                       0                    1                    0   \n3731059                       0                    1                    0   \n3743927                       0                    0                    0   \n3753934                       0                    0                    0   \n...                         ...                  ...                  ...   \n4349010                       0                    0                    0   \n4390665                       0                    0                    0   \n4392008                       0                    0                    0   \n4370213                       0                    0                    0   \n4339627                       0                    0                    0   \n\n           category_theater  month  year  \\\nprojectID                                  \n3733950                   0      6  2019   \n3735666                   0      6  2019   \n3731059                   0      6  2019   \n3743927                   0      6  2019   \n3753934                   0      6  2019   \n...                     ...    ...   ...   \n4349010                   0      5  2022   \n4390665                   0      5  2022   \n4392008                   0      5  2022   \n4370213                   0      5  2022   \n4339627                   0      5  2022   \n\n                                                        slug  launched_at  \nprojectID                                                                  \n3733950    beatenpathco/clothing-for-beach-bums-mountain-...   1558057933  \n3735666    pjp/blazing-a-trail-the-story-of-minna-anthony...   1558321599  \n3731059    cosplaydeviants/cosplay-deviants-2020-wall-cal...   1558094777  \n3743927                            arch-angel/broke-t-shirts   1559575620  \n3753934                                      5x5campaign/5x5   1561744849  \n...                                                      ...          ...  \n4349010    barinstacoffee/barinsta-coffee-freeze-dried-pr...   1650371481  \n4390665            cocoaandbutter/cocoa-and-butter-palo-alto   1650344109  \n4392008    72395701/macbook-pro-docking-station-by-landin...   1651597201  \n4370213    thomaspk/the-last-railroad-town-an-apca-short-...   1651874406  \n4339627      jleingang/warline-maneuver-strategy-and-tactics   1652367638  \n\n[10800 rows x 24 columns]",
      "text/html": "<div>\n<style scoped>\n    .dataframe tbody tr th:only-of-type {\n        vertical-align: middle;\n    }\n\n    .dataframe tbody tr th {\n        vertical-align: top;\n    }\n\n    .dataframe thead th {\n        text-align: right;\n    }\n</style>\n<table border=\"1\" class=\"dataframe\">\n  <thead>\n    <tr style=\"text-align: right;\">\n      <th></th>\n      <th>success</th>\n      <th>Lamount</th>\n      <th>Lgoal</th>\n      <th>backers_count</th>\n      <th>duration</th>\n      <th>category_art</th>\n      <th>category_comics</th>\n      <th>category_crafts</th>\n      <th>category_dance</th>\n      <th>category_design</th>\n      <th>...</th>\n      <th>category_journalism</th>\n      <th>category_music</th>\n      <th>category_photography</th>\n      <th>category_publishing</th>\n      <th>category_technology</th>\n      <th>category_theater</th>\n      <th>month</th>\n      <th>year</th>\n      <th>slug</th>\n      <th>launched_at</th>\n    </tr>\n    <tr>\n      <th>projectID</th>\n      <th></th>\n      <th></th>\n      <th></th>\n      <th></th>\n      <th></th>\n      <th></th>\n      <th></th>\n      <th></th>\n      <th></th>\n      <th></th>\n      <th></th>\n      <th></th>\n      <th></th>\n      <th></th>\n      <th></th>\n      <th></th>\n      <th></th>\n      <th></th>\n      <th></th>\n      <th></th>\n      <th></th>\n    </tr>\n  </thead>\n  <tbody>\n    <tr>\n      <th>3733950</th>\n      <td>0</td>\n      <td>0.477121</td>\n      <td>4.000000</td>\n      <td>3</td>\n      <td>30.000000</td>\n      <td>0</td>\n      <td>0</td>\n      <td>0</td>\n      <td>0</td>\n      <td>0</td>\n      <td>...</td>\n      <td>0</td>\n      <td>0</td>\n      <td>0</td>\n      <td>0</td>\n      <td>0</td>\n      <td>0</td>\n      <td>6</td>\n      <td>2019</td>\n      <td>beatenpathco/clothing-for-beach-bums-mountain-...</td>\n      <td>1558057933</td>\n    </tr>\n    <tr>\n      <th>3735666</th>\n      <td>1</td>\n      <td>3.233250</td>\n      <td>2.698970</td>\n      <td>38</td>\n      <td>30.000000</td>\n      <td>0</td>\n      <td>0</td>\n      <td>0</td>\n      <td>0</td>\n      <td>0</td>\n      <td>...</td>\n      <td>0</td>\n      <td>0</td>\n      <td>0</td>\n      <td>1</td>\n      <td>0</td>\n      <td>0</td>\n      <td>6</td>\n      <td>2019</td>\n      <td>pjp/blazing-a-trail-the-story-of-minna-anthony...</td>\n      <td>1558321599</td>\n    </tr>\n    <tr>\n      <th>3731059</th>\n      <td>1</td>\n      <td>4.063784</td>\n      <td>3.477121</td>\n      <td>180</td>\n      <td>30.661609</td>\n      <td>0</td>\n      <td>0</td>\n      <td>0</td>\n      <td>0</td>\n      <td>0</td>\n      <td>...</td>\n      <td>0</td>\n      <td>0</td>\n      <td>0</td>\n      <td>1</td>\n      <td>0</td>\n      <td>0</td>\n      <td>6</td>\n      <td>2019</td>\n      <td>cosplaydeviants/cosplay-deviants-2020-wall-cal...</td>\n      <td>1558094777</td>\n    </tr>\n    <tr>\n      <th>3743927</th>\n      <td>0</td>\n      <td>1.505150</td>\n      <td>3.000000</td>\n      <td>4</td>\n      <td>7.000000</td>\n      <td>0</td>\n      <td>0</td>\n      <td>0</td>\n      <td>0</td>\n      <td>0</td>\n      <td>...</td>\n      <td>0</td>\n      <td>0</td>\n      <td>0</td>\n      <td>0</td>\n      <td>0</td>\n      <td>0</td>\n      <td>6</td>\n      <td>2019</td>\n      <td>arch-angel/broke-t-shirts</td>\n      <td>1559575620</td>\n    </tr>\n    <tr>\n      <th>3753934</th>\n      <td>1</td>\n      <td>2.775974</td>\n      <td>2.698970</td>\n      <td>19</td>\n      <td>3.000000</td>\n      <td>0</td>\n      <td>0</td>\n      <td>0</td>\n      <td>1</td>\n      <td>0</td>\n      <td>...</td>\n      <td>0</td>\n      <td>0</td>\n      <td>0</td>\n      <td>0</td>\n      <td>0</td>\n      <td>0</td>\n      <td>6</td>\n      <td>2019</td>\n      <td>5x5campaign/5x5</td>\n      <td>1561744849</td>\n    </tr>\n    <tr>\n      <th>...</th>\n      <td>...</td>\n      <td>...</td>\n      <td>...</td>\n      <td>...</td>\n      <td>...</td>\n      <td>...</td>\n      <td>...</td>\n      <td>...</td>\n      <td>...</td>\n      <td>...</td>\n      <td>...</td>\n      <td>...</td>\n      <td>...</td>\n      <td>...</td>\n      <td>...</td>\n      <td>...</td>\n      <td>...</td>\n      <td>...</td>\n      <td>...</td>\n      <td>...</td>\n      <td>...</td>\n    </tr>\n    <tr>\n      <th>4349010</th>\n      <td>1</td>\n      <td>3.903253</td>\n      <td>3.124830</td>\n      <td>131</td>\n      <td>30.000000</td>\n      <td>0</td>\n      <td>0</td>\n      <td>0</td>\n      <td>0</td>\n      <td>0</td>\n      <td>...</td>\n      <td>0</td>\n      <td>0</td>\n      <td>0</td>\n      <td>0</td>\n      <td>0</td>\n      <td>0</td>\n      <td>5</td>\n      <td>2022</td>\n      <td>barinstacoffee/barinsta-coffee-freeze-dried-pr...</td>\n      <td>1650371481</td>\n    </tr>\n    <tr>\n      <th>4390665</th>\n      <td>0</td>\n      <td>3.207096</td>\n      <td>4.176091</td>\n      <td>11</td>\n      <td>30.000000</td>\n      <td>0</td>\n      <td>0</td>\n      <td>0</td>\n      <td>0</td>\n      <td>0</td>\n      <td>...</td>\n      <td>0</td>\n      <td>0</td>\n      <td>0</td>\n      <td>0</td>\n      <td>0</td>\n      <td>0</td>\n      <td>5</td>\n      <td>2022</td>\n      <td>cocoaandbutter/cocoa-and-butter-palo-alto</td>\n      <td>1650344109</td>\n    </tr>\n    <tr>\n      <th>4392008</th>\n      <td>0</td>\n      <td>3.961279</td>\n      <td>4.342423</td>\n      <td>32</td>\n      <td>30.000000</td>\n      <td>0</td>\n      <td>0</td>\n      <td>0</td>\n      <td>0</td>\n      <td>0</td>\n      <td>...</td>\n      <td>0</td>\n      <td>0</td>\n      <td>0</td>\n      <td>0</td>\n      <td>0</td>\n      <td>0</td>\n      <td>5</td>\n      <td>2022</td>\n      <td>72395701/macbook-pro-docking-station-by-landin...</td>\n      <td>1651597201</td>\n    </tr>\n    <tr>\n      <th>4370213</th>\n      <td>1</td>\n      <td>4.002166</td>\n      <td>4.000000</td>\n      <td>81</td>\n      <td>25.000000</td>\n      <td>0</td>\n      <td>0</td>\n      <td>0</td>\n      <td>0</td>\n      <td>0</td>\n      <td>...</td>\n      <td>0</td>\n      <td>0</td>\n      <td>0</td>\n      <td>0</td>\n      <td>0</td>\n      <td>0</td>\n      <td>5</td>\n      <td>2022</td>\n      <td>thomaspk/the-last-railroad-town-an-apca-short-...</td>\n      <td>1651874406</td>\n    </tr>\n    <tr>\n      <th>4339627</th>\n      <td>1</td>\n      <td>4.374583</td>\n      <td>4.301030</td>\n      <td>208</td>\n      <td>20.000000</td>\n      <td>0</td>\n      <td>0</td>\n      <td>0</td>\n      <td>0</td>\n      <td>0</td>\n      <td>...</td>\n      <td>0</td>\n      <td>0</td>\n      <td>0</td>\n      <td>0</td>\n      <td>0</td>\n      <td>0</td>\n      <td>5</td>\n      <td>2022</td>\n      <td>jleingang/warline-maneuver-strategy-and-tactics</td>\n      <td>1652367638</td>\n    </tr>\n  </tbody>\n</table>\n<p>10800 rows × 24 columns</p>\n</div>"
     },
     "execution_count": 3,
     "metadata": {},
     "output_type": "execute_result"
    }
   ],
   "source": [
    "import os\n",
    "import time\n",
    "import warnings\n",
    "import numpy as np\n",
    "import pandas as pd\n",
    "from datetime import datetime\n",
    "\n",
    "\n",
    "def cleanData(data, projectIDs):\n",
    "    # Misc\n",
    "    data = data[['backers_count', 'category', 'country', 'deadline', 'fx_rate', 'goal', 'launched_at', 'pledged', 'profile', 'state', 'urls']]\n",
    "    data['midway_date'] = (data['launched_at'] + data['deadline']) / 2\n",
    "    data['projectID'] = data['profile'].apply(lambda entry: getProjectID(entry))\n",
    "    data = data.set_index('projectID')\n",
    "\n",
    "    # Filtering\n",
    "    data = data[data['country'] == \"US\"]\n",
    "    data = data[data['pledged'] > 0]\n",
    "    data = data[data['state'].isin(['successful', 'failed'])]\n",
    "    data = data[data['midway_date'] >= time.mktime(datetime(2019, 6, 1, 0, 0, 0).timetuple())]\n",
    "    data = data[data['midway_date'] <= time.mktime(datetime(2022, 5, 31, 23, 59, 59).timetuple())]\n",
    "    data = data[~data.index.isin(projectIDs)]\n",
    "    data = data.drop_duplicates()\n",
    "    if len(data) == 0:\n",
    "        return None\n",
    "\n",
    "    # Modifying existing columns\n",
    "    data['category'] = data['category'].apply(lambda entry: getCategoryName(entry))\n",
    "    data['Lgoal'] = np.log10(data['goal'] * data['fx_rate'])\n",
    "    data['Lamount'] = np.log10(data['pledged'] * data['fx_rate'])\n",
    "    data['state'] = data['state'].replace({'successful': 1, 'failed': 0})\n",
    "    data['slug'] = data['urls'].apply(lambda entry: getSlug(entry))\n",
    "\n",
    "    # Creating new columns\n",
    "    data['category_art'] = (data['category'] == \"art\").replace({True: 1, False: 0})\n",
    "    data['category_comics'] = (data['category'] == \"comics\").replace({True: 1, False: 0})\n",
    "    data['category_crafts'] = (data['category'] == \"crafts\").replace({True: 1, False: 0})\n",
    "    data['category_dance'] = (data['category'] == \"dance\").replace({True: 1, False: 0})\n",
    "    data['category_design'] = (data['category'] == \"design\").replace({True: 1, False: 0})\n",
    "    data['category_fashion'] = (data['category'] == \"fashion\").replace({True: 1, False: 0})\n",
    "    data['category_film&video'] = (data['category'] == \"film & video\").replace({True: 1, False: 0})\n",
    "    data['category_food'] = (data['category'] == \"food\").replace({True: 1, False: 0})\n",
    "    data['category_games'] = (data['category'] == \"games\").replace({True: 1, False: 0})\n",
    "    data['category_journalism'] = (data['category'] == \"journalism\").replace({True: 1, False: 0})\n",
    "    data['category_music'] = (data['category'] == \"music\").replace({True: 1, False: 0})\n",
    "    data['category_photography'] = (data['category'] == \"photography\").replace({True: 1, False: 0})\n",
    "    data['category_publishing'] = (data['category'] == \"publishing\").replace({True: 1, False: 0})\n",
    "    data['category_technology'] = (data['category'] == \"technology\").replace({True: 1, False: 0})\n",
    "    data['category_theater'] = (data['category'] == \"theater\").replace({True: 1, False: 0})\n",
    "    data['duration'] = (data['deadline'] - data['launched_at']) / 3600 / 24\n",
    "    data['month'] = data.apply(lambda entry: datetime.fromtimestamp(entry['midway_date']).month, axis=1)\n",
    "    data['year'] = data.apply(lambda entry: datetime.fromtimestamp(entry['midway_date']).year, axis=1)\n",
    "\n",
    "    # Misc\n",
    "    data = data.rename(columns={\"state\": \"success\"})\n",
    "    data = data[['success', 'Lamount', 'Lgoal', 'backers_count', 'duration', 'category_art', 'category_comics', 'category_crafts', 'category_dance', 'category_design', 'category_fashion', 'category_film&video', 'category_food', 'category_games', 'category_journalism', 'category_music', 'category_photography', 'category_publishing', 'category_technology', 'category_theater', 'month', 'year', 'slug', 'launched_at']]\n",
    "\n",
    "    return data\n",
    "\n",
    "\n",
    "def getCategoryName(entry):\n",
    "    tmp = entry.split(\",\")[2]\n",
    "    tmp = tmp.split(\":\")[1]\n",
    "    tmp = tmp.split(\"/\")[0]\n",
    "    categoryName = tmp.replace(\"\\\"\", \"\")\n",
    "    return categoryName\n",
    "\n",
    "\n",
    "def getProjectID(entry):\n",
    "    tmp = entry.split(\",\")[1]\n",
    "    projectID = int(tmp.split(\":\")[1])\n",
    "    return projectID\n",
    "\n",
    "\n",
    "def getSlug(entry):\n",
    "    tmp = entry.split(\",\")[0]\n",
    "    tmp = tmp.split(\"/\")[4:6]\n",
    "    tmp = '/'.join(tmp)\n",
    "    slug = tmp.split(\"?\")[0]\n",
    "    return slug\n",
    "\n",
    "warnings.filterwarnings(\"ignore\")\n",
    "files = os.listdir(\"Kickstarter Data\")\n",
    "allData = pd.DataFrame()\n",
    "for file in files:\n",
    "    allData = pd.concat([allData, cleanData(pd.read_csv(\"Kickstarter Data\\\\\" + file), allData.index)])\n",
    "allData = allData.groupby(['year', 'month']).sample(n=300)\n",
    "allData.to_csv('input.csv')\n",
    "allData"
   ],
   "metadata": {
    "collapsed": false
   }
  },
  {
   "cell_type": "code",
   "execution_count": null,
   "outputs": [],
   "source": [],
   "metadata": {
    "collapsed": false
   }
  }
 ],
 "metadata": {
  "kernelspec": {
   "display_name": "Python 3",
   "language": "python",
   "name": "python3"
  },
  "language_info": {
   "codemirror_mode": {
    "name": "ipython",
    "version": 2
   },
   "file_extension": ".py",
   "mimetype": "text/x-python",
   "name": "python",
   "nbconvert_exporter": "python",
   "pygments_lexer": "ipython2",
   "version": "2.7.6"
  }
 },
 "nbformat": 4,
 "nbformat_minor": 0
}
