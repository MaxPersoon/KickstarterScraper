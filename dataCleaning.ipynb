{
 "cells": [
  {
   "cell_type": "code",
   "execution_count": 19,
   "outputs": [
    {
     "data": {
      "text/plain": "           success   Lamount     Lgoal  backers_count   duration  \\\nprojectID                                                          \n3734507          1  4.177345  4.176091            111   1.024942   \n3742749          0  2.315970  3.544068              7  12.180475   \n3737923          1  3.700877  3.602060             58  14.000000   \n3723676          0  1.491362  3.778151              3   4.000000   \n3741568          1  3.207096  3.154728             70  12.552477   \n...            ...       ...       ...            ...        ...   \n4388088          1  3.742332  3.698970             93  30.000000   \n4385947          0  1.477121  3.477121              2  60.000000   \n4225380          1  4.603985  4.477121            148  30.000000   \n4400476          1  2.803245  2.698970             15  35.916748   \n4391805          0  3.203033  3.778151             26  30.000000   \n\n           category_art  category_comics  category_crafts  category_dance  \\\nprojectID                                                                   \n3734507               0                0                0               1   \n3742749               0                0                0               0   \n3737923               0                0                0               1   \n3723676               1                0                0               0   \n3741568               0                0                0               0   \n...                 ...              ...              ...             ...   \n4388088               0                0                0               0   \n4385947               0                0                0               0   \n4225380               0                0                0               0   \n4400476               0                0                0               0   \n4391805               0                0                0               0   \n\n           category_design  ...  category_journalism  category_music  \\\nprojectID                   ...                                        \n3734507                  0  ...                    0               0   \n3742749                  0  ...                    0               0   \n3737923                  0  ...                    0               0   \n3723676                  0  ...                    0               0   \n3741568                  0  ...                    0               0   \n...                    ...  ...                  ...             ...   \n4388088                  0  ...                    0               0   \n4385947                  0  ...                    0               0   \n4225380                  0  ...                    0               0   \n4400476                  0  ...                    0               0   \n4391805                  0  ...                    0               0   \n\n           category_photography  category_publishing  category_technology  \\\nprojectID                                                                   \n3734507                       0                    0                    0   \n3742749                       0                    1                    0   \n3737923                       0                    0                    0   \n3723676                       0                    0                    0   \n3741568                       0                    1                    0   \n...                         ...                  ...                  ...   \n4388088                       0                    0                    0   \n4385947                       0                    0                    0   \n4225380                       0                    0                    0   \n4400476                       0                    0                    0   \n4391805                       0                    0                    0   \n\n           category_theater  month  year  \\\nprojectID                                  \n3734507                   0      6  2019   \n3742749                   0      6  2019   \n3737923                   0      6  2019   \n3723676                   0      6  2019   \n3741568                   0      6  2019   \n...                     ...    ...   ...   \n4388088                   0      5  2022   \n4385947                   0      5  2022   \n4225380                   0      5  2022   \n4400476                   0      5  2022   \n4391805                   0      5  2022   \n\n                                                        slug  launched_at  \nprojectID                                                                  \n3734507    feath3r/the-mo-money-mo-problems-24hour-tele-g...   1559913845  \n3742749    itsagoodlifebabe/its-a-good-life-babe-podcast-...   1559263147  \n3737923                                  pilotplatform/pilot   1559145618  \n3723676    hellyes/alex-stop-my-metoo-stirring-the-hellye...   1559422814  \n3741568    1860098210/another-unconventional-literary-gem...   1559133866  \n...                                                      ...          ...  \n4388088                          ksparrock/correctable-error   1652285748  \n4385947    caranddrone/car-and-drone-fountain-hills-az-lo...   1649702841  \n4225380                                        foilfilm/foil   1652709377  \n4400476                             takethiscomedy/take-this   1652209373  \n4391805                 brianlscomics/problem-child-volume-3   1652641404  \n\n[42260 rows x 24 columns]",
      "text/html": "<div>\n<style scoped>\n    .dataframe tbody tr th:only-of-type {\n        vertical-align: middle;\n    }\n\n    .dataframe tbody tr th {\n        vertical-align: top;\n    }\n\n    .dataframe thead th {\n        text-align: right;\n    }\n</style>\n<table border=\"1\" class=\"dataframe\">\n  <thead>\n    <tr style=\"text-align: right;\">\n      <th></th>\n      <th>success</th>\n      <th>Lamount</th>\n      <th>Lgoal</th>\n      <th>backers_count</th>\n      <th>duration</th>\n      <th>category_art</th>\n      <th>category_comics</th>\n      <th>category_crafts</th>\n      <th>category_dance</th>\n      <th>category_design</th>\n      <th>...</th>\n      <th>category_journalism</th>\n      <th>category_music</th>\n      <th>category_photography</th>\n      <th>category_publishing</th>\n      <th>category_technology</th>\n      <th>category_theater</th>\n      <th>month</th>\n      <th>year</th>\n      <th>slug</th>\n      <th>launched_at</th>\n    </tr>\n    <tr>\n      <th>projectID</th>\n      <th></th>\n      <th></th>\n      <th></th>\n      <th></th>\n      <th></th>\n      <th></th>\n      <th></th>\n      <th></th>\n      <th></th>\n      <th></th>\n      <th></th>\n      <th></th>\n      <th></th>\n      <th></th>\n      <th></th>\n      <th></th>\n      <th></th>\n      <th></th>\n      <th></th>\n      <th></th>\n      <th></th>\n    </tr>\n  </thead>\n  <tbody>\n    <tr>\n      <th>3734507</th>\n      <td>1</td>\n      <td>4.177345</td>\n      <td>4.176091</td>\n      <td>111</td>\n      <td>1.024942</td>\n      <td>0</td>\n      <td>0</td>\n      <td>0</td>\n      <td>1</td>\n      <td>0</td>\n      <td>...</td>\n      <td>0</td>\n      <td>0</td>\n      <td>0</td>\n      <td>0</td>\n      <td>0</td>\n      <td>0</td>\n      <td>6</td>\n      <td>2019</td>\n      <td>feath3r/the-mo-money-mo-problems-24hour-tele-g...</td>\n      <td>1559913845</td>\n    </tr>\n    <tr>\n      <th>3742749</th>\n      <td>0</td>\n      <td>2.315970</td>\n      <td>3.544068</td>\n      <td>7</td>\n      <td>12.180475</td>\n      <td>0</td>\n      <td>0</td>\n      <td>0</td>\n      <td>0</td>\n      <td>0</td>\n      <td>...</td>\n      <td>0</td>\n      <td>0</td>\n      <td>0</td>\n      <td>1</td>\n      <td>0</td>\n      <td>0</td>\n      <td>6</td>\n      <td>2019</td>\n      <td>itsagoodlifebabe/its-a-good-life-babe-podcast-...</td>\n      <td>1559263147</td>\n    </tr>\n    <tr>\n      <th>3737923</th>\n      <td>1</td>\n      <td>3.700877</td>\n      <td>3.602060</td>\n      <td>58</td>\n      <td>14.000000</td>\n      <td>0</td>\n      <td>0</td>\n      <td>0</td>\n      <td>1</td>\n      <td>0</td>\n      <td>...</td>\n      <td>0</td>\n      <td>0</td>\n      <td>0</td>\n      <td>0</td>\n      <td>0</td>\n      <td>0</td>\n      <td>6</td>\n      <td>2019</td>\n      <td>pilotplatform/pilot</td>\n      <td>1559145618</td>\n    </tr>\n    <tr>\n      <th>3723676</th>\n      <td>0</td>\n      <td>1.491362</td>\n      <td>3.778151</td>\n      <td>3</td>\n      <td>4.000000</td>\n      <td>1</td>\n      <td>0</td>\n      <td>0</td>\n      <td>0</td>\n      <td>0</td>\n      <td>...</td>\n      <td>0</td>\n      <td>0</td>\n      <td>0</td>\n      <td>0</td>\n      <td>0</td>\n      <td>0</td>\n      <td>6</td>\n      <td>2019</td>\n      <td>hellyes/alex-stop-my-metoo-stirring-the-hellye...</td>\n      <td>1559422814</td>\n    </tr>\n    <tr>\n      <th>3741568</th>\n      <td>1</td>\n      <td>3.207096</td>\n      <td>3.154728</td>\n      <td>70</td>\n      <td>12.552477</td>\n      <td>0</td>\n      <td>0</td>\n      <td>0</td>\n      <td>0</td>\n      <td>0</td>\n      <td>...</td>\n      <td>0</td>\n      <td>0</td>\n      <td>0</td>\n      <td>1</td>\n      <td>0</td>\n      <td>0</td>\n      <td>6</td>\n      <td>2019</td>\n      <td>1860098210/another-unconventional-literary-gem...</td>\n      <td>1559133866</td>\n    </tr>\n    <tr>\n      <th>...</th>\n      <td>...</td>\n      <td>...</td>\n      <td>...</td>\n      <td>...</td>\n      <td>...</td>\n      <td>...</td>\n      <td>...</td>\n      <td>...</td>\n      <td>...</td>\n      <td>...</td>\n      <td>...</td>\n      <td>...</td>\n      <td>...</td>\n      <td>...</td>\n      <td>...</td>\n      <td>...</td>\n      <td>...</td>\n      <td>...</td>\n      <td>...</td>\n      <td>...</td>\n      <td>...</td>\n    </tr>\n    <tr>\n      <th>4388088</th>\n      <td>1</td>\n      <td>3.742332</td>\n      <td>3.698970</td>\n      <td>93</td>\n      <td>30.000000</td>\n      <td>0</td>\n      <td>0</td>\n      <td>0</td>\n      <td>0</td>\n      <td>0</td>\n      <td>...</td>\n      <td>0</td>\n      <td>0</td>\n      <td>0</td>\n      <td>0</td>\n      <td>0</td>\n      <td>0</td>\n      <td>5</td>\n      <td>2022</td>\n      <td>ksparrock/correctable-error</td>\n      <td>1652285748</td>\n    </tr>\n    <tr>\n      <th>4385947</th>\n      <td>0</td>\n      <td>1.477121</td>\n      <td>3.477121</td>\n      <td>2</td>\n      <td>60.000000</td>\n      <td>0</td>\n      <td>0</td>\n      <td>0</td>\n      <td>0</td>\n      <td>0</td>\n      <td>...</td>\n      <td>0</td>\n      <td>0</td>\n      <td>0</td>\n      <td>0</td>\n      <td>0</td>\n      <td>0</td>\n      <td>5</td>\n      <td>2022</td>\n      <td>caranddrone/car-and-drone-fountain-hills-az-lo...</td>\n      <td>1649702841</td>\n    </tr>\n    <tr>\n      <th>4225380</th>\n      <td>1</td>\n      <td>4.603985</td>\n      <td>4.477121</td>\n      <td>148</td>\n      <td>30.000000</td>\n      <td>0</td>\n      <td>0</td>\n      <td>0</td>\n      <td>0</td>\n      <td>0</td>\n      <td>...</td>\n      <td>0</td>\n      <td>0</td>\n      <td>0</td>\n      <td>0</td>\n      <td>0</td>\n      <td>0</td>\n      <td>5</td>\n      <td>2022</td>\n      <td>foilfilm/foil</td>\n      <td>1652709377</td>\n    </tr>\n    <tr>\n      <th>4400476</th>\n      <td>1</td>\n      <td>2.803245</td>\n      <td>2.698970</td>\n      <td>15</td>\n      <td>35.916748</td>\n      <td>0</td>\n      <td>0</td>\n      <td>0</td>\n      <td>0</td>\n      <td>0</td>\n      <td>...</td>\n      <td>0</td>\n      <td>0</td>\n      <td>0</td>\n      <td>0</td>\n      <td>0</td>\n      <td>0</td>\n      <td>5</td>\n      <td>2022</td>\n      <td>takethiscomedy/take-this</td>\n      <td>1652209373</td>\n    </tr>\n    <tr>\n      <th>4391805</th>\n      <td>0</td>\n      <td>3.203033</td>\n      <td>3.778151</td>\n      <td>26</td>\n      <td>30.000000</td>\n      <td>0</td>\n      <td>0</td>\n      <td>0</td>\n      <td>0</td>\n      <td>0</td>\n      <td>...</td>\n      <td>0</td>\n      <td>0</td>\n      <td>0</td>\n      <td>0</td>\n      <td>0</td>\n      <td>0</td>\n      <td>5</td>\n      <td>2022</td>\n      <td>brianlscomics/problem-child-volume-3</td>\n      <td>1652641404</td>\n    </tr>\n  </tbody>\n</table>\n<p>42260 rows × 24 columns</p>\n</div>"
     },
     "execution_count": 19,
     "metadata": {},
     "output_type": "execute_result"
    }
   ],
   "source": [
    "import os\n",
    "import time\n",
    "import warnings\n",
    "import numpy as np\n",
    "import pandas as pd\n",
    "from datetime import datetime\n",
    "\n",
    "\n",
    "def cleanData(data, projectIDs):\n",
    "    # Misc\n",
    "    data = data[['backers_count', 'category', 'country', 'deadline', 'fx_rate', 'goal', 'launched_at', 'pledged', 'profile', 'state', 'urls']]\n",
    "    data['midway_date'] = (data['launched_at'] + data['deadline']) / 2\n",
    "    data['projectID'] = data['profile'].apply(lambda entry: getProjectID(entry))\n",
    "    data = data.set_index('projectID')\n",
    "\n",
    "    # Filtering\n",
    "    data = data[data['country'] == \"US\"]\n",
    "    data = data[data['pledged'] > 0]\n",
    "    data = data[data['state'].isin(['successful', 'failed'])]\n",
    "    data = data[data['midway_date'] >= time.mktime(datetime(2019, 6, 1, 0, 0, 0).timetuple())]\n",
    "    data = data[data['midway_date'] <= time.mktime(datetime(2022, 5, 31, 23, 59, 59).timetuple())]\n",
    "    data = data[~data.index.isin(projectIDs)]\n",
    "    data = data.drop_duplicates()\n",
    "    if len(data) == 0:\n",
    "        return None\n",
    "\n",
    "    # Modifying existing columns\n",
    "    data['category'] = data['category'].apply(lambda entry: getCategoryName(entry))\n",
    "    data['Lgoal'] = np.log10(data['goal'] * data['fx_rate'])\n",
    "    data['Lamount'] = np.log10(data['pledged'] * data['fx_rate'])\n",
    "    data['state'] = data['state'].replace({'successful': 1, 'failed': 0})\n",
    "    data['slug'] = data['urls'].apply(lambda entry: getSlug(entry))\n",
    "\n",
    "    # Creating new columns\n",
    "    data['category_art'] = (data['category'] == \"art\").replace({True: 1, False: 0})\n",
    "    data['category_comics'] = (data['category'] == \"comics\").replace({True: 1, False: 0})\n",
    "    data['category_crafts'] = (data['category'] == \"crafts\").replace({True: 1, False: 0})\n",
    "    data['category_dance'] = (data['category'] == \"dance\").replace({True: 1, False: 0})\n",
    "    data['category_design'] = (data['category'] == \"design\").replace({True: 1, False: 0})\n",
    "    data['category_fashion'] = (data['category'] == \"fashion\").replace({True: 1, False: 0})\n",
    "    data['category_film&video'] = (data['category'] == \"film & video\").replace({True: 1, False: 0})\n",
    "    data['category_food'] = (data['category'] == \"food\").replace({True: 1, False: 0})\n",
    "    data['category_games'] = (data['category'] == \"games\").replace({True: 1, False: 0})\n",
    "    data['category_journalism'] = (data['category'] == \"journalism\").replace({True: 1, False: 0})\n",
    "    data['category_music'] = (data['category'] == \"music\").replace({True: 1, False: 0})\n",
    "    data['category_photography'] = (data['category'] == \"photography\").replace({True: 1, False: 0})\n",
    "    data['category_publishing'] = (data['category'] == \"publishing\").replace({True: 1, False: 0})\n",
    "    data['category_technology'] = (data['category'] == \"technology\").replace({True: 1, False: 0})\n",
    "    data['category_theater'] = (data['category'] == \"theater\").replace({True: 1, False: 0})\n",
    "    data['duration'] = (data['deadline'] - data['launched_at']) / 3600 / 24\n",
    "    data['month'] = data.apply(lambda entry: datetime.fromtimestamp(entry['midway_date']).month, axis=1)\n",
    "    data['year'] = data.apply(lambda entry: datetime.fromtimestamp(entry['midway_date']).year, axis=1)\n",
    "\n",
    "    # Misc\n",
    "    data = data.rename(columns={\"state\": \"success\"})\n",
    "    data = data[['success', 'Lamount', 'Lgoal', 'backers_count', 'duration', 'category_art', 'category_comics', 'category_crafts', 'category_dance', 'category_design', 'category_fashion', 'category_film&video', 'category_food', 'category_games', 'category_journalism', 'category_music', 'category_photography', 'category_publishing', 'category_technology', 'category_theater', 'month', 'year', 'slug', 'launched_at']]\n",
    "\n",
    "    return data\n",
    "\n",
    "\n",
    "def getCategoryName(entry):\n",
    "    tmp = entry.split(\",\")[2]\n",
    "    tmp = tmp.split(\":\")[1]\n",
    "    tmp = tmp.split(\"/\")[0]\n",
    "    categoryName = tmp.replace(\"\\\"\", \"\")\n",
    "    return categoryName\n",
    "\n",
    "\n",
    "def getProjectID(entry):\n",
    "    tmp = entry.split(\",\")[1]\n",
    "    projectID = int(tmp.split(\":\")[1])\n",
    "    return projectID\n",
    "\n",
    "\n",
    "def getSlug(entry):\n",
    "    tmp = entry.split(\",\")[0]\n",
    "    tmp = tmp.split(\"/\")[4:6]\n",
    "    tmp = '/'.join(tmp)\n",
    "    slug = tmp.split(\"?\")[0]\n",
    "    return slug\n",
    "\n",
    "warnings.filterwarnings(\"ignore\")\n",
    "files = os.listdir(\"Kickstarter Data\")\n",
    "allData = pd.DataFrame()\n",
    "for file in files:\n",
    "    allData = pd.concat([allData, cleanData(pd.read_csv(\"Kickstarter Data\\\\\" + file), allData.index)])\n",
    "allData.to_csv('input.csv')\n",
    "allData"
   ],
   "metadata": {
    "collapsed": false
   }
  },
  {
   "cell_type": "code",
   "execution_count": null,
   "outputs": [],
   "source": [],
   "metadata": {
    "collapsed": false
   }
  }
 ],
 "metadata": {
  "kernelspec": {
   "display_name": "Python 3",
   "language": "python",
   "name": "python3"
  },
  "language_info": {
   "codemirror_mode": {
    "name": "ipython",
    "version": 2
   },
   "file_extension": ".py",
   "mimetype": "text/x-python",
   "name": "python",
   "nbconvert_exporter": "python",
   "pygments_lexer": "ipython2",
   "version": "2.7.6"
  }
 },
 "nbformat": 4,
 "nbformat_minor": 0
}
