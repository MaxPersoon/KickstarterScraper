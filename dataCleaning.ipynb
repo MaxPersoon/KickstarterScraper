{
 "cells": [
  {
   "cell_type": "code",
   "execution_count": 55,
   "metadata": {
    "collapsed": true,
    "pycharm": {
     "name": "#%%\n"
    }
   },
   "outputs": [
    {
     "data": {
      "text/plain": "            no_backers                                            creator  \\\nid                                                                          \n1043160117         740  {\"id\":518230978,\"name\":\"Andy Swartz\",\"slug\":\"s...   \n765668830            3  {\"id\":2031793373,\"name\":\"Julian Mason\",\"is_reg...   \n1156174822        1752  {\"id\":1216340396,\"name\":\"Robert J Woodhead\",\"s...   \n885026214          185  {\"id\":672576444,\"name\":\"Tristan J Tarwater\",\"i...   \n186879715          136  {\"id\":1622887785,\"name\":\"Jaan Ranniko\",\"is_reg...   \n...                ...                                                ...   \n1935151477         263  {\"id\":423088081,\"name\":\"Robbie Rozelle\",\"is_re...   \n407213434            1  {\"id\":237906596,\"name\":\"Josh\",\"is_registered\":...   \n10217623             3  {\"id\":1888439791,\"name\":\"Barbie Van Horn\",\"is_...   \n832299237           31  {\"id\":1431754195,\"name\":\"PrettyKittyCommission...   \n1449938411           0  {\"id\":1918443315,\"name\":\"Benjamin Paul\",\"is_re...   \n\n           currency    deadline    goal  launched_at  \\\nid                                                     \n1043160117      USD  1456790340    3400   1454111675   \n765668830       USD  1496113200    4000   1491019077   \n1156174822      USD  1459886412   30000   1457298012   \n885026214       USD  1464670751    4000   1462078751   \n186879715       AUD  1560911563   20000   1558319563   \n...             ...         ...     ...          ...   \n1935151477      USD  1539108987   17500   1536516987   \n407213434       AUD  1459199117   60000   1454018717   \n10217623        USD  1442473140    3300   1440125546   \n832299237       USD  1551672000     880   1548939650   \n1449938411      CAD  1503776585  100000   1501184585   \n\n                                                         urls    usd_pledged  \\\nid                                                                             \n1043160117  {\"web\":{\"project\":\"https://www.kickstarter.com...   18559.000000   \n765668830   {\"web\":{\"project\":\"https://www.kickstarter.com...      80.000000   \n1156174822  {\"web\":{\"project\":\"https://www.kickstarter.com...  135589.940000   \n885026214   {\"web\":{\"project\":\"https://www.kickstarter.com...    4652.000000   \n186879715   {\"web\":{\"project\":\"https://www.kickstarter.com...   14474.246942   \n...                                                       ...            ...   \n1935151477  {\"web\":{\"project\":\"https://www.kickstarter.com...   18491.000000   \n407213434   {\"web\":{\"project\":\"https://www.kickstarter.com...       7.015629   \n10217623    {\"web\":{\"project\":\"https://www.kickstarter.com...      70.000000   \n832299237   {\"web\":{\"project\":\"https://www.kickstarter.com...    1155.000000   \n1449938411  {\"web\":{\"project\":\"https://www.kickstarter.com...       0.000000   \n\n             U.S.  \nid                 \n1043160117   True  \n765668830    True  \n1156174822   True  \n885026214    True  \n186879715   False  \n...           ...  \n1935151477   True  \n407213434   False  \n10217623     True  \n832299237    True  \n1449938411  False  \n\n[3768 rows x 9 columns]",
      "text/html": "<div>\n<style scoped>\n    .dataframe tbody tr th:only-of-type {\n        vertical-align: middle;\n    }\n\n    .dataframe tbody tr th {\n        vertical-align: top;\n    }\n\n    .dataframe thead th {\n        text-align: right;\n    }\n</style>\n<table border=\"1\" class=\"dataframe\">\n  <thead>\n    <tr style=\"text-align: right;\">\n      <th></th>\n      <th>no_backers</th>\n      <th>creator</th>\n      <th>currency</th>\n      <th>deadline</th>\n      <th>goal</th>\n      <th>launched_at</th>\n      <th>urls</th>\n      <th>usd_pledged</th>\n      <th>U.S.</th>\n    </tr>\n    <tr>\n      <th>id</th>\n      <th></th>\n      <th></th>\n      <th></th>\n      <th></th>\n      <th></th>\n      <th></th>\n      <th></th>\n      <th></th>\n      <th></th>\n    </tr>\n  </thead>\n  <tbody>\n    <tr>\n      <th>1043160117</th>\n      <td>740</td>\n      <td>{\"id\":518230978,\"name\":\"Andy Swartz\",\"slug\":\"s...</td>\n      <td>USD</td>\n      <td>1456790340</td>\n      <td>3400</td>\n      <td>1454111675</td>\n      <td>{\"web\":{\"project\":\"https://www.kickstarter.com...</td>\n      <td>18559.000000</td>\n      <td>True</td>\n    </tr>\n    <tr>\n      <th>765668830</th>\n      <td>3</td>\n      <td>{\"id\":2031793373,\"name\":\"Julian Mason\",\"is_reg...</td>\n      <td>USD</td>\n      <td>1496113200</td>\n      <td>4000</td>\n      <td>1491019077</td>\n      <td>{\"web\":{\"project\":\"https://www.kickstarter.com...</td>\n      <td>80.000000</td>\n      <td>True</td>\n    </tr>\n    <tr>\n      <th>1156174822</th>\n      <td>1752</td>\n      <td>{\"id\":1216340396,\"name\":\"Robert J Woodhead\",\"s...</td>\n      <td>USD</td>\n      <td>1459886412</td>\n      <td>30000</td>\n      <td>1457298012</td>\n      <td>{\"web\":{\"project\":\"https://www.kickstarter.com...</td>\n      <td>135589.940000</td>\n      <td>True</td>\n    </tr>\n    <tr>\n      <th>885026214</th>\n      <td>185</td>\n      <td>{\"id\":672576444,\"name\":\"Tristan J Tarwater\",\"i...</td>\n      <td>USD</td>\n      <td>1464670751</td>\n      <td>4000</td>\n      <td>1462078751</td>\n      <td>{\"web\":{\"project\":\"https://www.kickstarter.com...</td>\n      <td>4652.000000</td>\n      <td>True</td>\n    </tr>\n    <tr>\n      <th>186879715</th>\n      <td>136</td>\n      <td>{\"id\":1622887785,\"name\":\"Jaan Ranniko\",\"is_reg...</td>\n      <td>AUD</td>\n      <td>1560911563</td>\n      <td>20000</td>\n      <td>1558319563</td>\n      <td>{\"web\":{\"project\":\"https://www.kickstarter.com...</td>\n      <td>14474.246942</td>\n      <td>False</td>\n    </tr>\n    <tr>\n      <th>...</th>\n      <td>...</td>\n      <td>...</td>\n      <td>...</td>\n      <td>...</td>\n      <td>...</td>\n      <td>...</td>\n      <td>...</td>\n      <td>...</td>\n      <td>...</td>\n    </tr>\n    <tr>\n      <th>1935151477</th>\n      <td>263</td>\n      <td>{\"id\":423088081,\"name\":\"Robbie Rozelle\",\"is_re...</td>\n      <td>USD</td>\n      <td>1539108987</td>\n      <td>17500</td>\n      <td>1536516987</td>\n      <td>{\"web\":{\"project\":\"https://www.kickstarter.com...</td>\n      <td>18491.000000</td>\n      <td>True</td>\n    </tr>\n    <tr>\n      <th>407213434</th>\n      <td>1</td>\n      <td>{\"id\":237906596,\"name\":\"Josh\",\"is_registered\":...</td>\n      <td>AUD</td>\n      <td>1459199117</td>\n      <td>60000</td>\n      <td>1454018717</td>\n      <td>{\"web\":{\"project\":\"https://www.kickstarter.com...</td>\n      <td>7.015629</td>\n      <td>False</td>\n    </tr>\n    <tr>\n      <th>10217623</th>\n      <td>3</td>\n      <td>{\"id\":1888439791,\"name\":\"Barbie Van Horn\",\"is_...</td>\n      <td>USD</td>\n      <td>1442473140</td>\n      <td>3300</td>\n      <td>1440125546</td>\n      <td>{\"web\":{\"project\":\"https://www.kickstarter.com...</td>\n      <td>70.000000</td>\n      <td>True</td>\n    </tr>\n    <tr>\n      <th>832299237</th>\n      <td>31</td>\n      <td>{\"id\":1431754195,\"name\":\"PrettyKittyCommission...</td>\n      <td>USD</td>\n      <td>1551672000</td>\n      <td>880</td>\n      <td>1548939650</td>\n      <td>{\"web\":{\"project\":\"https://www.kickstarter.com...</td>\n      <td>1155.000000</td>\n      <td>True</td>\n    </tr>\n    <tr>\n      <th>1449938411</th>\n      <td>0</td>\n      <td>{\"id\":1918443315,\"name\":\"Benjamin Paul\",\"is_re...</td>\n      <td>CAD</td>\n      <td>1503776585</td>\n      <td>100000</td>\n      <td>1501184585</td>\n      <td>{\"web\":{\"project\":\"https://www.kickstarter.com...</td>\n      <td>0.000000</td>\n      <td>False</td>\n    </tr>\n  </tbody>\n</table>\n<p>3768 rows × 9 columns</p>\n</div>"
     },
     "execution_count": 55,
     "metadata": {},
     "output_type": "execute_result"
    }
   ],
   "source": [
    "import os\n",
    "import pandas as pd\n",
    "\n",
    "files = os.listdir(\"Kickstarter Data\")\n",
    "data = pd.read_csv(\"Kickstarter Data\\\\\" + files.pop(0))\n",
    "\n",
    "# for file in files:\n",
    "#     data = pd.concat([data, pd.read_csv(\"Kickstarter Data\\\\\" + file)])\n",
    "#     print(file)\n",
    "\n",
    "data = data.set_index('id')\n",
    "data['U.S.'] = (data['country'] == \"US\")\n",
    "data = data.drop(columns=['blurb', 'category', 'converted_pledged_amount', 'country', 'created_at', 'currency_symbol', 'currency_trailing_code', 'current_currency', 'disable_communication', 'friends', 'fx_rate', 'is_backing', 'is_starrable', 'is_starred', 'location', 'name', 'permissions', 'photo', 'pledged', 'profile', 'slug', 'source_url', 'spotlight', 'staff_pick', 'state', 'state_changed_at', 'static_usd_rate', 'unread_messages_count', 'unseen_activity_count', 'usd_type'])\n",
    "data = data.rename(columns={\"backers_count\": \"no_backers\"})\n",
    "# convert 'goal' to USD using 'currency'!\n",
    "data"
   ]
  }
 ],
 "metadata": {
  "kernelspec": {
   "display_name": "Python 3",
   "language": "python",
   "name": "python3"
  },
  "language_info": {
   "codemirror_mode": {
    "name": "ipython",
    "version": 2
   },
   "file_extension": ".py",
   "mimetype": "text/x-python",
   "name": "python",
   "nbconvert_exporter": "python",
   "pygments_lexer": "ipython2",
   "version": "2.7.6"
  }
 },
 "nbformat": 4,
 "nbformat_minor": 0
}